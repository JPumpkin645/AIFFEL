{
 "cells": [
  {
   "cell_type": "markdown",
   "metadata": {},
   "source": [
    "# 0~9_Digit_분류기"
   ]
  },
  {
   "cell_type": "markdown",
   "metadata": {},
   "source": []
  },
  {
   "cell_type": "markdown",
   "metadata": {},
   "source": [
    "# 모듈 import"
   ]
  },
  {
   "cell_type": "code",
   "execution_count": 1,
   "metadata": {},
   "outputs": [],
   "source": [
    "from sklearn.datasets import load_digits\n",
    "from sklearn.model_selection import train_test_split\n",
    "from sklearn.metrics import classification_report\n",
    "from sklearn.metrics import accuracy_score"
   ]
  },
  {
   "cell_type": "markdown",
   "metadata": {},
   "source": [
    "# 데이터 준비"
   ]
  },
  {
   "cell_type": "code",
   "execution_count": 2,
   "metadata": {},
   "outputs": [],
   "source": [
    "digits = load_digits()\n",
    "digits_data = digits.data\n",
    "digits_label = digits.target"
   ]
  },
  {
   "cell_type": "markdown",
   "metadata": {},
   "source": [
    "# Target names 출력"
   ]
  },
  {
   "cell_type": "code",
   "execution_count": 3,
   "metadata": {
    "scrolled": true
   },
   "outputs": [
    {
     "data": {
      "text/plain": [
       "array([0, 1, 2, 3, 4, 5, 6, 7, 8, 9])"
      ]
     },
     "execution_count": 3,
     "metadata": {},
     "output_type": "execute_result"
    }
   ],
   "source": [
    "digits.target_names"
   ]
  },
  {
   "cell_type": "markdown",
   "metadata": {},
   "source": [
    "# Train & Test 데이터 분리"
   ]
  },
  {
   "cell_type": "code",
   "execution_count": 4,
   "metadata": {},
   "outputs": [],
   "source": [
    "X_train, X_test, y_train, y_test = train_test_split(digits_data, \n",
    "                                                    digits_label, \n",
    "                                                    test_size=0.4, \n",
    "                                                    random_state=15)"
   ]
  },
  {
   "cell_type": "markdown",
   "metadata": {},
   "source": [
    "# Decision Tree"
   ]
  },
  {
   "cell_type": "code",
   "execution_count": 5,
   "metadata": {
    "scrolled": true
   },
   "outputs": [
    {
     "name": "stdout",
     "output_type": "stream",
     "text": [
      "              precision    recall  f1-score   support\n",
      "\n",
      "           0       0.95      0.91      0.93        58\n",
      "           1       0.75      0.82      0.78        82\n",
      "           2       0.87      0.85      0.86        71\n",
      "           3       0.78      0.80      0.79        66\n",
      "           4       0.88      0.84      0.86        82\n",
      "           5       0.90      0.92      0.91        75\n",
      "           6       0.86      0.93      0.89        68\n",
      "           7       0.91      0.91      0.91        77\n",
      "           8       0.78      0.79      0.79        63\n",
      "           9       0.88      0.78      0.83        77\n",
      "\n",
      "    accuracy                           0.85       719\n",
      "   macro avg       0.86      0.85      0.85       719\n",
      "weighted avg       0.86      0.85      0.85       719\n",
      "\n",
      "accuracy: 0.8539638386648123\n"
     ]
    }
   ],
   "source": [
    "from sklearn.tree import DecisionTreeClassifier\n",
    "# from sklearn.metrics import classification_report\n",
    "\n",
    "decision_tree = DecisionTreeClassifier(random_state=15)\n",
    "decision_tree.fit(X_train, y_train)\n",
    "y_pred = decision_tree.predict(X_test)\n",
    "\n",
    "print(classification_report(y_test, y_pred))\n",
    "print(\"accuracy:\", accuracy_score(y_test, y_pred))"
   ]
  },
  {
   "cell_type": "markdown",
   "metadata": {},
   "source": [
    "# Random Forest"
   ]
  },
  {
   "cell_type": "code",
   "execution_count": 6,
   "metadata": {
    "scrolled": true
   },
   "outputs": [
    {
     "name": "stdout",
     "output_type": "stream",
     "text": [
      "              precision    recall  f1-score   support\n",
      "\n",
      "           0       0.98      0.97      0.97        58\n",
      "           1       0.99      0.98      0.98        82\n",
      "           2       1.00      1.00      1.00        71\n",
      "           3       0.93      0.97      0.95        66\n",
      "           4       0.98      0.98      0.98        82\n",
      "           5       0.96      1.00      0.98        75\n",
      "           6       1.00      0.99      0.99        68\n",
      "           7       0.99      0.99      0.99        77\n",
      "           8       0.95      0.95      0.95        63\n",
      "           9       0.96      0.92      0.94        77\n",
      "\n",
      "    accuracy                           0.97       719\n",
      "   macro avg       0.97      0.97      0.97       719\n",
      "weighted avg       0.97      0.97      0.97       719\n",
      "\n",
      "accuracy: 0.9735744089012517\n"
     ]
    }
   ],
   "source": [
    "from sklearn.ensemble import RandomForestClassifier\n",
    "# from sklearn.metrics import classification_report\n",
    "\n",
    "random_forest = RandomForestClassifier(random_state=15)\n",
    "random_forest.fit(X_train, y_train)\n",
    "y_pred = random_forest.predict(X_test)\n",
    "\n",
    "print(classification_report(y_test, y_pred))\n",
    "print(\"accuracy:\", accuracy_score(y_test, y_pred))"
   ]
  },
  {
   "cell_type": "markdown",
   "metadata": {},
   "source": [
    "# Support Vector Machine(SVM)"
   ]
  },
  {
   "cell_type": "code",
   "execution_count": 7,
   "metadata": {
    "scrolled": true
   },
   "outputs": [
    {
     "name": "stdout",
     "output_type": "stream",
     "text": [
      "              precision    recall  f1-score   support\n",
      "\n",
      "           0       1.00      0.98      0.99        58\n",
      "           1       0.99      1.00      0.99        82\n",
      "           2       1.00      1.00      1.00        71\n",
      "           3       1.00      0.97      0.98        66\n",
      "           4       0.99      0.98      0.98        82\n",
      "           5       0.97      1.00      0.99        75\n",
      "           6       1.00      1.00      1.00        68\n",
      "           7       0.99      1.00      0.99        77\n",
      "           8       0.95      0.97      0.96        63\n",
      "           9       0.97      0.96      0.97        77\n",
      "\n",
      "    accuracy                           0.99       719\n",
      "   macro avg       0.99      0.99      0.99       719\n",
      "weighted avg       0.99      0.99      0.99       719\n",
      "\n",
      "accuracy: 0.9860917941585535\n"
     ]
    }
   ],
   "source": [
    "from sklearn import svm\n",
    "# from sklearn.metrics import classification_report\n",
    "\n",
    "svm_model = svm.SVC()\n",
    "svm_model.fit(X_train, y_train)\n",
    "y_pred = svm_model.predict(X_test)\n",
    "\n",
    "print(classification_report(y_test, y_pred))\n",
    "print(\"accuracy:\", accuracy_score(y_test, y_pred))"
   ]
  },
  {
   "cell_type": "markdown",
   "metadata": {},
   "source": [
    "# Stochastic Gradient Descent Classifier (SGDClassifier)"
   ]
  },
  {
   "cell_type": "code",
   "execution_count": 8,
   "metadata": {
    "scrolled": true
   },
   "outputs": [
    {
     "name": "stdout",
     "output_type": "stream",
     "text": [
      "              precision    recall  f1-score   support\n",
      "\n",
      "           0       0.95      0.97      0.96        58\n",
      "           1       0.91      0.91      0.91        82\n",
      "           2       1.00      0.99      0.99        71\n",
      "           3       0.91      0.92      0.92        66\n",
      "           4       0.94      0.95      0.95        82\n",
      "           5       0.93      1.00      0.96        75\n",
      "           6       0.96      1.00      0.98        68\n",
      "           7       0.93      1.00      0.96        77\n",
      "           8       0.88      0.81      0.84        63\n",
      "           9       0.98      0.83      0.90        77\n",
      "\n",
      "    accuracy                           0.94       719\n",
      "   macro avg       0.94      0.94      0.94       719\n",
      "weighted avg       0.94      0.94      0.94       719\n",
      "\n",
      "accuracy: 0.9388038942976356\n"
     ]
    }
   ],
   "source": [
    "from sklearn.linear_model import SGDClassifier\n",
    "# from sklearn.metrics import classification_report\n",
    "\n",
    "sgd_model = SGDClassifier()\n",
    "sgd_model.fit(X_train, y_train)\n",
    "y_pred = sgd_model.predict(X_test)\n",
    "\n",
    "print(classification_report(y_test, y_pred))\n",
    "print(\"accuracy:\", accuracy_score(y_test, y_pred))"
   ]
  },
  {
   "cell_type": "markdown",
   "metadata": {},
   "source": [
    "# Logistic Regression"
   ]
  },
  {
   "cell_type": "code",
   "execution_count": 9,
   "metadata": {
    "scrolled": true
   },
   "outputs": [
    {
     "name": "stdout",
     "output_type": "stream",
     "text": [
      "              precision    recall  f1-score   support\n",
      "\n",
      "           0       0.98      0.98      0.98        58\n",
      "           1       0.94      0.98      0.96        82\n",
      "           2       1.00      0.99      0.99        71\n",
      "           3       0.97      0.91      0.94        66\n",
      "           4       0.98      0.96      0.97        82\n",
      "           5       0.94      0.96      0.95        75\n",
      "           6       0.99      0.99      0.99        68\n",
      "           7       0.99      1.00      0.99        77\n",
      "           8       0.89      0.94      0.91        63\n",
      "           9       0.96      0.92      0.94        77\n",
      "\n",
      "    accuracy                           0.96       719\n",
      "   macro avg       0.96      0.96      0.96       719\n",
      "weighted avg       0.96      0.96      0.96       719\n",
      "\n",
      "accuracy: 0.9624478442280946\n"
     ]
    },
    {
     "name": "stderr",
     "output_type": "stream",
     "text": [
      "/home/aiffel/.conda/envs/aiffel/lib/python3.8/site-packages/sklearn/linear_model/_logistic.py:762: ConvergenceWarning: lbfgs failed to converge (status=1):\n",
      "STOP: TOTAL NO. of ITERATIONS REACHED LIMIT.\n",
      "\n",
      "Increase the number of iterations (max_iter) or scale the data as shown in:\n",
      "    https://scikit-learn.org/stable/modules/preprocessing.html\n",
      "Please also refer to the documentation for alternative solver options:\n",
      "    https://scikit-learn.org/stable/modules/linear_model.html#logistic-regression\n",
      "  n_iter_i = _check_optimize_result(\n"
     ]
    }
   ],
   "source": [
    "from sklearn.linear_model import LogisticRegression\n",
    "# from sklearn.metrics import classification_report\n",
    "\n",
    "logistic_model = LogisticRegression()\n",
    "logistic_model.fit(X_train, y_train)\n",
    "y_pred = logistic_model.predict(X_test)\n",
    "\n",
    "print(classification_report(y_test, y_pred))\n",
    "print(\"accuracy:\", accuracy_score(y_test, y_pred))"
   ]
  },
  {
   "cell_type": "markdown",
   "metadata": {},
   "source": [
    "\n",
    "# 모델 평기하기\n",
    "\n",
    "0~9_Digit_분류기에서는 전체적으로 올바르게 판단하는 것이 중요하기 때문에 5가지 평가 지\n",
    "표중에 Accuracy를 주된 지표로 삼았다.\n",
    "\n",
    "0~9_Digit_분류기에서는 Support Vector Machine(SVM)에서 가장 좋은 성능을 보였고, Decision Tree에서 가장 낮은 성능을 보였다.\n",
    "\n",
    "따라서 0~9_Digit_분류기에서는 Support Vector Machine(SVM) 모델을 택하는 것이 최선의 선택이다.\n"
   ]
  }
 ],
 "metadata": {
  "kernelspec": {
   "display_name": "aiffel",
   "language": "python",
   "name": "aiffel"
  },
  "language_info": {
   "codemirror_mode": {
    "name": "ipython",
    "version": 3
   },
   "file_extension": ".py",
   "mimetype": "text/x-python",
   "name": "python",
   "nbconvert_exporter": "python",
   "pygments_lexer": "ipython3",
   "version": "3.8.3"
  }
 },
 "nbformat": 4,
 "nbformat_minor": 4
}
