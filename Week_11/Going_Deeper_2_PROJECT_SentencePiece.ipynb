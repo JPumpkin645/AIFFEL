{
 "cells": [
  {
   "cell_type": "markdown",
   "metadata": {},
   "source": [
    "# 프로젝트: 네이버 영화리뷰 감정분석 문제에 SentencePiece 적용해 보기"
   ]
  },
  {
   "cell_type": "markdown",
   "metadata": {},
   "source": [
    "https://github.com/jpark9595/Ex_9_sentiment_classification/blob/master/Ex_9_sentiment_classification.ipynb"
   ]
  },
  {
   "cell_type": "markdown",
   "metadata": {},
   "source": [
    "이전에 네이버 영화리뷰 감정분석 태스크를 다루어 본적이 있습니다.  \n",
    "한국어로 된 corpus를 다루기 위하여 KoNLpy에서 제공하는 형태소 분석기를 사용하여 텍스트를 전처리한뒤 RNN모델을 분류기로 사용했습니다."
   ]
  },
  {
   "cell_type": "markdown",
   "metadata": {},
   "source": [
    "이번에는 토크나이저를 sentencepiece로 바꾸어 이전과 성능을 비교해보는 작업을 해보도록 하겠습니다."
   ]
  },
  {
   "cell_type": "markdown",
   "metadata": {},
   "source": [
    "- 네이버 영화리뷰 감정분석 코퍼스에 sentencepiece를 적용시킨 모델 학습하기\n",
    "\n",
    "- 학습된 모델로 sp_tokenize() 메소드 구현하기\n",
    "\n",
    "- 구현된 토크나이저를 적용하여 네이버 영화리뷰 감정분석 모델을 재학습하기\n",
    "\n",
    "- KoNLPy 형태소 분석기를 사용한 모델과 성능 비교하기\n",
    "\n",
    "- (보너스) SentencePiece 모델의 model_type, vocab_size 등을 변경해 가면서 성늘 개선 여부 확인하기(Word Vector는 활용할 필요가 없습니다. 활용이 가능하지도 않을 것입니다.)"
   ]
  },
  {
   "cell_type": "markdown",
   "metadata": {},
   "source": [
    "영화리뷰를 다시 다운받아 사용하도록하겠습니다"
   ]
  },
  {
   "cell_type": "markdown",
   "metadata": {},
   "source": [
    "```bash\n",
    "$ wget https://raw.githubusercontent.com/e9t/nsmc/master/ratings_train.txt\n",
    "$ wget https://raw.githubusercontent.com/e9t/nsmc/master/ratings_test.txt\n",
    "$ mv ratings_*.txt ~/aiffel/sp_tokenizer/data\n",
    "```"
   ]
  },
  {
   "cell_type": "markdown",
   "metadata": {},
   "source": [
    "### 데이터 준비하기 & 확인"
   ]
  },
  {
   "cell_type": "code",
   "execution_count": 1,
   "metadata": {},
   "outputs": [
    {
     "data": {
      "text/html": [
       "<div>\n",
       "<style scoped>\n",
       "    .dataframe tbody tr th:only-of-type {\n",
       "        vertical-align: middle;\n",
       "    }\n",
       "\n",
       "    .dataframe tbody tr th {\n",
       "        vertical-align: top;\n",
       "    }\n",
       "\n",
       "    .dataframe thead th {\n",
       "        text-align: right;\n",
       "    }\n",
       "</style>\n",
       "<table border=\"1\" class=\"dataframe\">\n",
       "  <thead>\n",
       "    <tr style=\"text-align: right;\">\n",
       "      <th></th>\n",
       "      <th>id</th>\n",
       "      <th>document</th>\n",
       "      <th>label</th>\n",
       "    </tr>\n",
       "  </thead>\n",
       "  <tbody>\n",
       "    <tr>\n",
       "      <th>0</th>\n",
       "      <td>9976970</td>\n",
       "      <td>아 더빙.. 진짜 짜증나네요 목소리</td>\n",
       "      <td>0</td>\n",
       "    </tr>\n",
       "    <tr>\n",
       "      <th>1</th>\n",
       "      <td>3819312</td>\n",
       "      <td>흠...포스터보고 초딩영화줄....오버연기조차 가볍지 않구나</td>\n",
       "      <td>1</td>\n",
       "    </tr>\n",
       "    <tr>\n",
       "      <th>2</th>\n",
       "      <td>10265843</td>\n",
       "      <td>너무재밓었다그래서보는것을추천한다</td>\n",
       "      <td>0</td>\n",
       "    </tr>\n",
       "    <tr>\n",
       "      <th>3</th>\n",
       "      <td>9045019</td>\n",
       "      <td>교도소 이야기구먼 ..솔직히 재미는 없다..평점 조정</td>\n",
       "      <td>0</td>\n",
       "    </tr>\n",
       "    <tr>\n",
       "      <th>4</th>\n",
       "      <td>6483659</td>\n",
       "      <td>사이몬페그의 익살스런 연기가 돋보였던 영화!스파이더맨에서 늙어보이기만 했던 커스틴 ...</td>\n",
       "      <td>1</td>\n",
       "    </tr>\n",
       "  </tbody>\n",
       "</table>\n",
       "</div>"
      ],
      "text/plain": [
       "         id                                           document  label\n",
       "0   9976970                                아 더빙.. 진짜 짜증나네요 목소리      0\n",
       "1   3819312                  흠...포스터보고 초딩영화줄....오버연기조차 가볍지 않구나      1\n",
       "2  10265843                                  너무재밓었다그래서보는것을추천한다      0\n",
       "3   9045019                      교도소 이야기구먼 ..솔직히 재미는 없다..평점 조정      0\n",
       "4   6483659  사이몬페그의 익살스런 연기가 돋보였던 영화!스파이더맨에서 늙어보이기만 했던 커스틴 ...      1"
      ]
     },
     "execution_count": 1,
     "metadata": {},
     "output_type": "execute_result"
    }
   ],
   "source": [
    "import pandas as pd\n",
    "\n",
    "# 데이터를 읽어봅시다. \n",
    "train_data = pd.read_table('~/aiffel/sentiment_classification/ratings_train.txt')\n",
    "test_data = pd.read_table('~/aiffel/sentiment_classification/ratings_test.txt')\n",
    "\n",
    "train_data.head()"
   ]
  },
  {
   "cell_type": "code",
   "execution_count": 2,
   "metadata": {
    "scrolled": false
   },
   "outputs": [
    {
     "name": "stdout",
     "output_type": "stream",
     "text": [
      "150000\n",
      "50000\n"
     ]
    }
   ],
   "source": [
    "print(len(train_data))\n",
    "print(len(test_data))"
   ]
  },
  {
   "cell_type": "markdown",
   "metadata": {},
   "source": [
    "### 데이터 전처리하기"
   ]
  },
  {
   "cell_type": "markdown",
   "metadata": {},
   "source": [
    "중복된 데이터 제거 및 null값 제거하기"
   ]
  },
  {
   "cell_type": "code",
   "execution_count": 3,
   "metadata": {},
   "outputs": [],
   "source": [
    "train_data.drop_duplicates(subset=['document'], inplace=True)\n",
    "train_data = train_data.dropna(how = 'any')\n",
    "\n",
    "test_data.drop_duplicates(subset=['document'], inplace=True)\n",
    "test_data = test_data.dropna(how = 'any')"
   ]
  },
  {
   "cell_type": "code",
   "execution_count": 4,
   "metadata": {
    "scrolled": true
   },
   "outputs": [
    {
     "name": "stdout",
     "output_type": "stream",
     "text": [
      "False\n",
      "False\n"
     ]
    }
   ],
   "source": [
    "print(train_data.isnull().values.any())\n",
    "print(test_data.isnull().values.any())"
   ]
  },
  {
   "cell_type": "code",
   "execution_count": 5,
   "metadata": {},
   "outputs": [
    {
     "name": "stdout",
     "output_type": "stream",
     "text": [
      "146182\n",
      "49157\n"
     ]
    }
   ],
   "source": [
    "print(len(train_data))\n",
    "print(len(test_data))"
   ]
  },
  {
   "cell_type": "markdown",
   "metadata": {},
   "source": [
    "## Step 1. SentencePiece 설치하기"
   ]
  },
  {
   "cell_type": "markdown",
   "metadata": {},
   "source": [
    "$ pip install sentencepiece"
   ]
  },
  {
   "cell_type": "markdown",
   "metadata": {},
   "source": [
    "## Step 2. SentencePiece 모델 학습"
   ]
  },
  {
   "cell_type": "code",
   "execution_count": 6,
   "metadata": {},
   "outputs": [
    {
     "name": "stdout",
     "output_type": "stream",
     "text": [
      "1 Physical GPUs, 1 Logical GPUs\n"
     ]
    }
   ],
   "source": [
    "import tensorflow as tf\n",
    "gpus = tf.config.experimental.list_physical_devices('GPU')\n",
    "if gpus:\n",
    "  try:\n",
    "    # Currently, memory growth needs to be the same across GPUs\n",
    "    for gpu in gpus:\n",
    "      tf.config.experimental.set_memory_growth(gpu, True)\n",
    "    logical_gpus = tf.config.experimental.list_logical_devices('GPU')\n",
    "    print(len(gpus), \"Physical GPUs,\", len(logical_gpus), \"Logical GPUs\")\n",
    "  except RuntimeError as e:\n",
    "    # Memory growth must be set before GPUs have been initialized\n",
    "    print(e)"
   ]
  },
  {
   "cell_type": "code",
   "execution_count": 7,
   "metadata": {},
   "outputs": [],
   "source": [
    "import sentencepiece as spm\n",
    "import os\n",
    "\n",
    "temp_file = os.getenv('HOME')+'/aiffel/sp_tokenizer/data/korean-english-park.train.ko.temp'"
   ]
  },
  {
   "cell_type": "code",
   "execution_count": 8,
   "metadata": {},
   "outputs": [
    {
     "name": "stdout",
     "output_type": "stream",
     "text": [
      "-rw-r--r-- 1 aiffel aiffel 376897 10월 29 17:36 korean_spm.model\r\n",
      "-rw-r--r-- 1 aiffel aiffel 146388 10월 29 17:36 korean_spm.vocab\r\n"
     ]
    }
   ],
   "source": [
    "vocab_size = 8000\n",
    "\n",
    "spm.SentencePieceTrainer.Train(\n",
    "    '--input={} --model_prefix=korean_spm --vocab_size={}'.format(temp_file, vocab_size)    \n",
    ")\n",
    "#위 Train에서  --model_type = 'unigram'이 디폴트 적용되어 있습니다. --model_type = 'bpe' 로 옵션을 주어 변경할 수 있습니다.\n",
    "\n",
    "!ls -l korean_spm*"
   ]
  },
  {
   "cell_type": "code",
   "execution_count": 9,
   "metadata": {
    "scrolled": true
   },
   "outputs": [
    {
     "data": {
      "text/plain": [
       "True"
      ]
     },
     "execution_count": 9,
     "metadata": {},
     "output_type": "execute_result"
    }
   ],
   "source": [
    "s = spm.SentencePieceProcessor()\n",
    "s.Load('korean_spm.model')"
   ]
  },
  {
   "cell_type": "markdown",
   "metadata": {},
   "source": [
    "## Step 3. Tokenizer 함수 작성"
   ]
  },
  {
   "cell_type": "code",
   "execution_count": 10,
   "metadata": {},
   "outputs": [],
   "source": [
    "def sp_tokenize(s, corpus):\n",
    "\n",
    "    tensor = []\n",
    "\n",
    "    for sen in corpus:\n",
    "        tensor.append(s.EncodeAsIds(sen))\n",
    "\n",
    "    with open(\"./korean_spm.vocab\", 'r') as f:\n",
    "        vocab = f.readlines()\n",
    "\n",
    "    word_index = {}\n",
    "    index_word = {}\n",
    "\n",
    "    for idx, line in enumerate(vocab):\n",
    "        word = line.split(\"\\t\")[0]\n",
    "\n",
    "        word_index.update({idx:word})\n",
    "        index_word.update({word:idx})\n",
    "\n",
    "    tensor = tf.keras.preprocessing.sequence.pad_sequences(tensor, padding='post')\n",
    "\n",
    "    return tensor, word_index, index_word"
   ]
  },
  {
   "cell_type": "code",
   "execution_count": 11,
   "metadata": {},
   "outputs": [],
   "source": [
    "train_tensor, train_word_index, train_index_word = sp_tokenize(s, train_data['document'])\n",
    "test_tensor, test_word_index, test_index_word = sp_tokenize(s, test_data['document'])"
   ]
  },
  {
   "cell_type": "code",
   "execution_count": 12,
   "metadata": {},
   "outputs": [],
   "source": [
    "train_index = train_data['label']\n",
    "test_index = test_data['label']"
   ]
  },
  {
   "cell_type": "markdown",
   "metadata": {},
   "source": [
    "## Step 4. 네이버 영화리뷰 감정분석 문제에 SentencePiece 적용해 보기"
   ]
  },
  {
   "cell_type": "markdown",
   "metadata": {},
   "source": [
    "### 모델 구성하기"
   ]
  },
  {
   "cell_type": "code",
   "execution_count": 13,
   "metadata": {},
   "outputs": [
    {
     "name": "stdout",
     "output_type": "stream",
     "text": [
      "Model: \"sequential\"\n",
      "_________________________________________________________________\n",
      "Layer (type)                 Output Shape              Param #   \n",
      "=================================================================\n",
      "embedding (Embedding)        (None, None, 32)          256000    \n",
      "_________________________________________________________________\n",
      "lstm (LSTM)                  (None, None, 32)          8320      \n",
      "_________________________________________________________________\n",
      "spatial_dropout1d (SpatialDr (None, None, 32)          0         \n",
      "_________________________________________________________________\n",
      "dense (Dense)                (None, None, 8)           264       \n",
      "_________________________________________________________________\n",
      "dense_1 (Dense)              (None, None, 1)           9         \n",
      "=================================================================\n",
      "Total params: 264,593\n",
      "Trainable params: 264,593\n",
      "Non-trainable params: 0\n",
      "_________________________________________________________________\n"
     ]
    }
   ],
   "source": [
    "from tensorflow import keras\n",
    "word_vector_dim = 32\n",
    "\n",
    "model = keras.Sequential()\n",
    "model.add(keras.layers.Embedding(vocab_size, \n",
    "                                 word_vector_dim,\n",
    "                                 input_shape=(None,)))\n",
    "                                 \n",
    "model.add(keras.layers.LSTM(32, return_sequences = True))\n",
    "model.add(keras.layers.SpatialDropout1D(0.5))\n",
    "model.add(keras.layers.Dense(8, activation='relu'))\n",
    "model.add(keras.layers.Dense(1, activation='sigmoid')) \n",
    "model.summary()"
   ]
  },
  {
   "cell_type": "code",
   "execution_count": 14,
   "metadata": {},
   "outputs": [
    {
     "name": "stdout",
     "output_type": "stream",
     "text": [
      "(116182, 140)\n",
      "(116182,)\n"
     ]
    }
   ],
   "source": [
    "# train set: validation settrain set을 약 4:1의 비율로 생성하겠다.\n",
    "x_val = train_tensor[:30000]   \n",
    "y_val = train_index[:30000]\n",
    "\n",
    "partial_x_train = train_tensor[30000:]  \n",
    "partial_y_train = train_index[30000:]\n",
    "\n",
    "print(partial_x_train.shape)\n",
    "print(partial_y_train.shape)"
   ]
  },
  {
   "cell_type": "code",
   "execution_count": 15,
   "metadata": {},
   "outputs": [],
   "source": [
    "from tensorflow.keras.callbacks import ModelCheckpoint, EarlyStopping\n",
    "BATCH_SIZE = 1024\n",
    "EPOCHS = 100\n",
    "filename = 'checkpoint-epoch-{}-batch-{}-trial-001.h5'.format(EPOCHS, BATCH_SIZE)\n",
    "checkpoint = ModelCheckpoint(filename,             # file명을 지정합니다\n",
    "                             monitor='val_loss',   # val_loss 값이 개선되었을때 호출됩니다\n",
    "                             verbose=1,            # 로그를 출력합니다\n",
    "                             save_best_only=True,  # 가장 best 값만 저장합니다\n",
    "                             mode='auto'           # auto는 알아서 best를 찾습니다. min/max\n",
    "                            )\n",
    "earlystopping = EarlyStopping(monitor='val_loss',  # 모니터 기준 설정 (val loss) \n",
    "                              patience=20,         # 20회 Epoch동안 개선되지 않는다면 종료\n",
    "                             )"
   ]
  },
  {
   "cell_type": "code",
   "execution_count": 16,
   "metadata": {},
   "outputs": [],
   "source": [
    "from tensorflow.keras.callbacks import ReduceLROnPlateau\n",
    "# 콜백 정의\n",
    "reduceLR = ReduceLROnPlateau(\n",
    "    monitor='val_loss',  # 검증 손실을 기준으로 callback이 호출됩니다\n",
    "    factor=0.5,          # callback 호출시 학습률을 1/2로 줄입니다\n",
    "    patience=10,         # epoch 10 동안 개선되지 않으면 callback이 호출됩니다\n",
    ")"
   ]
  },
  {
   "cell_type": "code",
   "execution_count": 17,
   "metadata": {},
   "outputs": [
    {
     "name": "stdout",
     "output_type": "stream",
     "text": [
      "Epoch 1/100\n",
      "113/114 [============================>.] - ETA: 0s - loss: 0.6312 - accuracy: 0.6603\n",
      "Epoch 00001: val_loss improved from inf to 0.53884, saving model to checkpoint-epoch-100-batch-1024-trial-001.h5\n",
      "114/114 [==============================] - 3s 23ms/step - loss: 0.6309 - accuracy: 0.6608 - val_loss: 0.5388 - val_accuracy: 0.7720 - lr: 0.0010\n",
      "Epoch 2/100\n",
      "112/114 [============================>.] - ETA: 0s - loss: 0.4786 - accuracy: 0.7950\n",
      "Epoch 00002: val_loss improved from 0.53884 to 0.44332, saving model to checkpoint-epoch-100-batch-1024-trial-001.h5\n",
      "114/114 [==============================] - 2s 20ms/step - loss: 0.4783 - accuracy: 0.7952 - val_loss: 0.4433 - val_accuracy: 0.8034 - lr: 0.0010\n",
      "Epoch 3/100\n",
      "112/114 [============================>.] - ETA: 0s - loss: 0.4389 - accuracy: 0.8085\n",
      "Epoch 00003: val_loss improved from 0.44332 to 0.43572, saving model to checkpoint-epoch-100-batch-1024-trial-001.h5\n",
      "114/114 [==============================] - 2s 22ms/step - loss: 0.4387 - accuracy: 0.8086 - val_loss: 0.4357 - val_accuracy: 0.8055 - lr: 0.0010\n",
      "Epoch 4/100\n",
      "112/114 [============================>.] - ETA: 0s - loss: 0.4205 - accuracy: 0.8159\n",
      "Epoch 00004: val_loss improved from 0.43572 to 0.42780, saving model to checkpoint-epoch-100-batch-1024-trial-001.h5\n",
      "114/114 [==============================] - 2s 22ms/step - loss: 0.4206 - accuracy: 0.8160 - val_loss: 0.4278 - val_accuracy: 0.8068 - lr: 0.0010\n",
      "Epoch 5/100\n",
      "112/114 [============================>.] - ETA: 0s - loss: 0.4122 - accuracy: 0.8187\n",
      "Epoch 00005: val_loss did not improve from 0.42780\n",
      "114/114 [==============================] - 2s 22ms/step - loss: 0.4121 - accuracy: 0.8188 - val_loss: 0.4386 - val_accuracy: 0.8038 - lr: 0.0010\n",
      "Epoch 6/100\n",
      "112/114 [============================>.] - ETA: 0s - loss: 0.4064 - accuracy: 0.8217\n",
      "Epoch 00006: val_loss improved from 0.42780 to 0.42184, saving model to checkpoint-epoch-100-batch-1024-trial-001.h5\n",
      "114/114 [==============================] - 2s 21ms/step - loss: 0.4064 - accuracy: 0.8215 - val_loss: 0.4218 - val_accuracy: 0.8075 - lr: 0.0010\n",
      "Epoch 7/100\n",
      "112/114 [============================>.] - ETA: 0s - loss: 0.4059 - accuracy: 0.8209\n",
      "Epoch 00007: val_loss did not improve from 0.42184\n",
      "114/114 [==============================] - 2s 21ms/step - loss: 0.4059 - accuracy: 0.8209 - val_loss: 0.4258 - val_accuracy: 0.8065 - lr: 0.0010\n",
      "Epoch 8/100\n",
      "112/114 [============================>.] - ETA: 0s - loss: 0.3975 - accuracy: 0.8253\n",
      "Epoch 00008: val_loss improved from 0.42184 to 0.42122, saving model to checkpoint-epoch-100-batch-1024-trial-001.h5\n",
      "114/114 [==============================] - 2s 21ms/step - loss: 0.3973 - accuracy: 0.8254 - val_loss: 0.4212 - val_accuracy: 0.8083 - lr: 0.0010\n",
      "Epoch 9/100\n",
      "112/114 [============================>.] - ETA: 0s - loss: 0.3912 - accuracy: 0.8276\n",
      "Epoch 00009: val_loss improved from 0.42122 to 0.41501, saving model to checkpoint-epoch-100-batch-1024-trial-001.h5\n",
      "114/114 [==============================] - 2s 21ms/step - loss: 0.3917 - accuracy: 0.8273 - val_loss: 0.4150 - val_accuracy: 0.8098 - lr: 0.0010\n",
      "Epoch 10/100\n",
      "112/114 [============================>.] - ETA: 0s - loss: 0.3869 - accuracy: 0.8279\n",
      "Epoch 00010: val_loss improved from 0.41501 to 0.41428, saving model to checkpoint-epoch-100-batch-1024-trial-001.h5\n",
      "114/114 [==============================] - 2s 21ms/step - loss: 0.3868 - accuracy: 0.8280 - val_loss: 0.4143 - val_accuracy: 0.8106 - lr: 0.0010\n",
      "Epoch 11/100\n",
      "112/114 [============================>.] - ETA: 0s - loss: 0.3816 - accuracy: 0.8292\n",
      "Epoch 00011: val_loss improved from 0.41428 to 0.40951, saving model to checkpoint-epoch-100-batch-1024-trial-001.h5\n",
      "114/114 [==============================] - 2s 21ms/step - loss: 0.3819 - accuracy: 0.8291 - val_loss: 0.4095 - val_accuracy: 0.8113 - lr: 0.0010\n",
      "Epoch 12/100\n",
      "112/114 [============================>.] - ETA: 0s - loss: 0.3763 - accuracy: 0.8309\n",
      "Epoch 00012: val_loss did not improve from 0.40951\n",
      "114/114 [==============================] - 2s 20ms/step - loss: 0.3764 - accuracy: 0.8308 - val_loss: 0.4112 - val_accuracy: 0.8070 - lr: 0.0010\n",
      "Epoch 13/100\n",
      "112/114 [============================>.] - ETA: 0s - loss: 0.3699 - accuracy: 0.8325\n",
      "Epoch 00013: val_loss did not improve from 0.40951\n",
      "114/114 [==============================] - 2s 21ms/step - loss: 0.3701 - accuracy: 0.8324 - val_loss: 0.4121 - val_accuracy: 0.8120 - lr: 0.0010\n",
      "Epoch 14/100\n",
      "112/114 [============================>.] - ETA: 0s - loss: 0.3650 - accuracy: 0.8343\n",
      "Epoch 00014: val_loss did not improve from 0.40951\n",
      "114/114 [==============================] - 2s 21ms/step - loss: 0.3651 - accuracy: 0.8342 - val_loss: 0.4174 - val_accuracy: 0.8056 - lr: 0.0010\n",
      "Epoch 15/100\n",
      "111/114 [============================>.] - ETA: 0s - loss: 0.3595 - accuracy: 0.8368\n",
      "Epoch 00015: val_loss did not improve from 0.40951\n",
      "114/114 [==============================] - 2s 22ms/step - loss: 0.3594 - accuracy: 0.8368 - val_loss: 0.4159 - val_accuracy: 0.8113 - lr: 0.0010\n",
      "Epoch 16/100\n",
      "112/114 [============================>.] - ETA: 0s - loss: 0.3567 - accuracy: 0.8398\n",
      "Epoch 00016: val_loss did not improve from 0.40951\n",
      "114/114 [==============================] - 2s 21ms/step - loss: 0.3568 - accuracy: 0.8397 - val_loss: 0.4176 - val_accuracy: 0.8150 - lr: 0.0010\n",
      "Epoch 17/100\n",
      "112/114 [============================>.] - ETA: 0s - loss: 0.3522 - accuracy: 0.8408\n",
      "Epoch 00017: val_loss did not improve from 0.40951\n",
      "114/114 [==============================] - 2s 21ms/step - loss: 0.3524 - accuracy: 0.8407 - val_loss: 0.4162 - val_accuracy: 0.8151 - lr: 0.0010\n",
      "Epoch 18/100\n",
      "112/114 [============================>.] - ETA: 0s - loss: 0.3423 - accuracy: 0.8465\n",
      "Epoch 00018: val_loss did not improve from 0.40951\n",
      "114/114 [==============================] - 2s 21ms/step - loss: 0.3424 - accuracy: 0.8465 - val_loss: 0.4214 - val_accuracy: 0.8130 - lr: 0.0010\n",
      "Epoch 19/100\n",
      "112/114 [============================>.] - ETA: 0s - loss: 0.3369 - accuracy: 0.8495\n",
      "Epoch 00019: val_loss did not improve from 0.40951\n",
      "114/114 [==============================] - 2s 21ms/step - loss: 0.3370 - accuracy: 0.8495 - val_loss: 0.4162 - val_accuracy: 0.8153 - lr: 0.0010\n",
      "Epoch 20/100\n",
      "112/114 [============================>.] - ETA: 0s - loss: 0.3341 - accuracy: 0.8505\n",
      "Epoch 00020: val_loss did not improve from 0.40951\n",
      "114/114 [==============================] - 2s 21ms/step - loss: 0.3341 - accuracy: 0.8506 - val_loss: 0.4296 - val_accuracy: 0.8162 - lr: 0.0010\n",
      "Epoch 21/100\n",
      "112/114 [============================>.] - ETA: 0s - loss: 0.3277 - accuracy: 0.8544\n",
      "Epoch 00021: val_loss did not improve from 0.40951\n",
      "114/114 [==============================] - 2s 21ms/step - loss: 0.3277 - accuracy: 0.8545 - val_loss: 0.4242 - val_accuracy: 0.8149 - lr: 0.0010\n",
      "Epoch 22/100\n",
      "112/114 [============================>.] - ETA: 0s - loss: 0.3165 - accuracy: 0.8605\n",
      "Epoch 00022: val_loss did not improve from 0.40951\n",
      "114/114 [==============================] - 2s 21ms/step - loss: 0.3163 - accuracy: 0.8607 - val_loss: 0.4331 - val_accuracy: 0.8184 - lr: 5.0000e-04\n",
      "Epoch 23/100\n",
      "112/114 [============================>.] - ETA: 0s - loss: 0.3132 - accuracy: 0.8621\n",
      "Epoch 00023: val_loss did not improve from 0.40951\n",
      "114/114 [==============================] - 2s 21ms/step - loss: 0.3132 - accuracy: 0.8621 - val_loss: 0.4375 - val_accuracy: 0.8171 - lr: 5.0000e-04\n",
      "Epoch 24/100\n",
      "112/114 [============================>.] - ETA: 0s - loss: 0.3090 - accuracy: 0.8646\n",
      "Epoch 00024: val_loss did not improve from 0.40951\n",
      "114/114 [==============================] - 2s 21ms/step - loss: 0.3092 - accuracy: 0.8644 - val_loss: 0.4251 - val_accuracy: 0.8146 - lr: 5.0000e-04\n",
      "Epoch 25/100\n",
      "112/114 [============================>.] - ETA: 0s - loss: 0.3070 - accuracy: 0.8656\n",
      "Epoch 00025: val_loss did not improve from 0.40951\n",
      "114/114 [==============================] - 2s 21ms/step - loss: 0.3068 - accuracy: 0.8657 - val_loss: 0.4347 - val_accuracy: 0.8149 - lr: 5.0000e-04\n",
      "Epoch 26/100\n",
      "112/114 [============================>.] - ETA: 0s - loss: 0.3035 - accuracy: 0.8676\n",
      "Epoch 00026: val_loss did not improve from 0.40951\n",
      "114/114 [==============================] - 2s 21ms/step - loss: 0.3038 - accuracy: 0.8675 - val_loss: 0.4469 - val_accuracy: 0.8177 - lr: 5.0000e-04\n"
     ]
    },
    {
     "name": "stdout",
     "output_type": "stream",
     "text": [
      "Epoch 27/100\n",
      "112/114 [============================>.] - ETA: 0s - loss: 0.3022 - accuracy: 0.8690\n",
      "Epoch 00027: val_loss did not improve from 0.40951\n",
      "114/114 [==============================] - 2s 21ms/step - loss: 0.3023 - accuracy: 0.8689 - val_loss: 0.4282 - val_accuracy: 0.8156 - lr: 5.0000e-04\n",
      "Epoch 28/100\n",
      "112/114 [============================>.] - ETA: 0s - loss: 0.2992 - accuracy: 0.8705\n",
      "Epoch 00028: val_loss did not improve from 0.40951\n",
      "114/114 [==============================] - 2s 21ms/step - loss: 0.2993 - accuracy: 0.8705 - val_loss: 0.4535 - val_accuracy: 0.8161 - lr: 5.0000e-04\n",
      "Epoch 29/100\n",
      "113/114 [============================>.] - ETA: 0s - loss: 0.2954 - accuracy: 0.8730\n",
      "Epoch 00029: val_loss did not improve from 0.40951\n",
      "114/114 [==============================] - 3s 22ms/step - loss: 0.2955 - accuracy: 0.8730 - val_loss: 0.4571 - val_accuracy: 0.8143 - lr: 5.0000e-04\n",
      "Epoch 30/100\n",
      "111/114 [============================>.] - ETA: 0s - loss: 0.2936 - accuracy: 0.8748\n",
      "Epoch 00030: val_loss did not improve from 0.40951\n",
      "114/114 [==============================] - 2s 21ms/step - loss: 0.2936 - accuracy: 0.8747 - val_loss: 0.4580 - val_accuracy: 0.8140 - lr: 5.0000e-04\n",
      "Epoch 31/100\n",
      "112/114 [============================>.] - ETA: 0s - loss: 0.2909 - accuracy: 0.8758\n",
      "Epoch 00031: val_loss did not improve from 0.40951\n",
      "114/114 [==============================] - 2s 21ms/step - loss: 0.2912 - accuracy: 0.8757 - val_loss: 0.4482 - val_accuracy: 0.8132 - lr: 5.0000e-04\n"
     ]
    }
   ],
   "source": [
    "model.compile(optimizer='adam',\n",
    "              loss='binary_crossentropy',\n",
    "              metrics=['accuracy'])\n",
    "              \n",
    "\n",
    "history = model.fit(partial_x_train,\n",
    "                    partial_y_train,\n",
    "                    epochs=EPOCHS,\n",
    "                    batch_size=BATCH_SIZE,\n",
    "                    callbacks=[checkpoint, earlystopping, reduceLR],\n",
    "                    validation_data=(x_val, y_val),\n",
    "                    verbose=1)"
   ]
  },
  {
   "cell_type": "code",
   "execution_count": 18,
   "metadata": {},
   "outputs": [
    {
     "name": "stdout",
     "output_type": "stream",
     "text": [
      "1537/1537 [==============================] - 4s 2ms/step - loss: 0.4562 - accuracy: 0.8102\n",
      "[0.4561798572540283, 0.8102299571037292]\n"
     ]
    }
   ],
   "source": [
    "results = model.evaluate(test_tensor,  test_index, verbose=1)\n",
    "\n",
    "print(results)"
   ]
  },
  {
   "cell_type": "code",
   "execution_count": 19,
   "metadata": {},
   "outputs": [
    {
     "name": "stdout",
     "output_type": "stream",
     "text": [
      "dict_keys(['loss', 'accuracy', 'val_loss', 'val_accuracy', 'lr'])\n"
     ]
    }
   ],
   "source": [
    "history_dict = history.history\n",
    "print(history_dict.keys())"
   ]
  },
  {
   "cell_type": "code",
   "execution_count": 20,
   "metadata": {},
   "outputs": [
    {
     "data": {
      "image/png": "[encoded data removed]",
      "text/plain": [
       "<Figure size 432x288 with 1 Axes>"
      ]
     },
     "metadata": {
      "needs_background": "light"
     },
     "output_type": "display_data"
    }
   ],
   "source": [
    "import matplotlib.pyplot as plt\n",
    "\n",
    "acc = history_dict['accuracy']\n",
    "val_acc = history_dict['val_accuracy']\n",
    "loss = history_dict['loss']\n",
    "val_loss = history_dict['val_loss']\n",
    "\n",
    "epochs = range(1, len(acc) + 1)\n",
    "\n",
    "plt.plot(epochs, loss, 'bo', label='Training loss') # \"파란색 점\"\n",
    "plt.plot(epochs, val_loss, 'b', label='Validation loss') # \"파란 실선\"\n",
    "plt.title('Training and validation loss')\n",
    "plt.xlabel('Epochs')\n",
    "plt.ylabel('Loss')\n",
    "plt.legend()\n",
    "\n",
    "plt.show()"
   ]
  },
  {
   "cell_type": "code",
   "execution_count": 21,
   "metadata": {
    "scrolled": true
   },
   "outputs": [
    {
     "data": {
      "image/png": "[encoded data removed]",
      "text/plain": [
       "<Figure size 432x288 with 1 Axes>"
      ]
     },
     "metadata": {
      "needs_background": "light"
     },
     "output_type": "display_data"
    }
   ],
   "source": [
    "plt.clf()\n",
    "\n",
    "plt.plot(epochs, acc, 'bo', label='Training acc') # \"파란색 점\"\n",
    "plt.plot(epochs, val_acc, 'b', label='Validation acc') # \"파란 실선\"\n",
    "plt.title('Training and validation accuracy')\n",
    "plt.xlabel('Epochs')\n",
    "plt.ylabel('Accuracy')\n",
    "plt.legend()\n",
    "\n",
    "plt.show()"
   ]
  },
  {
   "cell_type": "markdown",
   "metadata": {},
   "source": [
    "# 결과 및 분석"
   ]
  },
  {
   "cell_type": "markdown",
   "metadata": {},
   "source": [
    "Ex_9에서 진행하였던 네이버 영화리뷰 감정 분석을 SentencePiece를 사용하여 분석해보았습니다.  \n",
    "최종적으로 81%의 정확도를 얻었지만 다른 토크나이저와 비교를 해보았을때 많이 뛰어난 성능을 보이는 것 같지는 않습니다. 추후에 하이퍼파라미터를 변경하여 더 높은 성능을 낼수 있는지 확인해 보겠습니다. "
   ]
  }
 ],
 "metadata": {
  "kernelspec": {
   "display_name": "aiffel",
   "language": "python",
   "name": "aiffel"
  },
  "language_info": {
   "codemirror_mode": {
    "name": "ipython",
    "version": 3
   },
   "file_extension": ".py",
   "mimetype": "text/x-python",
   "name": "python",
   "nbconvert_exporter": "python",
   "pygments_lexer": "ipython3",
   "version": "3.7.7"
  }
 },
 "nbformat": 4,
 "nbformat_minor": 4
}
