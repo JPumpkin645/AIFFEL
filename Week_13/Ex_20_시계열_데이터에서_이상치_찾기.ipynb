{
 "cells": [
  {
   "cell_type": "markdown",
   "metadata": {},
   "source": [
    "### Step 1. 데이터 구하기\n",
    "\n",
    "- 주식데이터, 기상데이터 등을 이용해 직접 구해야합니다."
   ]
  },
  {
   "cell_type": "markdown",
   "metadata": {},
   "source": [
    "데이터는 https://finance.yahoo.com/quote/NQ=F?p=NQ=F 에서 2010년 1월 1일부터 2019년 12월 31일까지로 잡았습니다."
   ]
  },
  {
   "cell_type": "code",
   "execution_count": 2,
   "metadata": {},
   "outputs": [],
   "source": [
    "import os\n",
    "\n",
    "csv_file = os.getenv('HOME')+'/aiffel/anomaly_detection/nasdaq/NQ=F.csv'"
   ]
  },
  {
   "cell_type": "code",
   "execution_count": 3,
   "metadata": {},
   "outputs": [
    {
     "data": {
      "text/html": [
       "<div>\n",
       "<style scoped>\n",
       "    .dataframe tbody tr th:only-of-type {\n",
       "        vertical-align: middle;\n",
       "    }\n",
       "\n",
       "    .dataframe tbody tr th {\n",
       "        vertical-align: top;\n",
       "    }\n",
       "\n",
       "    .dataframe thead th {\n",
       "        text-align: right;\n",
       "    }\n",
       "</style>\n",
       "<table border=\"1\" class=\"dataframe\">\n",
       "  <thead>\n",
       "    <tr style=\"text-align: right;\">\n",
       "      <th></th>\n",
       "      <th>Date</th>\n",
       "      <th>Open</th>\n",
       "      <th>High</th>\n",
       "      <th>Low</th>\n",
       "      <th>Close</th>\n",
       "      <th>Adj Close</th>\n",
       "      <th>Volume</th>\n",
       "    </tr>\n",
       "  </thead>\n",
       "  <tbody>\n",
       "    <tr>\n",
       "      <th>0</th>\n",
       "      <td>2010-01-04</td>\n",
       "      <td>1865.50</td>\n",
       "      <td>1889.00</td>\n",
       "      <td>1865.50</td>\n",
       "      <td>1886.75</td>\n",
       "      <td>1886.75</td>\n",
       "      <td>205157.0</td>\n",
       "    </tr>\n",
       "    <tr>\n",
       "      <th>1</th>\n",
       "      <td>2010-01-05</td>\n",
       "      <td>1886.50</td>\n",
       "      <td>1890.25</td>\n",
       "      <td>1876.00</td>\n",
       "      <td>1885.25</td>\n",
       "      <td>1885.25</td>\n",
       "      <td>208698.0</td>\n",
       "    </tr>\n",
       "    <tr>\n",
       "      <th>2</th>\n",
       "      <td>2010-01-06</td>\n",
       "      <td>1885.25</td>\n",
       "      <td>1891.75</td>\n",
       "      <td>1872.25</td>\n",
       "      <td>1878.50</td>\n",
       "      <td>1878.50</td>\n",
       "      <td>261274.0</td>\n",
       "    </tr>\n",
       "    <tr>\n",
       "      <th>3</th>\n",
       "      <td>2010-01-07</td>\n",
       "      <td>1877.75</td>\n",
       "      <td>1880.50</td>\n",
       "      <td>1865.75</td>\n",
       "      <td>1877.50</td>\n",
       "      <td>1877.50</td>\n",
       "      <td>241321.0</td>\n",
       "    </tr>\n",
       "    <tr>\n",
       "      <th>4</th>\n",
       "      <td>2010-01-08</td>\n",
       "      <td>1877.50</td>\n",
       "      <td>1892.50</td>\n",
       "      <td>1865.00</td>\n",
       "      <td>1890.00</td>\n",
       "      <td>1890.00</td>\n",
       "      <td>268934.0</td>\n",
       "    </tr>\n",
       "  </tbody>\n",
       "</table>\n",
       "</div>"
      ],
      "text/plain": [
       "         Date     Open     High      Low    Close  Adj Close    Volume\n",
       "0  2010-01-04  1865.50  1889.00  1865.50  1886.75    1886.75  205157.0\n",
       "1  2010-01-05  1886.50  1890.25  1876.00  1885.25    1885.25  208698.0\n",
       "2  2010-01-06  1885.25  1891.75  1872.25  1878.50    1878.50  261274.0\n",
       "3  2010-01-07  1877.75  1880.50  1865.75  1877.50    1877.50  241321.0\n",
       "4  2010-01-08  1877.50  1892.50  1865.00  1890.00    1890.00  268934.0"
      ]
     },
     "execution_count": 3,
     "metadata": {},
     "output_type": "execute_result"
    }
   ],
   "source": [
    "import pandas as pd\n",
    "\n",
    "df = pd.read_csv(csv_file)\n",
    "df.head(5)"
   ]
  },
  {
   "cell_type": "markdown",
   "metadata": {},
   "source": [
    "### Step 2. 기본 통계분석으로 이상치 찾기\n",
    "\n",
    "- 데이터의 분포를 그려보기\n",
    "- z-test로 정규분포를 만족하는지 확인하기\n",
    "- (정규분포를 만족하지 않으면) Time series decompose 수행후 residual로 분석하기\n",
    "\n",
    "#### 한 단계 더 나아가기\n",
    "\n",
    "- 왜 이상치로 분류됐는지 해석해보기\n",
    "- 탐지해낸 이상치(Anomalies)는 극단치(Outlier) 인지, 특이치(Novelties)인지 생각해보기\n",
    "- 이상치들을 제거/교정해야할지 내버려둘지 고민하기"
   ]
  },
  {
   "cell_type": "markdown",
   "metadata": {},
   "source": [
    "### Step 3. Unsupervised Clustering 으로 이상치 찾기\n",
    "\n",
    "- k-means로 분석하기\n",
    "- DBSCAN으로 분석하기\n",
    "\n",
    "#### 한 단계 더 나아가기  \n",
    "\n",
    "- 왜 이상치로 분류됐는지 해석해보기\n",
    "- 탐지해낸 이상치(Anomalies)는 극단치(Outlier) 인지, 특이치(Novelties)인지 생각해보기\n",
    "- 이 이상치를 제거/교정해야할지 내버려둘지 고민하기"
   ]
  },
  {
   "cell_type": "markdown",
   "metadata": {},
   "source": [
    "### Step 4. LSTM 오토인코더로 이상치 찾기\n",
    "\n",
    "- 딥러닝을 위한 데이터셋 만들기\n",
    "- 오토인코더 모델 생성하기\n",
    "- 학습이 정상적으로 수행됐는지 확인하기\n",
    "\n",
    "#### 한 단계 더 나아가기\n",
    "\n",
    "- 앞선 두가지 방법과 비교하기\n",
    "- 다른 이유가 뭔지 확인해보기\n",
    "- 더 나은 형태의 오토인코더 모델을 만들어보기"
   ]
  },
  {
   "cell_type": "code",
   "execution_count": null,
   "metadata": {},
   "outputs": [],
   "source": []
  }
 ],
 "metadata": {
  "kernelspec": {
   "display_name": "aiffel",
   "language": "python",
   "name": "aiffel"
  },
  "language_info": {
   "codemirror_mode": {
    "name": "ipython",
    "version": 3
   },
   "file_extension": ".py",
   "mimetype": "text/x-python",
   "name": "python",
   "nbconvert_exporter": "python",
   "pygments_lexer": "ipython3",
   "version": "3.7.7"
  }
 },
 "nbformat": 4,
 "nbformat_minor": 4
}
