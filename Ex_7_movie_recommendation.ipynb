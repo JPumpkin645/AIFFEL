{
 "cells": [
  {
   "cell_type": "markdown",
   "metadata": {},
   "source": [
    "# 파일 불러오기 및 전처리"
   ]
  },
  {
   "cell_type": "code",
   "execution_count": 1,
   "metadata": {},
   "outputs": [
    {
     "data": {
      "text/html": [
       "<div>\n",
       "<style scoped>\n",
       "    .dataframe tbody tr th:only-of-type {\n",
       "        vertical-align: middle;\n",
       "    }\n",
       "\n",
       "    .dataframe tbody tr th {\n",
       "        vertical-align: top;\n",
       "    }\n",
       "\n",
       "    .dataframe thead th {\n",
       "        text-align: right;\n",
       "    }\n",
       "</style>\n",
       "<table border=\"1\" class=\"dataframe\">\n",
       "  <thead>\n",
       "    <tr style=\"text-align: right;\">\n",
       "      <th></th>\n",
       "      <th>user_id</th>\n",
       "      <th>movie_id</th>\n",
       "      <th>rating</th>\n",
       "      <th>timestamp</th>\n",
       "    </tr>\n",
       "  </thead>\n",
       "  <tbody>\n",
       "    <tr>\n",
       "      <th>0</th>\n",
       "      <td>1</td>\n",
       "      <td>1193</td>\n",
       "      <td>5</td>\n",
       "      <td>978300760</td>\n",
       "    </tr>\n",
       "    <tr>\n",
       "      <th>1</th>\n",
       "      <td>1</td>\n",
       "      <td>661</td>\n",
       "      <td>3</td>\n",
       "      <td>978302109</td>\n",
       "    </tr>\n",
       "    <tr>\n",
       "      <th>2</th>\n",
       "      <td>1</td>\n",
       "      <td>914</td>\n",
       "      <td>3</td>\n",
       "      <td>978301968</td>\n",
       "    </tr>\n",
       "    <tr>\n",
       "      <th>3</th>\n",
       "      <td>1</td>\n",
       "      <td>3408</td>\n",
       "      <td>4</td>\n",
       "      <td>978300275</td>\n",
       "    </tr>\n",
       "    <tr>\n",
       "      <th>4</th>\n",
       "      <td>1</td>\n",
       "      <td>2355</td>\n",
       "      <td>5</td>\n",
       "      <td>978824291</td>\n",
       "    </tr>\n",
       "  </tbody>\n",
       "</table>\n",
       "</div>"
      ],
      "text/plain": [
       "   user_id  movie_id  rating  timestamp\n",
       "0        1      1193       5  978300760\n",
       "1        1       661       3  978302109\n",
       "2        1       914       3  978301968\n",
       "3        1      3408       4  978300275\n",
       "4        1      2355       5  978824291"
      ]
     },
     "execution_count": 1,
     "metadata": {},
     "output_type": "execute_result"
    }
   ],
   "source": [
    "import os\n",
    "import pandas as pd\n",
    "import missingno as msno\n",
    "\n",
    "rating_file_path=os.getenv('HOME') + '/aiffel/recommendata_iu/data/ml-1m/ratings.dat'\n",
    "ratings_cols = ['user_id', 'movie_id','rating', 'timestamp']\n",
    "ratings = pd.read_csv(rating_file_path, sep='::', names=ratings_cols, engine='python')\n",
    "orginal_data_size = len(ratings)\n",
    "ratings.head()"
   ]
  },
  {
   "cell_type": "code",
   "execution_count": 2,
   "metadata": {},
   "outputs": [
    {
     "name": "stdout",
     "output_type": "stream",
     "text": [
      "orginal_data_size: 1000209, filtered_data_size: 836478\n",
      "Ratio of Remaining Data is 83.63%\n"
     ]
    }
   ],
   "source": [
    "# 3점 이상만 남깁니다.\n",
    "ratings = ratings[ratings['rating']>=3]\n",
    "filtered_data_size = len(ratings)\n",
    "\n",
    "print(f'orginal_data_size: {orginal_data_size}, filtered_data_size: {filtered_data_size}')\n",
    "print(f'Ratio of Remaining Data is {filtered_data_size / orginal_data_size:.2%}')"
   ]
  },
  {
   "cell_type": "code",
   "execution_count": 3,
   "metadata": {},
   "outputs": [],
   "source": [
    "# rating 컬럼의 이름을 play로 바꿉니다.\n",
    "ratings.rename(columns={'rating':'play'}, inplace=True)"
   ]
  },
  {
   "cell_type": "code",
   "execution_count": 4,
   "metadata": {
    "scrolled": true
   },
   "outputs": [
    {
     "data": {
      "text/html": [
       "<div>\n",
       "<style scoped>\n",
       "    .dataframe tbody tr th:only-of-type {\n",
       "        vertical-align: middle;\n",
       "    }\n",
       "\n",
       "    .dataframe tbody tr th {\n",
       "        vertical-align: top;\n",
       "    }\n",
       "\n",
       "    .dataframe thead th {\n",
       "        text-align: right;\n",
       "    }\n",
       "</style>\n",
       "<table border=\"1\" class=\"dataframe\">\n",
       "  <thead>\n",
       "    <tr style=\"text-align: right;\">\n",
       "      <th></th>\n",
       "      <th>user_id</th>\n",
       "      <th>movie_id</th>\n",
       "      <th>play</th>\n",
       "      <th>timestamp</th>\n",
       "    </tr>\n",
       "  </thead>\n",
       "  <tbody>\n",
       "    <tr>\n",
       "      <th>0</th>\n",
       "      <td>1</td>\n",
       "      <td>1193</td>\n",
       "      <td>5</td>\n",
       "      <td>978300760</td>\n",
       "    </tr>\n",
       "    <tr>\n",
       "      <th>1</th>\n",
       "      <td>1</td>\n",
       "      <td>661</td>\n",
       "      <td>3</td>\n",
       "      <td>978302109</td>\n",
       "    </tr>\n",
       "    <tr>\n",
       "      <th>2</th>\n",
       "      <td>1</td>\n",
       "      <td>914</td>\n",
       "      <td>3</td>\n",
       "      <td>978301968</td>\n",
       "    </tr>\n",
       "    <tr>\n",
       "      <th>3</th>\n",
       "      <td>1</td>\n",
       "      <td>3408</td>\n",
       "      <td>4</td>\n",
       "      <td>978300275</td>\n",
       "    </tr>\n",
       "    <tr>\n",
       "      <th>4</th>\n",
       "      <td>1</td>\n",
       "      <td>2355</td>\n",
       "      <td>5</td>\n",
       "      <td>978824291</td>\n",
       "    </tr>\n",
       "  </tbody>\n",
       "</table>\n",
       "</div>"
      ],
      "text/plain": [
       "   user_id  movie_id  play  timestamp\n",
       "0        1      1193     5  978300760\n",
       "1        1       661     3  978302109\n",
       "2        1       914     3  978301968\n",
       "3        1      3408     4  978300275\n",
       "4        1      2355     5  978824291"
      ]
     },
     "execution_count": 4,
     "metadata": {},
     "output_type": "execute_result"
    }
   ],
   "source": [
    "ratings.head()"
   ]
  },
  {
   "cell_type": "markdown",
   "metadata": {},
   "source": [
    "## ratings 데이터프레임 정보 및 결측치 확인"
   ]
  },
  {
   "cell_type": "code",
   "execution_count": 5,
   "metadata": {
    "scrolled": false
   },
   "outputs": [
    {
     "data": {
      "text/plain": [
       "3628"
      ]
     },
     "execution_count": 5,
     "metadata": {},
     "output_type": "execute_result"
    }
   ],
   "source": [
    "ratings['movie_id'].nunique()"
   ]
  },
  {
   "cell_type": "code",
   "execution_count": 6,
   "metadata": {
    "scrolled": true
   },
   "outputs": [
    {
     "data": {
      "text/plain": [
       "6039"
      ]
     },
     "execution_count": 6,
     "metadata": {},
     "output_type": "execute_result"
    }
   ],
   "source": [
    "ratings['user_id'].nunique()"
   ]
  },
  {
   "cell_type": "code",
   "execution_count": 7,
   "metadata": {},
   "outputs": [
    {
     "data": {
      "text/plain": [
       "<matplotlib.axes._subplots.AxesSubplot at 0x7ff22b897f50>"
      ]
     },
     "execution_count": 7,
     "metadata": {},
     "output_type": "execute_result"
    },
    {
     "data": {
      "image/png": "[encoded data removed]",
      "text/plain": [
       "<Figure size 1800x720 with 2 Axes>"
      ]
     },
     "metadata": {
      "needs_background": "light"
     },
     "output_type": "display_data"
    }
   ],
   "source": [
    "msno.matrix(ratings)"
   ]
  },
  {
   "cell_type": "code",
   "execution_count": 8,
   "metadata": {
    "scrolled": true
   },
   "outputs": [
    {
     "data": {
      "text/html": [
       "<div>\n",
       "<style scoped>\n",
       "    .dataframe tbody tr th:only-of-type {\n",
       "        vertical-align: middle;\n",
       "    }\n",
       "\n",
       "    .dataframe tbody tr th {\n",
       "        vertical-align: top;\n",
       "    }\n",
       "\n",
       "    .dataframe thead th {\n",
       "        text-align: right;\n",
       "    }\n",
       "</style>\n",
       "<table border=\"1\" class=\"dataframe\">\n",
       "  <thead>\n",
       "    <tr style=\"text-align: right;\">\n",
       "      <th></th>\n",
       "      <th>movie_id</th>\n",
       "      <th>title</th>\n",
       "      <th>genre</th>\n",
       "    </tr>\n",
       "  </thead>\n",
       "  <tbody>\n",
       "    <tr>\n",
       "      <th>0</th>\n",
       "      <td>1</td>\n",
       "      <td>Toy_Story_(1995)</td>\n",
       "      <td>Animation|Children's|Comedy</td>\n",
       "    </tr>\n",
       "    <tr>\n",
       "      <th>1</th>\n",
       "      <td>2</td>\n",
       "      <td>Jumanji_(1995)</td>\n",
       "      <td>Adventure|Children's|Fantasy</td>\n",
       "    </tr>\n",
       "    <tr>\n",
       "      <th>2</th>\n",
       "      <td>3</td>\n",
       "      <td>Grumpier_Old_Men_(1995)</td>\n",
       "      <td>Comedy|Romance</td>\n",
       "    </tr>\n",
       "    <tr>\n",
       "      <th>3</th>\n",
       "      <td>4</td>\n",
       "      <td>Waiting_to_Exhale_(1995)</td>\n",
       "      <td>Comedy|Drama</td>\n",
       "    </tr>\n",
       "    <tr>\n",
       "      <th>4</th>\n",
       "      <td>5</td>\n",
       "      <td>Father_of_the_Bride_Part_II_(1995)</td>\n",
       "      <td>Comedy</td>\n",
       "    </tr>\n",
       "  </tbody>\n",
       "</table>\n",
       "</div>"
      ],
      "text/plain": [
       "   movie_id                               title                         genre\n",
       "0         1                    Toy_Story_(1995)   Animation|Children's|Comedy\n",
       "1         2                      Jumanji_(1995)  Adventure|Children's|Fantasy\n",
       "2         3             Grumpier_Old_Men_(1995)                Comedy|Romance\n",
       "3         4            Waiting_to_Exhale_(1995)                  Comedy|Drama\n",
       "4         5  Father_of_the_Bride_Part_II_(1995)                        Comedy"
      ]
     },
     "execution_count": 8,
     "metadata": {},
     "output_type": "execute_result"
    }
   ],
   "source": [
    "# 영화 제목을 보기 위해 메타 데이터를 읽어옵니다.\n",
    "movie_file_path=os.getenv('HOME') + '/aiffel/recommendata_iu/data/ml-1m/movies.dat'\n",
    "cols = ['movie_id', 'title', 'genre'] \n",
    "movies = pd.read_csv(movie_file_path, sep='::', names=cols, engine='python')\n",
    "movies.title = movies.title.str.replace(' ', '_')\n",
    "movies.head()"
   ]
  },
  {
   "cell_type": "markdown",
   "metadata": {},
   "source": [
    "## movies 데이터프레임 정보 및 결측치 확인"
   ]
  },
  {
   "cell_type": "code",
   "execution_count": 9,
   "metadata": {
    "scrolled": true
   },
   "outputs": [
    {
     "data": {
      "text/plain": [
       "3883"
      ]
     },
     "execution_count": 9,
     "metadata": {},
     "output_type": "execute_result"
    }
   ],
   "source": [
    "movies['movie_id'].nunique()"
   ]
  },
  {
   "cell_type": "code",
   "execution_count": 10,
   "metadata": {},
   "outputs": [
    {
     "data": {
      "text/plain": [
       "3883"
      ]
     },
     "execution_count": 10,
     "metadata": {},
     "output_type": "execute_result"
    }
   ],
   "source": [
    "movies['title'].nunique()"
   ]
  },
  {
   "cell_type": "code",
   "execution_count": 11,
   "metadata": {},
   "outputs": [
    {
     "data": {
      "text/plain": [
       "301"
      ]
     },
     "execution_count": 11,
     "metadata": {},
     "output_type": "execute_result"
    }
   ],
   "source": [
    "movies['genre'].nunique()"
   ]
  },
  {
   "cell_type": "code",
   "execution_count": 12,
   "metadata": {},
   "outputs": [
    {
     "data": {
      "text/plain": [
       "<matplotlib.axes._subplots.AxesSubplot at 0x7ff230caa8d0>"
      ]
     },
     "execution_count": 12,
     "metadata": {},
     "output_type": "execute_result"
    },
    {
     "data": {
      "image/png": "[encoded data removed]",
      "text/plain": [
       "<Figure size 1800x720 with 2 Axes>"
      ]
     },
     "metadata": {
      "needs_background": "light"
     },
     "output_type": "display_data"
    }
   ],
   "source": [
    "msno.matrix(movies)"
   ]
  },
  {
   "cell_type": "code",
   "execution_count": 13,
   "metadata": {},
   "outputs": [],
   "source": [
    "# 유저, 영화 indexing 하는 코드 idx는 index의 약자입니다.\n",
    "idx_to_movie = {i:v for i,v in zip(movies['movie_id'],movies['title'])}\n",
    "movie_to_idx = {v:i for i,v in zip(movies['movie_id'],movies['title'])}"
   ]
  },
  {
   "cell_type": "markdown",
   "metadata": {},
   "source": [
    "merge함수 대신 map함수 사용해서 데이터프레임에 movie_name column추가하기"
   ]
  },
  {
   "cell_type": "code",
   "execution_count": 14,
   "metadata": {},
   "outputs": [],
   "source": [
    "ratings['movie_name'] = ratings['movie_id'].map(idx_to_movie)"
   ]
  },
  {
   "cell_type": "code",
   "execution_count": 15,
   "metadata": {
    "scrolled": true
   },
   "outputs": [
    {
     "name": "stdout",
     "output_type": "stream",
     "text": [
      "<class 'pandas.core.frame.DataFrame'>\n"
     ]
    },
    {
     "data": {
      "text/html": [
       "<div>\n",
       "<style scoped>\n",
       "    .dataframe tbody tr th:only-of-type {\n",
       "        vertical-align: middle;\n",
       "    }\n",
       "\n",
       "    .dataframe tbody tr th {\n",
       "        vertical-align: top;\n",
       "    }\n",
       "\n",
       "    .dataframe thead th {\n",
       "        text-align: right;\n",
       "    }\n",
       "</style>\n",
       "<table border=\"1\" class=\"dataframe\">\n",
       "  <thead>\n",
       "    <tr style=\"text-align: right;\">\n",
       "      <th></th>\n",
       "      <th>user_id</th>\n",
       "      <th>movie_id</th>\n",
       "      <th>play</th>\n",
       "      <th>timestamp</th>\n",
       "      <th>movie_name</th>\n",
       "    </tr>\n",
       "  </thead>\n",
       "  <tbody>\n",
       "    <tr>\n",
       "      <th>0</th>\n",
       "      <td>1</td>\n",
       "      <td>1193</td>\n",
       "      <td>5</td>\n",
       "      <td>978300760</td>\n",
       "      <td>One_Flew_Over_the_Cuckoo's_Nest_(1975)</td>\n",
       "    </tr>\n",
       "    <tr>\n",
       "      <th>1</th>\n",
       "      <td>1</td>\n",
       "      <td>661</td>\n",
       "      <td>3</td>\n",
       "      <td>978302109</td>\n",
       "      <td>James_and_the_Giant_Peach_(1996)</td>\n",
       "    </tr>\n",
       "    <tr>\n",
       "      <th>2</th>\n",
       "      <td>1</td>\n",
       "      <td>914</td>\n",
       "      <td>3</td>\n",
       "      <td>978301968</td>\n",
       "      <td>My_Fair_Lady_(1964)</td>\n",
       "    </tr>\n",
       "    <tr>\n",
       "      <th>3</th>\n",
       "      <td>1</td>\n",
       "      <td>3408</td>\n",
       "      <td>4</td>\n",
       "      <td>978300275</td>\n",
       "      <td>Erin_Brockovich_(2000)</td>\n",
       "    </tr>\n",
       "    <tr>\n",
       "      <th>4</th>\n",
       "      <td>1</td>\n",
       "      <td>2355</td>\n",
       "      <td>5</td>\n",
       "      <td>978824291</td>\n",
       "      <td>Bug's_Life,_A_(1998)</td>\n",
       "    </tr>\n",
       "    <tr>\n",
       "      <th>...</th>\n",
       "      <td>...</td>\n",
       "      <td>...</td>\n",
       "      <td>...</td>\n",
       "      <td>...</td>\n",
       "      <td>...</td>\n",
       "    </tr>\n",
       "    <tr>\n",
       "      <th>1000203</th>\n",
       "      <td>6040</td>\n",
       "      <td>1090</td>\n",
       "      <td>3</td>\n",
       "      <td>956715518</td>\n",
       "      <td>Platoon_(1986)</td>\n",
       "    </tr>\n",
       "    <tr>\n",
       "      <th>1000205</th>\n",
       "      <td>6040</td>\n",
       "      <td>1094</td>\n",
       "      <td>5</td>\n",
       "      <td>956704887</td>\n",
       "      <td>Crying_Game,_The_(1992)</td>\n",
       "    </tr>\n",
       "    <tr>\n",
       "      <th>1000206</th>\n",
       "      <td>6040</td>\n",
       "      <td>562</td>\n",
       "      <td>5</td>\n",
       "      <td>956704746</td>\n",
       "      <td>Welcome_to_the_Dollhouse_(1995)</td>\n",
       "    </tr>\n",
       "    <tr>\n",
       "      <th>1000207</th>\n",
       "      <td>6040</td>\n",
       "      <td>1096</td>\n",
       "      <td>4</td>\n",
       "      <td>956715648</td>\n",
       "      <td>Sophie's_Choice_(1982)</td>\n",
       "    </tr>\n",
       "    <tr>\n",
       "      <th>1000208</th>\n",
       "      <td>6040</td>\n",
       "      <td>1097</td>\n",
       "      <td>4</td>\n",
       "      <td>956715569</td>\n",
       "      <td>E.T._the_Extra-Terrestrial_(1982)</td>\n",
       "    </tr>\n",
       "  </tbody>\n",
       "</table>\n",
       "<p>836478 rows × 5 columns</p>\n",
       "</div>"
      ],
      "text/plain": [
       "         user_id  movie_id  play  timestamp  \\\n",
       "0              1      1193     5  978300760   \n",
       "1              1       661     3  978302109   \n",
       "2              1       914     3  978301968   \n",
       "3              1      3408     4  978300275   \n",
       "4              1      2355     5  978824291   \n",
       "...          ...       ...   ...        ...   \n",
       "1000203     6040      1090     3  956715518   \n",
       "1000205     6040      1094     5  956704887   \n",
       "1000206     6040       562     5  956704746   \n",
       "1000207     6040      1096     4  956715648   \n",
       "1000208     6040      1097     4  956715569   \n",
       "\n",
       "                                     movie_name  \n",
       "0        One_Flew_Over_the_Cuckoo's_Nest_(1975)  \n",
       "1              James_and_the_Giant_Peach_(1996)  \n",
       "2                           My_Fair_Lady_(1964)  \n",
       "3                        Erin_Brockovich_(2000)  \n",
       "4                          Bug's_Life,_A_(1998)  \n",
       "...                                         ...  \n",
       "1000203                          Platoon_(1986)  \n",
       "1000205                 Crying_Game,_The_(1992)  \n",
       "1000206         Welcome_to_the_Dollhouse_(1995)  \n",
       "1000207                  Sophie's_Choice_(1982)  \n",
       "1000208       E.T._the_Extra-Terrestrial_(1982)  \n",
       "\n",
       "[836478 rows x 5 columns]"
      ]
     },
     "execution_count": 15,
     "metadata": {},
     "output_type": "execute_result"
    }
   ],
   "source": [
    "print(type(ratings))\n",
    "ratings"
   ]
  },
  {
   "cell_type": "markdown",
   "metadata": {},
   "source": [
    "### ratings에 있는 유니크한 영화 개수"
   ]
  },
  {
   "cell_type": "code",
   "execution_count": 16,
   "metadata": {},
   "outputs": [
    {
     "data": {
      "text/plain": [
       "3628"
      ]
     },
     "execution_count": 16,
     "metadata": {},
     "output_type": "execute_result"
    }
   ],
   "source": [
    "ratings['movie_id'].nunique()"
   ]
  },
  {
   "cell_type": "markdown",
   "metadata": {},
   "source": [
    "### ratings에 있는 유니크한 사용자 수"
   ]
  },
  {
   "cell_type": "code",
   "execution_count": 17,
   "metadata": {
    "scrolled": false
   },
   "outputs": [
    {
     "data": {
      "text/plain": [
       "6039"
      ]
     },
     "execution_count": 17,
     "metadata": {},
     "output_type": "execute_result"
    }
   ],
   "source": [
    "ratings['user_id'].nunique()"
   ]
  },
  {
   "cell_type": "markdown",
   "metadata": {},
   "source": [
    "### 가장 인기있는 영화 30개(인기순)"
   ]
  },
  {
   "cell_type": "code",
   "execution_count": 18,
   "metadata": {
    "scrolled": true
   },
   "outputs": [
    {
     "data": {
      "text/plain": [
       "movie_name\n",
       "American_Beauty_(1999)                                   3211\n",
       "Star_Wars:_Episode_IV_-_A_New_Hope_(1977)                2910\n",
       "Star_Wars:_Episode_V_-_The_Empire_Strikes_Back_(1980)    2885\n",
       "Star_Wars:_Episode_VI_-_Return_of_the_Jedi_(1983)        2716\n",
       "Saving_Private_Ryan_(1998)                               2561\n",
       "Terminator_2:_Judgment_Day_(1991)                        2509\n",
       "Silence_of_the_Lambs,_The_(1991)                         2498\n",
       "Raiders_of_the_Lost_Ark_(1981)                           2473\n",
       "Back_to_the_Future_(1985)                                2460\n",
       "Matrix,_The_(1999)                                       2434\n",
       "Jurassic_Park_(1993)                                     2413\n",
       "Sixth_Sense,_The_(1999)                                  2385\n",
       "Fargo_(1996)                                             2371\n",
       "Braveheart_(1995)                                        2314\n",
       "Men_in_Black_(1997)                                      2297\n",
       "Schindler's_List_(1993)                                  2257\n",
       "Princess_Bride,_The_(1987)                               2252\n",
       "Shakespeare_in_Love_(1998)                               2213\n",
       "L.A._Confidential_(1997)                                 2210\n",
       "Shawshank_Redemption,_The_(1994)                         2194\n",
       "Godfather,_The_(1972)                                    2167\n",
       "Groundhog_Day_(1993)                                     2121\n",
       "E.T._the_Extra-Terrestrial_(1982)                        2102\n",
       "Being_John_Malkovich_(1999)                              2066\n",
       "Ghostbusters_(1984)                                      2051\n",
       "Pulp_Fiction_(1994)                                      2030\n",
       "Forrest_Gump_(1994)                                      2022\n",
       "Terminator,_The_(1984)                                   2019\n",
       "Toy_Story_(1995)                                         2000\n",
       "Fugitive,_The_(1993)                                     1941\n",
       "Name: user_id, dtype: int64"
      ]
     },
     "execution_count": 18,
     "metadata": {},
     "output_type": "execute_result"
    }
   ],
   "source": [
    "top_movie = ratings.groupby('movie_name')['user_id'].count()\n",
    "top_movie.sort_values(ascending=False).head(30) # ascending=True 로 하면 인기없는 영화부터 보여준다"
   ]
  },
  {
   "cell_type": "markdown",
   "metadata": {},
   "source": [
    "### 내가 선호하는 영화 5개를 rating에 추가하기"
   ]
  },
  {
   "cell_type": "code",
   "execution_count": 19,
   "metadata": {
    "scrolled": true
   },
   "outputs": [
    {
     "data": {
      "text/html": [
       "<div>\n",
       "<style scoped>\n",
       "    .dataframe tbody tr th:only-of-type {\n",
       "        vertical-align: middle;\n",
       "    }\n",
       "\n",
       "    .dataframe tbody tr th {\n",
       "        vertical-align: top;\n",
       "    }\n",
       "\n",
       "    .dataframe thead th {\n",
       "        text-align: right;\n",
       "    }\n",
       "</style>\n",
       "<table border=\"1\" class=\"dataframe\">\n",
       "  <thead>\n",
       "    <tr style=\"text-align: right;\">\n",
       "      <th></th>\n",
       "      <th>user_id</th>\n",
       "      <th>movie_name</th>\n",
       "      <th>play</th>\n",
       "    </tr>\n",
       "  </thead>\n",
       "  <tbody>\n",
       "    <tr>\n",
       "      <th>1000203</th>\n",
       "      <td>6040</td>\n",
       "      <td>Platoon_(1986)</td>\n",
       "      <td>3</td>\n",
       "    </tr>\n",
       "    <tr>\n",
       "      <th>1000205</th>\n",
       "      <td>6040</td>\n",
       "      <td>Crying_Game,_The_(1992)</td>\n",
       "      <td>5</td>\n",
       "    </tr>\n",
       "    <tr>\n",
       "      <th>1000206</th>\n",
       "      <td>6040</td>\n",
       "      <td>Welcome_to_the_Dollhouse_(1995)</td>\n",
       "      <td>5</td>\n",
       "    </tr>\n",
       "    <tr>\n",
       "      <th>1000207</th>\n",
       "      <td>6040</td>\n",
       "      <td>Sophie's_Choice_(1982)</td>\n",
       "      <td>4</td>\n",
       "    </tr>\n",
       "    <tr>\n",
       "      <th>1000208</th>\n",
       "      <td>6040</td>\n",
       "      <td>E.T._the_Extra-Terrestrial_(1982)</td>\n",
       "      <td>4</td>\n",
       "    </tr>\n",
       "    <tr>\n",
       "      <th>0</th>\n",
       "      <td>JPark</td>\n",
       "      <td>Godfather,_The_(1972)</td>\n",
       "      <td>5</td>\n",
       "    </tr>\n",
       "    <tr>\n",
       "      <th>1</th>\n",
       "      <td>JPark</td>\n",
       "      <td>Star_Wars:_Episode_IV_-_A_New_Hope_(1977)</td>\n",
       "      <td>5</td>\n",
       "    </tr>\n",
       "    <tr>\n",
       "      <th>2</th>\n",
       "      <td>JPark</td>\n",
       "      <td>Star_Wars:_Episode_V_-_The_Empire_Strikes_Back...</td>\n",
       "      <td>5</td>\n",
       "    </tr>\n",
       "    <tr>\n",
       "      <th>3</th>\n",
       "      <td>JPark</td>\n",
       "      <td>Men_in_Black_(1997)</td>\n",
       "      <td>5</td>\n",
       "    </tr>\n",
       "    <tr>\n",
       "      <th>4</th>\n",
       "      <td>JPark</td>\n",
       "      <td>Star_Wars:_Episode_VI_-_Return_of_the_Jedi_(1983)</td>\n",
       "      <td>5</td>\n",
       "    </tr>\n",
       "  </tbody>\n",
       "</table>\n",
       "</div>"
      ],
      "text/plain": [
       "        user_id                                         movie_name  play\n",
       "1000203    6040                                     Platoon_(1986)     3\n",
       "1000205    6040                            Crying_Game,_The_(1992)     5\n",
       "1000206    6040                    Welcome_to_the_Dollhouse_(1995)     5\n",
       "1000207    6040                             Sophie's_Choice_(1982)     4\n",
       "1000208    6040                  E.T._the_Extra-Terrestrial_(1982)     4\n",
       "0         JPark                              Godfather,_The_(1972)     5\n",
       "1         JPark          Star_Wars:_Episode_IV_-_A_New_Hope_(1977)     5\n",
       "2         JPark  Star_Wars:_Episode_V_-_The_Empire_Strikes_Back...     5\n",
       "3         JPark                                Men_in_Black_(1997)     5\n",
       "4         JPark  Star_Wars:_Episode_VI_-_Return_of_the_Jedi_(1983)     5"
      ]
     },
     "execution_count": 19,
     "metadata": {},
     "output_type": "execute_result"
    }
   ],
   "source": [
    "ratings = ratings[['user_id','movie_name','play']]\n",
    "\n",
    "my_favorite = ['Godfather,_The_(1972)',\n",
    "               'Star_Wars:_Episode_IV_-_A_New_Hope_(1977)',\n",
    "               'Star_Wars:_Episode_V_-_The_Empire_Strikes_Back_(1980)',\n",
    "               'Men_in_Black_(1997)',\n",
    "               'Star_Wars:_Episode_VI_-_Return_of_the_Jedi_(1983)']\n",
    "\n",
    "my_movielist = pd.DataFrame({'user_id': ['JPark']*5, 'movie_name': my_favorite, 'play':[5]*5})\n",
    "\n",
    "if not ratings.isin({'user_id':['JPark']})['user_id'].any():\n",
    "    ratings = ratings.append(my_movielist)\n",
    "    \n",
    "ratings.tail(10)"
   ]
  },
  {
   "cell_type": "markdown",
   "metadata": {},
   "source": [
    "### 전처리후 데이터 전부 숫자로 인덱싱하기"
   ]
  },
  {
   "cell_type": "code",
   "execution_count": 20,
   "metadata": {},
   "outputs": [
    {
     "name": "stdout",
     "output_type": "stream",
     "text": [
      "6039\n",
      "175\n"
     ]
    }
   ],
   "source": [
    "user_unique = ratings['user_id'].unique()\n",
    "title_unique = ratings['movie_name'].unique()\n",
    "\n",
    "# 유저, 영화 indexing 하는 코드 idx는 index의 약자입니다.\n",
    "user_to_idx = {v:k for k,v in enumerate(user_unique)}\n",
    "title_to_idx = {v:k for k,v in enumerate(title_unique)}\n",
    "idx_to_title = {k:v for k,v in enumerate(title_unique)}\n",
    "\n",
    "# 인덱싱이 잘 되었는지 확인해 봅니다. \n",
    "print(user_to_idx['JPark'])    # 6040명의 유저 중 마지막으로 추가된 유저이니 6039이 나와야 합니다. \n",
    "print(title_to_idx['Men_in_Black_(1997)'])"
   ]
  },
  {
   "cell_type": "code",
   "execution_count": 21,
   "metadata": {},
   "outputs": [],
   "source": [
    "#user_to_idx"
   ]
  },
  {
   "cell_type": "code",
   "execution_count": 22,
   "metadata": {},
   "outputs": [],
   "source": [
    "#title_to_idx"
   ]
  },
  {
   "cell_type": "markdown",
   "metadata": {},
   "source": [
    "type of (nunique: int, unique: list)"
   ]
  },
  {
   "cell_type": "code",
   "execution_count": 23,
   "metadata": {
    "scrolled": true
   },
   "outputs": [
    {
     "name": "stdout",
     "output_type": "stream",
     "text": [
      "user_id column indexing OK!!\n",
      "movie_name column indexing OK!!\n"
     ]
    },
    {
     "data": {
      "text/html": [
       "<div>\n",
       "<style scoped>\n",
       "    .dataframe tbody tr th:only-of-type {\n",
       "        vertical-align: middle;\n",
       "    }\n",
       "\n",
       "    .dataframe tbody tr th {\n",
       "        vertical-align: top;\n",
       "    }\n",
       "\n",
       "    .dataframe thead th {\n",
       "        text-align: right;\n",
       "    }\n",
       "</style>\n",
       "<table border=\"1\" class=\"dataframe\">\n",
       "  <thead>\n",
       "    <tr style=\"text-align: right;\">\n",
       "      <th></th>\n",
       "      <th>user_id</th>\n",
       "      <th>movie_name</th>\n",
       "      <th>play</th>\n",
       "    </tr>\n",
       "  </thead>\n",
       "  <tbody>\n",
       "    <tr>\n",
       "      <th>0</th>\n",
       "      <td>0</td>\n",
       "      <td>0</td>\n",
       "      <td>5</td>\n",
       "    </tr>\n",
       "    <tr>\n",
       "      <th>1</th>\n",
       "      <td>0</td>\n",
       "      <td>1</td>\n",
       "      <td>3</td>\n",
       "    </tr>\n",
       "    <tr>\n",
       "      <th>2</th>\n",
       "      <td>0</td>\n",
       "      <td>2</td>\n",
       "      <td>3</td>\n",
       "    </tr>\n",
       "    <tr>\n",
       "      <th>3</th>\n",
       "      <td>0</td>\n",
       "      <td>3</td>\n",
       "      <td>4</td>\n",
       "    </tr>\n",
       "    <tr>\n",
       "      <th>4</th>\n",
       "      <td>0</td>\n",
       "      <td>4</td>\n",
       "      <td>5</td>\n",
       "    </tr>\n",
       "    <tr>\n",
       "      <th>...</th>\n",
       "      <td>...</td>\n",
       "      <td>...</td>\n",
       "      <td>...</td>\n",
       "    </tr>\n",
       "    <tr>\n",
       "      <th>0</th>\n",
       "      <td>6039</td>\n",
       "      <td>607</td>\n",
       "      <td>5</td>\n",
       "    </tr>\n",
       "    <tr>\n",
       "      <th>1</th>\n",
       "      <td>6039</td>\n",
       "      <td>44</td>\n",
       "      <td>5</td>\n",
       "    </tr>\n",
       "    <tr>\n",
       "      <th>2</th>\n",
       "      <td>6039</td>\n",
       "      <td>117</td>\n",
       "      <td>5</td>\n",
       "    </tr>\n",
       "    <tr>\n",
       "      <th>3</th>\n",
       "      <td>6039</td>\n",
       "      <td>175</td>\n",
       "      <td>5</td>\n",
       "    </tr>\n",
       "    <tr>\n",
       "      <th>4</th>\n",
       "      <td>6039</td>\n",
       "      <td>64</td>\n",
       "      <td>5</td>\n",
       "    </tr>\n",
       "  </tbody>\n",
       "</table>\n",
       "<p>836483 rows × 3 columns</p>\n",
       "</div>"
      ],
      "text/plain": [
       "    user_id  movie_name  play\n",
       "0         0           0     5\n",
       "1         0           1     3\n",
       "2         0           2     3\n",
       "3         0           3     4\n",
       "4         0           4     5\n",
       "..      ...         ...   ...\n",
       "0      6039         607     5\n",
       "1      6039          44     5\n",
       "2      6039         117     5\n",
       "3      6039         175     5\n",
       "4      6039          64     5\n",
       "\n",
       "[836483 rows x 3 columns]"
      ]
     },
     "execution_count": 23,
     "metadata": {},
     "output_type": "execute_result"
    }
   ],
   "source": [
    "temp_user_data = ratings['user_id'].map(user_to_idx.get).dropna()\n",
    "if len(temp_user_data) == len(ratings):   # 모든 row가 정상적으로 인덱싱되었다면\n",
    "    print('user_id column indexing OK!!')\n",
    "    ratings['user_id'] = temp_user_data   # data['user_id']을 인덱싱된 Series로 교체해 줍니다. \n",
    "else:\n",
    "    print('user_id column indexing Fail!!')\n",
    "\n",
    "# artist_to_idx을 통해 movie 컬럼도 동일한 방식으로 인덱싱해 줍니다. \n",
    "temp_title_data = ratings['movie_name'].map(title_to_idx.get).dropna()\n",
    "if len(temp_title_data) == len(ratings):\n",
    "    print('movie_name column indexing OK!!')\n",
    "    ratings['movie_name'] = temp_title_data\n",
    "else:\n",
    "    print('movie_name column indexing Fail!!')\n",
    "\n",
    "ratings"
   ]
  },
  {
   "cell_type": "markdown",
   "metadata": {},
   "source": [
    "# CSR matrix 만들기"
   ]
  },
  {
   "cell_type": "code",
   "execution_count": 24,
   "metadata": {
    "scrolled": true
   },
   "outputs": [
    {
     "data": {
      "text/plain": [
       "<6040x3628 sparse matrix of type '<class 'numpy.int64'>'\n",
       "\twith 836483 stored elements in Compressed Sparse Row format>"
      ]
     },
     "execution_count": 24,
     "metadata": {},
     "output_type": "execute_result"
    }
   ],
   "source": [
    "from scipy.sparse import csr_matrix\n",
    "\n",
    "num_user = ratings['user_id'].nunique()\n",
    "num_movie = ratings['movie_name'].nunique()\n",
    "\n",
    "csr_data = csr_matrix((ratings.play, (ratings.user_id, ratings.movie_name)), shape=(num_user, num_movie))\n",
    "csr_data"
   ]
  },
  {
   "cell_type": "markdown",
   "metadata": {},
   "source": [
    "# als_model = AlternatingLeastSquares 모델구성 및 트레이닝"
   ]
  },
  {
   "cell_type": "code",
   "execution_count": 25,
   "metadata": {},
   "outputs": [],
   "source": [
    "from implicit.als import AlternatingLeastSquares\n",
    "import os\n",
    "import numpy as np\n",
    "\n",
    "# implicit 라이브러리에서 권장하고 있는 부분입니다. 학습 내용과는 무관합니다.\n",
    "os.environ['OPENBLAS_NUM_THREADS']='1'\n",
    "os.environ['KMP_DUPLICATE_LIB_OK']='True'\n",
    "os.environ['MKL_NUM_THREADS']='1'"
   ]
  },
  {
   "cell_type": "code",
   "execution_count": 26,
   "metadata": {},
   "outputs": [],
   "source": [
    "# Implicit AlternatingLeastSquares 모델의 선언\n",
    "als_model = AlternatingLeastSquares(factors=100, regularization=0.01, \n",
    "                                    use_gpu=False, iterations=15, dtype=np.float32)"
   ]
  },
  {
   "cell_type": "code",
   "execution_count": 27,
   "metadata": {},
   "outputs": [
    {
     "data": {
      "text/plain": [
       "<3628x6040 sparse matrix of type '<class 'numpy.int64'>'\n",
       "\twith 836483 stored elements in Compressed Sparse Column format>"
      ]
     },
     "execution_count": 27,
     "metadata": {},
     "output_type": "execute_result"
    }
   ],
   "source": [
    "# als 모델은 input으로 (item X user 꼴의 matrix를 받기 때문에 Transpose해줍니다.)\n",
    "csr_data_transpose = csr_data.T\n",
    "csr_data_transpose"
   ]
  },
  {
   "cell_type": "code",
   "execution_count": 28,
   "metadata": {
    "scrolled": true
   },
   "outputs": [
    {
     "data": {
      "application/vnd.jupyter.widget-view+json": {
       "model_id": "231f2c89dfcb4b83a7a29dd12ba10be2",
       "version_major": 2,
       "version_minor": 0
      },
      "text/plain": [
       "HBox(children=(FloatProgress(value=0.0, max=15.0), HTML(value='')))"
      ]
     },
     "metadata": {},
     "output_type": "display_data"
    },
    {
     "name": "stdout",
     "output_type": "stream",
     "text": [
      "\n"
     ]
    }
   ],
   "source": [
    "# 모델 훈련\n",
    "als_model.fit(csr_data_transpose)"
   ]
  },
  {
   "cell_type": "markdown",
   "metadata": {},
   "source": [
    "# 내가 선호하는 5가지 영화 중 두가지를 골라 모델이 예측한 나의 선호도 파악"
   ]
  },
  {
   "cell_type": "code",
   "execution_count": 29,
   "metadata": {},
   "outputs": [],
   "source": [
    "JPark = user_to_idx['JPark']\n",
    "GF    = title_to_idx['Godfather,_The_(1972)']\n",
    "SW_4  = title_to_idx['Star_Wars:_Episode_IV_-_A_New_Hope_(1977)']\n",
    "\n",
    "JPark_vector = als_model.user_factors[JPark]\n",
    "GF_vector   = als_model.item_factors[title_to_idx['Godfather,_The_(1972)']]\n",
    "SW_4_vector  = als_model.item_factors[title_to_idx['Star_Wars:_Episode_IV_-_A_New_Hope_(1977)']]"
   ]
  },
  {
   "cell_type": "code",
   "execution_count": 30,
   "metadata": {},
   "outputs": [
    {
     "data": {
      "text/plain": [
       "array([-4.49380204e-02,  6.53503478e-01,  2.24259734e-01,  1.57309528e-02,\n",
       "        4.71835643e-01, -6.69112504e-01,  5.94351113e-01,  1.15292835e+00,\n",
       "       -2.11536169e-01,  1.17819414e-01, -4.21066254e-01,  1.81462720e-01,\n",
       "       -3.18736911e-01,  1.02336979e+00,  7.66242981e-01,  7.81295061e-01,\n",
       "        6.64820254e-01, -2.36388613e-02,  6.20907366e-01, -1.61431146e+00,\n",
       "        5.86634614e-02, -2.31523439e-01, -7.34335929e-02,  1.58889756e-01,\n",
       "       -1.58679515e-01,  1.21953535e+00,  3.88791174e-01, -2.38815397e-01,\n",
       "       -1.59794360e-03,  2.09903598e-01,  1.79750487e-01, -1.41443467e+00,\n",
       "       -7.46725678e-01, -8.83695334e-02,  3.63645941e-01, -9.07291412e-01,\n",
       "       -2.12717220e-01, -3.20800781e-01,  7.76615024e-01, -5.55587560e-03,\n",
       "        4.18399245e-01,  2.79227167e-01, -2.39993557e-02,  7.12978169e-02,\n",
       "        7.00827479e-01,  2.03451842e-01, -1.79149762e-01, -6.34432435e-01,\n",
       "       -4.34099287e-01,  2.37037584e-01, -5.94050944e-01,  4.45876755e-02,\n",
       "        7.42758811e-01, -4.01834220e-01,  9.69735980e-02, -6.97720125e-02,\n",
       "       -1.56948760e-01,  6.80568635e-01,  1.26172817e+00, -1.00633204e+00,\n",
       "       -2.37224534e-01,  1.25602114e+00,  8.74916092e-02,  1.03833668e-01,\n",
       "       -8.23301524e-02,  5.54556012e-01, -1.17982320e-01, -6.28985405e-01,\n",
       "       -4.42043334e-01,  1.55357242e-01, -1.12827793e-01,  2.89013803e-01,\n",
       "       -1.12085152e+00, -1.11526206e-01, -9.34954822e-01,  4.19742554e-01,\n",
       "       -8.09833288e-01,  3.16502362e-01,  3.60830069e-01,  3.46215755e-01,\n",
       "       -2.92659044e-01, -3.32661361e-01, -4.78254825e-01,  2.20858604e-01,\n",
       "       -5.78932226e-01, -1.25858355e+00,  8.41029942e-01, -9.79501069e-01,\n",
       "       -2.32091472e-01,  2.55347299e-03, -5.01625277e-02,  5.02492547e-01,\n",
       "        3.66081685e-01,  1.71517923e-01,  6.13720179e-01,  2.12340996e-01,\n",
       "       -4.01636839e-01,  4.01714705e-02, -2.47916639e-01, -1.33289889e-01],\n",
       "      dtype=float32)"
      ]
     },
     "execution_count": 30,
     "metadata": {},
     "output_type": "execute_result"
    }
   ],
   "source": [
    "JPark_vector"
   ]
  },
  {
   "cell_type": "code",
   "execution_count": 31,
   "metadata": {
    "scrolled": true
   },
   "outputs": [
    {
     "data": {
      "text/plain": [
       "array([-3.3386266e-03,  1.7434036e-02,  3.1154234e-02,  2.1657184e-02,\n",
       "        2.0046899e-02,  1.2192330e-02,  2.8608294e-02,  3.7975188e-02,\n",
       "       -1.3805401e-02,  1.8839065e-02,  1.8548464e-02,  4.1330382e-02,\n",
       "       -2.6814602e-02,  2.4367895e-02, -1.5942303e-02,  5.8421181e-03,\n",
       "        2.2353489e-02,  4.1401330e-03,  6.9818273e-03, -4.6991076e-02,\n",
       "        1.6713420e-02,  3.4067002e-03, -9.0716379e-03,  1.9794606e-02,\n",
       "        4.7243815e-02,  2.3227610e-02,  3.3392571e-02, -3.2232922e-02,\n",
       "       -1.0532277e-02, -1.4790087e-02, -1.9483158e-02, -3.1502340e-02,\n",
       "       -5.9340470e-03, -5.5418145e-03,  7.2918221e-04, -3.4099799e-02,\n",
       "       -1.7574649e-02, -1.2676867e-02, -4.5946852e-04, -2.5931199e-03,\n",
       "        1.9580554e-02,  4.7592811e-02,  2.4576453e-02, -5.2677295e-03,\n",
       "        8.3611943e-03,  1.8574871e-02,  4.3536918e-03, -1.4664034e-02,\n",
       "        2.3751045e-02,  1.9966988e-02, -4.0058754e-02,  1.4813856e-04,\n",
       "        8.4975725e-03,  3.4544699e-02, -1.5613549e-02,  1.2119575e-02,\n",
       "        3.3794202e-02,  3.1626165e-02,  1.8190013e-02, -2.4073830e-02,\n",
       "       -2.1373058e-02,  5.5554938e-03,  1.1984714e-02, -3.2799333e-02,\n",
       "        2.9986640e-03,  6.6098166e-03, -1.2043840e-02, -2.4723953e-02,\n",
       "       -3.2308437e-02,  3.6710620e-02,  3.0190093e-03,  2.4088070e-02,\n",
       "       -5.9021082e-02,  1.9220706e-02, -1.7517520e-02,  4.8748888e-02,\n",
       "       -1.6675670e-02, -5.8343541e-04,  3.6111750e-02,  5.4629991e-04,\n",
       "        6.8335705e-03,  2.2532936e-02,  6.8488778e-03,  2.3734212e-02,\n",
       "       -1.1355548e-02,  4.1838447e-03,  1.6214596e-02, -3.8331453e-02,\n",
       "        4.0491521e-02,  3.0299271e-02, -1.7086212e-02,  9.1073867e-03,\n",
       "        1.4853708e-02,  4.7114588e-02,  1.9106913e-02,  5.2546114e-02,\n",
       "       -1.5845132e-03, -6.3507585e-05,  2.4480322e-02, -3.1205848e-02],\n",
       "      dtype=float32)"
      ]
     },
     "execution_count": 31,
     "metadata": {},
     "output_type": "execute_result"
    }
   ],
   "source": [
    "GF_vector"
   ]
  },
  {
   "cell_type": "code",
   "execution_count": 32,
   "metadata": {
    "scrolled": true
   },
   "outputs": [
    {
     "data": {
      "text/plain": [
       "array([-2.78114644e-03,  7.81238498e-03,  1.11035828e-03, -1.13798268e-02,\n",
       "        1.88691095e-02, -1.52539955e-02,  1.24605633e-02,  2.28035375e-02,\n",
       "       -4.20701411e-03,  4.55717091e-03, -1.81977600e-02,  1.33883953e-02,\n",
       "        7.85740651e-03,  2.87879501e-02,  2.15693749e-02,  3.61286998e-02,\n",
       "        1.62424631e-02, -3.11535504e-03,  2.80298106e-02, -2.88559906e-02,\n",
       "       -2.18440294e-02, -5.40596945e-03, -1.54237077e-02,  2.09586080e-02,\n",
       "       -3.93623207e-03,  4.49010059e-02,  7.95934070e-03,  1.62403826e-02,\n",
       "        1.32364975e-02,  2.53821202e-02,  1.97650716e-02, -1.60023030e-02,\n",
       "       -1.26905413e-02,  6.60722004e-03,  2.74449829e-02, -7.49566080e-03,\n",
       "       -6.21279608e-03,  1.04992231e-03,  1.93467513e-02,  2.73412168e-02,\n",
       "        1.31646274e-02,  3.99963856e-02,  1.58446524e-02,  9.80288349e-03,\n",
       "        3.21040526e-02, -2.10346561e-02, -8.80950689e-03, -1.63289625e-02,\n",
       "       -9.95072350e-03,  6.37926348e-03, -4.48369840e-03,  2.85418816e-02,\n",
       "        2.48034764e-02, -3.27386074e-02,  5.04369754e-03,  9.72298626e-03,\n",
       "       -1.77218509e-03,  2.07411721e-02,  3.51526476e-02, -2.26628892e-02,\n",
       "        1.82586245e-03,  3.58484015e-02, -6.31995572e-05,  2.25980170e-02,\n",
       "        1.76335219e-02,  2.68758982e-02,  3.87032516e-03, -1.44809373e-02,\n",
       "        4.89657139e-03, -4.49796091e-04, -6.93178130e-03,  1.91190690e-02,\n",
       "       -3.19614671e-02,  2.15406083e-02, -2.47353744e-02,  1.48377446e-02,\n",
       "       -3.57128754e-02,  6.18104311e-03,  1.03203347e-02,  2.70768330e-02,\n",
       "        4.07241657e-02, -1.87379997e-02, -1.61308441e-02, -4.88253729e-03,\n",
       "       -9.69437230e-03, -3.28294560e-02,  3.11524663e-02, -1.00511406e-03,\n",
       "       -1.88586190e-02,  1.07105160e-02,  1.51227880e-02,  2.28992589e-02,\n",
       "        1.44520374e-02, -1.01380944e-02,  1.28728282e-02, -1.15844849e-02,\n",
       "        1.90903582e-02, -1.05047505e-03,  9.85973887e-03,  1.34936161e-02],\n",
       "      dtype=float32)"
      ]
     },
     "execution_count": 32,
     "metadata": {},
     "output_type": "execute_result"
    }
   ],
   "source": [
    "SW_4_vector"
   ]
  },
  {
   "cell_type": "markdown",
   "metadata": {},
   "source": [
    "### 선호도 찾기"
   ]
  },
  {
   "cell_type": "code",
   "execution_count": 33,
   "metadata": {},
   "outputs": [
    {
     "data": {
      "text/plain": [
       "0.70429695"
      ]
     },
     "execution_count": 33,
     "metadata": {},
     "output_type": "execute_result"
    }
   ],
   "source": [
    "np.dot(JPark_vector, GF_vector)"
   ]
  },
  {
   "cell_type": "code",
   "execution_count": 34,
   "metadata": {
    "scrolled": true
   },
   "outputs": [
    {
     "data": {
      "text/plain": [
       "0.78523797"
      ]
     },
     "execution_count": 34,
     "metadata": {},
     "output_type": "execute_result"
    }
   ],
   "source": [
    "np.dot(JPark_vector, SW_4_vector)"
   ]
  },
  {
   "cell_type": "markdown",
   "metadata": {},
   "source": [
    "# 내가 좋아하는 영화와 비슷한 영화 추천받기"
   ]
  },
  {
   "cell_type": "code",
   "execution_count": 35,
   "metadata": {},
   "outputs": [],
   "source": [
    "def get_similar_movie(movie_name: str):\n",
    "    Movieee_id = title_to_idx[movie_name]\n",
    "    similar_movie = als_model.similar_items(Movieee_id, N=15)\n",
    "    similar_movie = [idx_to_title[i[0]] for i in similar_movie]\n",
    "    return similar_movie"
   ]
  },
  {
   "cell_type": "code",
   "execution_count": 36,
   "metadata": {
    "scrolled": true
   },
   "outputs": [
    {
     "data": {
      "text/plain": [
       "['Star_Wars:_Episode_VI_-_Return_of_the_Jedi_(1983)',\n",
       " 'Star_Wars:_Episode_V_-_The_Empire_Strikes_Back_(1980)',\n",
       " 'Star_Wars:_Episode_IV_-_A_New_Hope_(1977)',\n",
       " 'Raiders_of_the_Lost_Ark_(1981)',\n",
       " 'Star_Wars:_Episode_I_-_The_Phantom_Menace_(1999)',\n",
       " 'Indiana_Jones_and_the_Last_Crusade_(1989)',\n",
       " 'Saving_Private_Ryan_(1998)',\n",
       " 'Back_to_the_Future_(1985)',\n",
       " 'Forrest_Gump_(1994)',\n",
       " 'Open_Season_(1996)',\n",
       " 'Stranger,_The_(1994)',\n",
       " 'Condition_Red_(1995)',\n",
       " 'Terminator,_The_(1984)',\n",
       " 'Allnighter,_The_(1987)',\n",
       " 'Soft_Toilet_Seats_(1999)']"
      ]
     },
     "execution_count": 36,
     "metadata": {},
     "output_type": "execute_result"
    }
   ],
   "source": [
    "get_similar_movie('Star_Wars:_Episode_VI_-_Return_of_the_Jedi_(1983)')"
   ]
  },
  {
   "cell_type": "markdown",
   "metadata": {},
   "source": [
    "# 내가 좋아하는 영화 추천받기"
   ]
  },
  {
   "cell_type": "code",
   "execution_count": 37,
   "metadata": {},
   "outputs": [
    {
     "data": {
      "text/plain": [
       "[(380, 0.57631505),\n",
       " (120, 0.5100262),\n",
       " (60, 0.47899926),\n",
       " (107, 0.4121335),\n",
       " (92, 0.34506053),\n",
       " (124, 0.29061863),\n",
       " (48, 0.2836028),\n",
       " (0, 0.24402252),\n",
       " (550, 0.24029097),\n",
       " (435, 0.23245847),\n",
       " (5, 0.2264647),\n",
       " (26, 0.22459815),\n",
       " (172, 0.22277124),\n",
       " (22, 0.21926036),\n",
       " (200, 0.21232915),\n",
       " (99, 0.20369908),\n",
       " (670, 0.19655627),\n",
       " (160, 0.1866399),\n",
       " (62, 0.18610574),\n",
       " (372, 0.18550037)]"
      ]
     },
     "execution_count": 37,
     "metadata": {},
     "output_type": "execute_result"
    }
   ],
   "source": [
    "user = user_to_idx['JPark']\n",
    "# recommend에서는 user*item CSR Matrix를 받습니다.\n",
    "movie_recommended = als_model.recommend(user, csr_data, N=20, filter_already_liked_items=True)\n",
    "movie_recommended"
   ]
  },
  {
   "cell_type": "code",
   "execution_count": 38,
   "metadata": {
    "scrolled": true
   },
   "outputs": [
    {
     "data": {
      "text/plain": [
       "['Godfather:_Part_II,_The_(1974)',\n",
       " 'Raiders_of_the_Lost_Ark_(1981)',\n",
       " 'Star_Wars:_Episode_I_-_The_Phantom_Menace_(1999)',\n",
       " 'Jurassic_Park_(1993)',\n",
       " 'Terminator_2:_Judgment_Day_(1991)',\n",
       " 'Matrix,_The_(1999)',\n",
       " 'Saving_Private_Ryan_(1998)',\n",
       " \"One_Flew_Over_the_Cuckoo's_Nest_(1975)\",\n",
       " 'Dr._Strangelove_or:_How_I_Learned_to_Stop_Worrying_and_Love_the_Bomb_(1963)',\n",
       " 'Godfather:_Part_III,_The_(1990)',\n",
       " 'Princess_Bride,_The_(1987)',\n",
       " 'E.T._the_Extra-Terrestrial_(1982)',\n",
       " 'Indiana_Jones_and_the_Last_Crusade_(1989)',\n",
       " 'Back_to_the_Future_(1985)',\n",
       " 'Terminator,_The_(1984)',\n",
       " 'American_Beauty_(1999)',\n",
       " 'Galaxy_Quest_(1999)',\n",
       " 'Forrest_Gump_(1994)',\n",
       " 'Total_Recall_(1990)',\n",
       " 'X-Men_(2000)']"
      ]
     },
     "execution_count": 38,
     "metadata": {},
     "output_type": "execute_result"
    }
   ],
   "source": [
    "[idx_to_title[i[0]] for i in movie_recommended]"
   ]
  },
  {
   "cell_type": "markdown",
   "metadata": {},
   "source": [
    "## 추천받은 영화중 특정 영화의 기여도 알아보기"
   ]
  },
  {
   "cell_type": "code",
   "execution_count": 39,
   "metadata": {},
   "outputs": [],
   "source": [
    "Godfather_2 = title_to_idx['Godfather:_Part_II,_The_(1974)']\n",
    "explain = als_model.explain(user, csr_data, \n",
    "                            itemid=title_to_idx[\"Godfather:_Part_II,_The_(1974)\"])"
   ]
  },
  {
   "cell_type": "code",
   "execution_count": 40,
   "metadata": {},
   "outputs": [
    {
     "data": {
      "text/plain": [
       "[('Godfather,_The_(1972)', 0.5670457444628036),\n",
       " ('Star_Wars:_Episode_V_-_The_Empire_Strikes_Back_(1980)', 0.0146153095337839),\n",
       " ('Star_Wars:_Episode_IV_-_A_New_Hope_(1977)', -0.001553835082803598),\n",
       " ('Men_in_Black_(1997)', -0.0027551960124631977),\n",
       " ('Star_Wars:_Episode_VI_-_Return_of_the_Jedi_(1983)', -0.010693489292042226)]"
      ]
     },
     "execution_count": 40,
     "metadata": {},
     "output_type": "execute_result"
    }
   ],
   "source": [
    "[(idx_to_title[i[0]], i[1]) for i in explain[1]]"
   ]
  },
  {
   "cell_type": "markdown",
   "metadata": {},
   "source": [
    "# 결과 및 총평\n",
    "\n",
    "유저들의 매긴 영화의 평점을 기반으로한 추천시스템을 만드는 작업을 하였다.  \n",
    "데이터의 전처리 과정에서 여러 함수들의 사용법을 알 수 있었다.  \n",
    "또 모델의 훈련 과정을 수월하게 진행하기 위해 모든 정보들을 숫자로 인덱싱하는 작업을 하였다.  \n",
    "훈련시킨 모델에서 내가 좋아하는 영화들의 선호도를 보았을때 상당히 잘 훈련된 모델임을 알 수 있었다.\n",
    "또 특정 title과 user_id를 통해 비슷한 영화를 추천 받아보았는데 상당히 취향을 잘 맞춘것을 알 수 있었다.\n",
    "\n",
    "### 결국 제일 중요한 것은 전처리과정이라는 것 또한 깨닳았다.\n"
   ]
  }
 ],
 "metadata": {
  "kernelspec": {
   "display_name": "aiffel",
   "language": "python",
   "name": "aiffel"
  },
  "language_info": {
   "codemirror_mode": {
    "name": "ipython",
    "version": 3
   },
   "file_extension": ".py",
   "mimetype": "text/x-python",
   "name": "python",
   "nbconvert_exporter": "python",
   "pygments_lexer": "ipython3",
   "version": "3.7.7"
  }
 },
 "nbformat": 4,
 "nbformat_minor": 4
}
