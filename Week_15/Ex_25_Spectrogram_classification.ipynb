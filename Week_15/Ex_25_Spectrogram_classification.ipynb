{
 "cells": [
  {
   "cell_type": "markdown",
   "metadata": {},
   "source": [
    "# 프로젝트: Spectrogram classification 모델 구현"
   ]
  },
  {
   "cell_type": "markdown",
   "metadata": {},
   "source": [
    "그래서 오늘은 방금 든 궁금증을 해결해 보는 것으로 프로젝트를 진행해 봅니다.\n",
    "\n",
    "오늘 실습에서 1차원 Waveform 데이터를 입력받아 Text 라벨을 출력하는 모델을 기본 버전과 Skip-connection 버전으로 나누어 학습시켜 보았습니다. 이번에는 2차원 Spectrogram 데이터를 입력받아 위 모델과 동일한 역할을 수행하는 모델을 아래 제시된 단계와 같이 수행해 보시기 바랍니다. 이번에도 마찬가지로 기본 버전과 Skip-connection 버전으로 나누어 각각 진행해 보시기 바랍니다. \n",
    "\n",
    "모델 구조를 제외하고는 실습에서 제시된 것과 거의 동일하게 진행될 것입니다."
   ]
  },
  {
   "cell_type": "markdown",
   "metadata": {},
   "source": [
    "1. 데이터 처리와 분류\n",
    " - 라벨 데이터 처리하기  \n",
    " - sklearn의 rain_test_split함수를 이용하여 train, test 분리  \n",
    "\n",
    "2. 학습을 위한 하이퍼파라미터 설정\n",
    "\n",
    "3. 데이터셋 구성\n",
    "\n",
    " - tf.data.Dataset을 이용\n",
    " - from_tensor_slices 함수에 return 받길 원하는 데이터를 튜플 (data, label) 형태로 넣어서 사용\n",
    " - map과 batch를 이용한 데이터 전처리\n",
    "\n",
    "4. 2차원 Spectrogram 데이터를 처리하는 모델 구성\n",
    "\n",
    "5. 2차원 Spectrogram 데이터의 시간축 방향으로 Conv1D layer를 적용, 혹은 Conv2D layer를 적용 가능\n",
    "\n",
    " - batchnorm, dropout, dense layer 등을 이용\n",
    " - 12개의 단어 class를 구분하는 loss를 사용하고 Adam optimizer를 사용\n",
    " - 모델 가중치를 저장하는 checkpoint callback 함수 추가\n",
    " - 다양한 모델의 실험을 진행해 보시기 바랍니다.\n",
    "\n",
    "6. 학습 후, 학습이 어떻게 진행됐는지 그래프로 출력\n",
    "\n",
    " - loss, accuracy를 그래프로 표현\n",
    "\n",
    "7. Test dataset을 이용해서 모델의 성능을 평가\n",
    "\n",
    " - 저장한 weight 불러오기\n",
    " - 모델의 예측값과 정답값이 얼마나 일치하는지 확인"
   ]
  }
 ],
 "metadata": {
  "kernelspec": {
   "display_name": "aiffel",
   "language": "python",
   "name": "aiffel"
  },
  "language_info": {
   "codemirror_mode": {
    "name": "ipython",
    "version": 3
   },
   "file_extension": ".py",
   "mimetype": "text/x-python",
   "name": "python",
   "nbconvert_exporter": "python",
   "pygments_lexer": "ipython3",
   "version": "3.7.7"
  }
 },
 "nbformat": 4,
 "nbformat_minor": 4
}
