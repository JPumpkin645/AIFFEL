{
 "cells": [
  {
   "cell_type": "markdown",
   "metadata": {},
   "source": [
    "이번 프로젝트에서는 추상적 요약과 추출적 요약을 모두 해보는 시간을 갖도록 하겠습니다."
   ]
  },
  {
   "cell_type": "code",
   "execution_count": 1,
   "metadata": {},
   "outputs": [
    {
     "name": "stdout",
     "output_type": "stream",
     "text": [
      "1 Physical GPUs, 1 Logical GPUs\n"
     ]
    }
   ],
   "source": [
    "import nltk\n",
    "import numpy as np\n",
    "import pandas as pd\n",
    "import os\n",
    "import re\n",
    "import matplotlib.pyplot as plt\n",
    "import tensorflow as tf\n",
    "gpus = tf.config.experimental.list_physical_devices('GPU')\n",
    "if gpus:\n",
    "  try:\n",
    "    # Currently, memory growth needs to be the same across GPUs\n",
    "    for gpu in gpus:\n",
    "      tf.config.experimental.set_memory_growth(gpu, True)\n",
    "    logical_gpus = tf.config.experimental.list_logical_devices('GPU')\n",
    "    print(len(gpus), \"Physical GPUs,\", len(logical_gpus), \"Logical GPUs\")\n",
    "  except RuntimeError as e:\n",
    "    # Memory growth must be set before GPUs have been initialized\n",
    "    print(e)\n",
    "from nltk.corpus import stopwords\n",
    "from bs4 import BeautifulSoup \n",
    "from tensorflow.keras.preprocessing.text import Tokenizer \n",
    "from tensorflow.keras.preprocessing.sequence import pad_sequences\n",
    "import urllib.request"
   ]
  },
  {
   "cell_type": "markdown",
   "metadata": {},
   "source": [
    "## Step 1. 데이터 수집하기"
   ]
  },
  {
   "cell_type": "code",
   "execution_count": 2,
   "metadata": {},
   "outputs": [],
   "source": [
    "import urllib.request\n",
    "urllib.request.urlretrieve(\"https://raw.githubusercontent.com/sunnysai12345/News_Summary/master/news_summary_more.csv\", filename=\"news_summary_more.csv\")\n",
    "data = pd.read_csv('news_summary_more.csv', encoding='iso-8859-1')"
   ]
  },
  {
   "cell_type": "code",
   "execution_count": 3,
   "metadata": {},
   "outputs": [
    {
     "data": {
      "text/html": [
       "<div>\n",
       "<style scoped>\n",
       "    .dataframe tbody tr th:only-of-type {\n",
       "        vertical-align: middle;\n",
       "    }\n",
       "\n",
       "    .dataframe tbody tr th {\n",
       "        vertical-align: top;\n",
       "    }\n",
       "\n",
       "    .dataframe thead th {\n",
       "        text-align: right;\n",
       "    }\n",
       "</style>\n",
       "<table border=\"1\" class=\"dataframe\">\n",
       "  <thead>\n",
       "    <tr style=\"text-align: right;\">\n",
       "      <th></th>\n",
       "      <th>headlines</th>\n",
       "      <th>text</th>\n",
       "    </tr>\n",
       "  </thead>\n",
       "  <tbody>\n",
       "    <tr>\n",
       "      <th>4630</th>\n",
       "      <td>I'm on WhatsApp too: Bieber shares number, del...</td>\n",
       "      <td>Singer Justin Bieber on Monday appeared to acc...</td>\n",
       "    </tr>\n",
       "    <tr>\n",
       "      <th>41523</th>\n",
       "      <td>I-T Dept seizes 2 bank accounts of Navjot Sing...</td>\n",
       "      <td>The Income Tax Department has seized two bank ...</td>\n",
       "    </tr>\n",
       "    <tr>\n",
       "      <th>86404</th>\n",
       "      <td>Sushma asks Pak man to get Aziz's letter for m...</td>\n",
       "      <td>External Affairs Minister Sushma Swaraj on Sun...</td>\n",
       "    </tr>\n",
       "    <tr>\n",
       "      <th>27863</th>\n",
       "      <td>I find people who try to be cool very plastic:...</td>\n",
       "      <td>Actor Saif Ali Khan has said that he finds tho...</td>\n",
       "    </tr>\n",
       "    <tr>\n",
       "      <th>75338</th>\n",
       "      <td>Our match's made in heaven: Tiger on Baaghi di...</td>\n",
       "      <td>Tiger Shroff, while talking about his relation...</td>\n",
       "    </tr>\n",
       "    <tr>\n",
       "      <th>95518</th>\n",
       "      <td>Former WWE champion Kurt Angle confirms return...</td>\n",
       "      <td>Former WWE champion Kurt Angle has confirmed t...</td>\n",
       "    </tr>\n",
       "    <tr>\n",
       "      <th>60520</th>\n",
       "      <td>US Navy pilots draw penis in the sky</td>\n",
       "      <td>US Navy aircrew used their warplane to create ...</td>\n",
       "    </tr>\n",
       "    <tr>\n",
       "      <th>97936</th>\n",
       "      <td>Pujara's ton takes India to 360/6, trail Aus b...</td>\n",
       "      <td>India ended day three of the Ranchi Test at 36...</td>\n",
       "    </tr>\n",
       "    <tr>\n",
       "      <th>77688</th>\n",
       "      <td>Qatar complains to WTO against Saudi-led trade...</td>\n",
       "      <td>Qatar on Monday filed a legal complaint at the...</td>\n",
       "    </tr>\n",
       "    <tr>\n",
       "      <th>80168</th>\n",
       "      <td>Diageo to withhold Ã¢ÂÂ¹225 cr from Mallya, r...</td>\n",
       "      <td>Liquor firm Diageo will reportedly hold back t...</td>\n",
       "    </tr>\n",
       "  </tbody>\n",
       "</table>\n",
       "</div>"
      ],
      "text/plain": [
       "                                               headlines  \\\n",
       "4630   I'm on WhatsApp too: Bieber shares number, del...   \n",
       "41523  I-T Dept seizes 2 bank accounts of Navjot Sing...   \n",
       "86404  Sushma asks Pak man to get Aziz's letter for m...   \n",
       "27863  I find people who try to be cool very plastic:...   \n",
       "75338  Our match's made in heaven: Tiger on Baaghi di...   \n",
       "95518  Former WWE champion Kurt Angle confirms return...   \n",
       "60520               US Navy pilots draw penis in the sky   \n",
       "97936  Pujara's ton takes India to 360/6, trail Aus b...   \n",
       "77688  Qatar complains to WTO against Saudi-led trade...   \n",
       "80168  Diageo to withhold Ã¢ÂÂ¹225 cr from Mallya, r...   \n",
       "\n",
       "                                                    text  \n",
       "4630   Singer Justin Bieber on Monday appeared to acc...  \n",
       "41523  The Income Tax Department has seized two bank ...  \n",
       "86404  External Affairs Minister Sushma Swaraj on Sun...  \n",
       "27863  Actor Saif Ali Khan has said that he finds tho...  \n",
       "75338  Tiger Shroff, while talking about his relation...  \n",
       "95518  Former WWE champion Kurt Angle has confirmed t...  \n",
       "60520  US Navy aircrew used their warplane to create ...  \n",
       "97936  India ended day three of the Ranchi Test at 36...  \n",
       "77688  Qatar on Monday filed a legal complaint at the...  \n",
       "80168  Liquor firm Diageo will reportedly hold back t...  "
      ]
     },
     "execution_count": 3,
     "metadata": {},
     "output_type": "execute_result"
    }
   ],
   "source": [
    "data.sample(10)"
   ]
  },
  {
   "cell_type": "markdown",
   "metadata": {},
   "source": [
    "추상적 요약은 text를 본문, headlines을 이미 요약된 데이터로 삼아서 모델을 학습시킬 수 있습니다.  \n",
    "추출적 요약은 text만을 사용해야 합니다."
   ]
  },
  {
   "cell_type": "markdown",
   "metadata": {},
   "source": [
    "## Step 2. 데이터 전처리하기 (추상적 요약)"
   ]
  },
  {
   "cell_type": "markdown",
   "metadata": {},
   "source": [
    "실습에서 사용된 전처리를 참고하여 각자 필요하다고 생각하는 전처리를 추가 사용하여 텍스트를 정규화 또는 정제해 보세요. 만약, 불용어 제거를 선택한다면 상대적으로 길이가 짧은 요약 데이터에 대해서도 불용어를 제거하는 것이 좋을지 고민해보세요."
   ]
  },
  {
   "cell_type": "code",
   "execution_count": 4,
   "metadata": {},
   "outputs": [
    {
     "name": "stdout",
     "output_type": "stream",
     "text": [
      "headlines 열에서 중복을 배제한 유일한 샘플의 수 : 98280\n",
      "text 열에서 중복을 배제한 유일한 샘플의 수 : 98360\n"
     ]
    }
   ],
   "source": [
    "print('headlines 열에서 중복을 배제한 유일한 샘플의 수 :', data['headlines'].nunique())\n",
    "print('text 열에서 중복을 배제한 유일한 샘플의 수 :', data['text'].nunique())"
   ]
  },
  {
   "cell_type": "code",
   "execution_count": 5,
   "metadata": {},
   "outputs": [
    {
     "name": "stdout",
     "output_type": "stream",
     "text": [
      "전체 샘플수 : 98360\n"
     ]
    }
   ],
   "source": [
    "data.drop_duplicates(subset = ['text'], inplace = True)\n",
    "print('전체 샘플수 :',(len(data)))"
   ]
  },
  {
   "cell_type": "code",
   "execution_count": 6,
   "metadata": {},
   "outputs": [
    {
     "name": "stdout",
     "output_type": "stream",
     "text": [
      "정규화 사전의 수:  120\n"
     ]
    }
   ],
   "source": [
    "contractions = {\"ain't\": \"is not\", \"aren't\": \"are not\",\"can't\": \"cannot\", \"'cause\": \"because\", \"could've\": \"could have\", \"couldn't\": \"could not\",\n",
    "                           \"didn't\": \"did not\",  \"doesn't\": \"does not\", \"don't\": \"do not\", \"hadn't\": \"had not\", \"hasn't\": \"has not\", \"haven't\": \"have not\",\n",
    "                           \"he'd\": \"he would\",\"he'll\": \"he will\", \"he's\": \"he is\", \"how'd\": \"how did\", \"how'd'y\": \"how do you\", \"how'll\": \"how will\", \"how's\": \"how is\",\n",
    "                           \"I'd\": \"I would\", \"I'd've\": \"I would have\", \"I'll\": \"I will\", \"I'll've\": \"I will have\",\"I'm\": \"I am\", \"I've\": \"I have\", \"i'd\": \"i would\",\n",
    "                           \"i'd've\": \"i would have\", \"i'll\": \"i will\",  \"i'll've\": \"i will have\",\"i'm\": \"i am\", \"i've\": \"i have\", \"isn't\": \"is not\", \"it'd\": \"it would\",\n",
    "                           \"it'd've\": \"it would have\", \"it'll\": \"it will\", \"it'll've\": \"it will have\",\"it's\": \"it is\", \"let's\": \"let us\", \"ma'am\": \"madam\",\n",
    "                           \"mayn't\": \"may not\", \"might've\": \"might have\",\"mightn't\": \"might not\",\"mightn't've\": \"might not have\", \"must've\": \"must have\",\n",
    "                           \"mustn't\": \"must not\", \"mustn't've\": \"must not have\", \"needn't\": \"need not\", \"needn't've\": \"need not have\",\"o'clock\": \"of the clock\",\n",
    "                           \"oughtn't\": \"ought not\", \"oughtn't've\": \"ought not have\", \"shan't\": \"shall not\", \"sha'n't\": \"shall not\", \"shan't've\": \"shall not have\",\n",
    "                           \"she'd\": \"she would\", \"she'd've\": \"she would have\", \"she'll\": \"she will\", \"she'll've\": \"she will have\", \"she's\": \"she is\",\n",
    "                           \"should've\": \"should have\", \"shouldn't\": \"should not\", \"shouldn't've\": \"should not have\", \"so've\": \"so have\",\"so's\": \"so as\",\n",
    "                           \"this's\": \"this is\",\"that'd\": \"that would\", \"that'd've\": \"that would have\", \"that's\": \"that is\", \"there'd\": \"there would\",\n",
    "                           \"there'd've\": \"there would have\", \"there's\": \"there is\", \"here's\": \"here is\",\"they'd\": \"they would\", \"they'd've\": \"they would have\",\n",
    "                           \"they'll\": \"they will\", \"they'll've\": \"they will have\", \"they're\": \"they are\", \"they've\": \"they have\", \"to've\": \"to have\",\n",
    "                           \"wasn't\": \"was not\", \"we'd\": \"we would\", \"we'd've\": \"we would have\", \"we'll\": \"we will\", \"we'll've\": \"we will have\", \"we're\": \"we are\",\n",
    "                           \"we've\": \"we have\", \"weren't\": \"were not\", \"what'll\": \"what will\", \"what'll've\": \"what will have\", \"what're\": \"what are\",\n",
    "                           \"what's\": \"what is\", \"what've\": \"what have\", \"when's\": \"when is\", \"when've\": \"when have\", \"where'd\": \"where did\", \"where's\": \"where is\",\n",
    "                           \"where've\": \"where have\", \"who'll\": \"who will\", \"who'll've\": \"who will have\", \"who's\": \"who is\", \"who've\": \"who have\",\n",
    "                           \"why's\": \"why is\", \"why've\": \"why have\", \"will've\": \"will have\", \"won't\": \"will not\", \"won't've\": \"will not have\",\n",
    "                           \"would've\": \"would have\", \"wouldn't\": \"would not\", \"wouldn't've\": \"would not have\", \"y'all\": \"you all\",\n",
    "                           \"y'all'd\": \"you all would\",\"y'all'd've\": \"you all would have\",\"y'all're\": \"you all are\",\"y'all've\": \"you all have\",\n",
    "                           \"you'd\": \"you would\", \"you'd've\": \"you would have\", \"you'll\": \"you will\", \"you'll've\": \"you will have\",\n",
    "                           \"you're\": \"you are\", \"you've\": \"you have\"}\n",
    "\n",
    "print(\"정규화 사전의 수: \",len(contractions))"
   ]
  },
  {
   "cell_type": "code",
   "execution_count": 7,
   "metadata": {},
   "outputs": [
    {
     "name": "stdout",
     "output_type": "stream",
     "text": [
      "불용어 개수 : 179\n",
      "['i', 'me', 'my', 'myself', 'we', 'our', 'ours', 'ourselves', 'you', \"you're\", \"you've\", \"you'll\", \"you'd\", 'your', 'yours', 'yourself', 'yourselves', 'he', 'him', 'his', 'himself', 'she', \"she's\", 'her', 'hers', 'herself', 'it', \"it's\", 'its', 'itself', 'they', 'them', 'their', 'theirs', 'themselves', 'what', 'which', 'who', 'whom', 'this', 'that', \"that'll\", 'these', 'those', 'am', 'is', 'are', 'was', 'were', 'be', 'been', 'being', 'have', 'has', 'had', 'having', 'do', 'does', 'did', 'doing', 'a', 'an', 'the', 'and', 'but', 'if', 'or', 'because', 'as', 'until', 'while', 'of', 'at', 'by', 'for', 'with', 'about', 'against', 'between', 'into', 'through', 'during', 'before', 'after', 'above', 'below', 'to', 'from', 'up', 'down', 'in', 'out', 'on', 'off', 'over', 'under', 'again', 'further', 'then', 'once', 'here', 'there', 'when', 'where', 'why', 'how', 'all', 'any', 'both', 'each', 'few', 'more', 'most', 'other', 'some', 'such', 'no', 'nor', 'not', 'only', 'own', 'same', 'so', 'than', 'too', 'very', 's', 't', 'can', 'will', 'just', 'don', \"don't\", 'should', \"should've\", 'now', 'd', 'll', 'm', 'o', 're', 've', 'y', 'ain', 'aren', \"aren't\", 'couldn', \"couldn't\", 'didn', \"didn't\", 'doesn', \"doesn't\", 'hadn', \"hadn't\", 'hasn', \"hasn't\", 'haven', \"haven't\", 'isn', \"isn't\", 'ma', 'mightn', \"mightn't\", 'mustn', \"mustn't\", 'needn', \"needn't\", 'shan', \"shan't\", 'shouldn', \"shouldn't\", 'wasn', \"wasn't\", 'weren', \"weren't\", 'won', \"won't\", 'wouldn', \"wouldn't\"]\n"
     ]
    }
   ],
   "source": [
    "print('불용어 개수 :', len(stopwords.words('english') ))\n",
    "print(stopwords.words('english'))"
   ]
  },
  {
   "cell_type": "code",
   "execution_count": 8,
   "metadata": {},
   "outputs": [],
   "source": [
    "#데이터 전처리 함수\n",
    "def preprocess_sentence(sentence, remove_stopwords=True):\n",
    "    sentence = sentence.lower() # 텍스트 소문자화\n",
    "    sentence = BeautifulSoup(sentence, \"lxml\").text # <br />, <a href = ...> 등의 html 태그 제거\n",
    "    sentence = re.sub(r'\\([^)]*\\)', '', sentence) # 괄호로 닫힌 문자열 (...) 제거 Ex) my husband (and myself!) for => my husband for\n",
    "    sentence = re.sub('\"','', sentence) # 쌍따옴표 \" 제거\n",
    "    sentence = ' '.join([contractions[t] if t in contractions else t for t in sentence.split(\" \")]) # 약어 정규화\n",
    "    sentence = re.sub(r\"'s\\b\",\"\",sentence) # 소유격 제거. Ex) roland's -> roland\n",
    "    sentence = re.sub(\"[^a-zA-Z]\", \" \", sentence) # 영어 외 문자(숫자, 특수문자 등) 공백으로 변환\n",
    "    sentence = re.sub('[m]{2,}', 'mm', sentence) # m이 3개 이상이면 2개로 변경. Ex) ummmmmmm yeah -> umm yeah\n",
    "    \n",
    "    # 불용어 제거 (Text)\n",
    "    if remove_stopwords:\n",
    "        tokens = ' '.join(word for word in sentence.split() if not word in stopwords.words('english') if len(word) > 1)\n",
    "    # 불용어 미제거 (Summary)\n",
    "    else:\n",
    "        tokens = ' '.join(word for word in sentence.split() if len(word) > 1)\n",
    "    return tokens"
   ]
  },
  {
   "cell_type": "code",
   "execution_count": 9,
   "metadata": {},
   "outputs": [
    {
     "data": {
      "text/plain": [
       "['saurav kant alumnus upgrad iiit pg program machine learning artificial intelligence sr systems engineer infosys almost years work experience program upgrad degree career support helped transition data scientist tech mahindra salary hike upgrad online power learning powered lakh careers',\n",
       " 'kunal shah credit card bill payment platform cred gave users chance win free food swiggy one year pranav kaushik delhi techie bagged reward spending cred coins users get one cred coin per rupee bill paid used avail rewards brands like ixigo bookmyshow ubereats cult fit',\n",
       " 'new zealand defeated india wickets fourth odi hamilton thursday win first match five match odi series india lost international match rohit sharma captaincy consecutive victories dating back march match witnessed india getting seventh lowest total odi cricket history',\n",
       " 'aegon life iterm insurance plan customers enjoy tax benefits premiums paid save taxes plan provides life cover age years also customers options insure critical illnesses disability accidental death benefit rider life cover age years',\n",
       " 'speaking sexual harassment allegations rajkumar hirani sonam kapoor said known hirani many years true metoo movement get derailed metoo movement always believe woman case need reserve judgment added hirani accused assistant worked sanju']"
      ]
     },
     "execution_count": 9,
     "metadata": {},
     "output_type": "execute_result"
    }
   ],
   "source": [
    "clean_text = []\n",
    "\n",
    "# 전체 Text 데이터에 대한 전처리 : 10분 이상 시간이 걸릴 수 있습니다. \n",
    "for s in data['text']:\n",
    "    clean_text.append(preprocess_sentence(s))\n",
    "\n",
    "# 전처리 후 출력\n",
    "clean_text[:5]"
   ]
  },
  {
   "cell_type": "code",
   "execution_count": 10,
   "metadata": {},
   "outputs": [
    {
     "data": {
      "text/plain": [
       "['upgrad learner switches to career in ml al with salary hike',\n",
       " 'delhi techie wins free food from swiggy for one year on cred',\n",
       " 'new zealand end rohit sharma led india match winning streak',\n",
       " 'aegon life iterm insurance plan helps customers save tax',\n",
       " 'have known hirani for yrs what if metoo claims are not true sonam']"
      ]
     },
     "execution_count": 10,
     "metadata": {},
     "output_type": "execute_result"
    }
   ],
   "source": [
    "clean_headlines = []\n",
    "\n",
    "# 전체 Summary 데이터에 대한 전처리 : 5분 이상 시간이 걸릴 수 있습니다. \n",
    "for s in data['headlines']:\n",
    "    clean_headlines.append(preprocess_sentence(s, False))\n",
    "\n",
    "clean_headlines[:5]"
   ]
  },
  {
   "cell_type": "code",
   "execution_count": 11,
   "metadata": {},
   "outputs": [],
   "source": [
    "data['text'] = clean_text\n",
    "data['headlines'] = clean_headlines\n",
    "\n",
    "# 빈 값을 Null 값으로 변환\n",
    "data.replace('', np.nan, inplace=True)"
   ]
  },
  {
   "cell_type": "code",
   "execution_count": 12,
   "metadata": {},
   "outputs": [
    {
     "data": {
      "text/plain": [
       "headlines    0\n",
       "text         0\n",
       "dtype: int64"
      ]
     },
     "execution_count": 12,
     "metadata": {},
     "output_type": "execute_result"
    }
   ],
   "source": [
    "data.isnull().sum()"
   ]
  },
  {
   "cell_type": "code",
   "execution_count": 13,
   "metadata": {},
   "outputs": [
    {
     "name": "stdout",
     "output_type": "stream",
     "text": [
      "전체 샘플수 : 98360\n"
     ]
    }
   ],
   "source": [
    "data.dropna(axis=0, inplace=True)\n",
    "print('전체 샘플수 :',(len(data)))#데이터 전처리 함수"
   ]
  },
  {
   "cell_type": "code",
   "execution_count": 14,
   "metadata": {},
   "outputs": [
    {
     "name": "stdout",
     "output_type": "stream",
     "text": [
      "텍스트의 최소 길이 : 1\n",
      "텍스트의 최대 길이 : 60\n",
      "텍스트의 평균 길이 : 35.09968483123221\n",
      "요약의 최소 길이 : 1\n",
      "요약의 최대 길이 : 16\n",
      "요약의 평균 길이 : 9.299532330215534\n"
     ]
    },
    {
     "data": {
      "image/png": "[encoded data removed]",
      "text/plain": [
       "<Figure size 432x288 with 2 Axes>"
      ]
     },
     "metadata": {
      "needs_background": "light"
     },
     "output_type": "display_data"
    },
    {
     "data": {
      "image/png": "[encoded data removed]",
      "text/plain": [
       "<Figure size 432x288 with 1 Axes>"
      ]
     },
     "metadata": {
      "needs_background": "light"
     },
     "output_type": "display_data"
    },
    {
     "data": {
      "image/png": "[encoded data removed]",
      "text/plain": [
       "<Figure size 432x288 with 1 Axes>"
      ]
     },
     "metadata": {
      "needs_background": "light"
     },
     "output_type": "display_data"
    }
   ],
   "source": [
    "# 길이 분포 출력\n",
    "import matplotlib.pyplot as plt\n",
    "\n",
    "text_len = [len(s.split()) for s in data['text']]\n",
    "headlines_len = [len(s.split()) for s in data['headlines']]\n",
    "\n",
    "print('텍스트의 최소 길이 : {}'.format(np.min(text_len)))\n",
    "print('텍스트의 최대 길이 : {}'.format(np.max(text_len)))\n",
    "print('텍스트의 평균 길이 : {}'.format(np.mean(text_len)))\n",
    "print('요약의 최소 길이 : {}'.format(np.min(headlines_len)))\n",
    "print('요약의 최대 길이 : {}'.format(np.max(headlines_len)))\n",
    "print('요약의 평균 길이 : {}'.format(np.mean(headlines_len)))\n",
    "\n",
    "plt.subplot(1,2,1)\n",
    "plt.boxplot(headlines_len)\n",
    "plt.title('headlines')\n",
    "plt.subplot(1,2,2)\n",
    "plt.boxplot(text_len)\n",
    "plt.title('text')\n",
    "plt.tight_layout()\n",
    "plt.show()\n",
    "\n",
    "plt.title('headlines_len')\n",
    "plt.hist(headlines_len, bins = 40)\n",
    "plt.xlabel('length of samples')\n",
    "plt.ylabel('number of samples')\n",
    "plt.show()\n",
    "\n",
    "plt.title('text')\n",
    "plt.hist(text_len, bins = 40)\n",
    "plt.xlabel('length of samples')\n",
    "plt.ylabel('number of samples')\n",
    "plt.show()"
   ]
  },
  {
   "cell_type": "code",
   "execution_count": 15,
   "metadata": {},
   "outputs": [],
   "source": [
    "text_max_len = 40\n",
    "headlines_max_len = 11"
   ]
  },
  {
   "cell_type": "code",
   "execution_count": 16,
   "metadata": {},
   "outputs": [],
   "source": [
    "def below_threshold_len(max_len, nested_list):\n",
    "  cnt = 0\n",
    "  for s in nested_list:\n",
    "    if(len(s.split()) <= max_len):\n",
    "        cnt = cnt + 1\n",
    "  print('전체 샘플 중 길이가 %s 이하인 샘플의 비율: %s'%(max_len, (cnt / len(nested_list))))"
   ]
  },
  {
   "cell_type": "code",
   "execution_count": 18,
   "metadata": {},
   "outputs": [
    {
     "name": "stdout",
     "output_type": "stream",
     "text": [
      "전체 샘플 중 길이가 40 이하인 샘플의 비율: 0.9238714924766165\n",
      "전체 샘플 중 길이가 11 이하인 샘플의 비율: 0.9449877999186661\n"
     ]
    }
   ],
   "source": [
    "below_threshold_len(text_max_len, data['text'])\n",
    "below_threshold_len(headlines_max_len,  data['headlines'])"
   ]
  },
  {
   "cell_type": "code",
   "execution_count": 19,
   "metadata": {},
   "outputs": [
    {
     "name": "stdout",
     "output_type": "stream",
     "text": [
      "전체 샘플수 : 85843\n"
     ]
    }
   ],
   "source": [
    "data = data[data['text'].apply(lambda x: len(x.split()) <= text_max_len)]\n",
    "data = data[data['headlines'].apply(lambda x: len(x.split()) <= headlines_max_len)]\n",
    "print('전체 샘플수 :',(len(data)))"
   ]
  },
  {
   "cell_type": "code",
   "execution_count": 20,
   "metadata": {},
   "outputs": [
    {
     "data": {
      "text/html": [
       "<div>\n",
       "<style scoped>\n",
       "    .dataframe tbody tr th:only-of-type {\n",
       "        vertical-align: middle;\n",
       "    }\n",
       "\n",
       "    .dataframe tbody tr th {\n",
       "        vertical-align: top;\n",
       "    }\n",
       "\n",
       "    .dataframe thead th {\n",
       "        text-align: right;\n",
       "    }\n",
       "</style>\n",
       "<table border=\"1\" class=\"dataframe\">\n",
       "  <thead>\n",
       "    <tr style=\"text-align: right;\">\n",
       "      <th></th>\n",
       "      <th>headlines</th>\n",
       "      <th>text</th>\n",
       "      <th>decoder_input</th>\n",
       "      <th>decoder_target</th>\n",
       "    </tr>\n",
       "  </thead>\n",
       "  <tbody>\n",
       "    <tr>\n",
       "      <th>0</th>\n",
       "      <td>upgrad learner switches to career in ml al wit...</td>\n",
       "      <td>saurav kant alumnus upgrad iiit pg program mac...</td>\n",
       "      <td>sostoken upgrad learner switches to career in ...</td>\n",
       "      <td>upgrad learner switches to career in ml al wit...</td>\n",
       "    </tr>\n",
       "    <tr>\n",
       "      <th>2</th>\n",
       "      <td>new zealand end rohit sharma led india match w...</td>\n",
       "      <td>new zealand defeated india wickets fourth odi ...</td>\n",
       "      <td>sostoken new zealand end rohit sharma led indi...</td>\n",
       "      <td>new zealand end rohit sharma led india match w...</td>\n",
       "    </tr>\n",
       "    <tr>\n",
       "      <th>3</th>\n",
       "      <td>aegon life iterm insurance plan helps customer...</td>\n",
       "      <td>aegon life iterm insurance plan customers enjo...</td>\n",
       "      <td>sostoken aegon life iterm insurance plan helps...</td>\n",
       "      <td>aegon life iterm insurance plan helps customer...</td>\n",
       "    </tr>\n",
       "    <tr>\n",
       "      <th>5</th>\n",
       "      <td>rahat fateh ali khan denies getting notice for...</td>\n",
       "      <td>pakistani singer rahat fateh ali khan denied r...</td>\n",
       "      <td>sostoken rahat fateh ali khan denies getting n...</td>\n",
       "      <td>rahat fateh ali khan denies getting notice for...</td>\n",
       "    </tr>\n",
       "    <tr>\n",
       "      <th>7</th>\n",
       "      <td>govt directs alok verma to join work day befor...</td>\n",
       "      <td>weeks ex cbi director alok verma told departme...</td>\n",
       "      <td>sostoken govt directs alok verma to join work ...</td>\n",
       "      <td>govt directs alok verma to join work day befor...</td>\n",
       "    </tr>\n",
       "  </tbody>\n",
       "</table>\n",
       "</div>"
      ],
      "text/plain": [
       "                                           headlines  \\\n",
       "0  upgrad learner switches to career in ml al wit...   \n",
       "2  new zealand end rohit sharma led india match w...   \n",
       "3  aegon life iterm insurance plan helps customer...   \n",
       "5  rahat fateh ali khan denies getting notice for...   \n",
       "7  govt directs alok verma to join work day befor...   \n",
       "\n",
       "                                                text  \\\n",
       "0  saurav kant alumnus upgrad iiit pg program mac...   \n",
       "2  new zealand defeated india wickets fourth odi ...   \n",
       "3  aegon life iterm insurance plan customers enjo...   \n",
       "5  pakistani singer rahat fateh ali khan denied r...   \n",
       "7  weeks ex cbi director alok verma told departme...   \n",
       "\n",
       "                                       decoder_input  \\\n",
       "0  sostoken upgrad learner switches to career in ...   \n",
       "2  sostoken new zealand end rohit sharma led indi...   \n",
       "3  sostoken aegon life iterm insurance plan helps...   \n",
       "5  sostoken rahat fateh ali khan denies getting n...   \n",
       "7  sostoken govt directs alok verma to join work ...   \n",
       "\n",
       "                                      decoder_target  \n",
       "0  upgrad learner switches to career in ml al wit...  \n",
       "2  new zealand end rohit sharma led india match w...  \n",
       "3  aegon life iterm insurance plan helps customer...  \n",
       "5  rahat fateh ali khan denies getting notice for...  \n",
       "7  govt directs alok verma to join work day befor...  "
      ]
     },
     "execution_count": 20,
     "metadata": {},
     "output_type": "execute_result"
    }
   ],
   "source": [
    "#요약 데이터에는 시작 토큰과 종료 토큰을 추가한다.\n",
    "data['decoder_input'] = data['headlines'].apply(lambda x : 'sostoken '+ x)\n",
    "data['decoder_target'] = data['headlines'].apply(lambda x : x + ' eostoken')\n",
    "data.head()"
   ]
  },
  {
   "cell_type": "code",
   "execution_count": 21,
   "metadata": {},
   "outputs": [],
   "source": [
    "encoder_input = np.array(data['text']) # 인코더의 입력\n",
    "decoder_input = np.array(data['decoder_input']) # 디코더의 입력\n",
    "decoder_target = np.array(data['decoder_target']) # 디코더의 레이블"
   ]
  },
  {
   "cell_type": "code",
   "execution_count": 22,
   "metadata": {},
   "outputs": [
    {
     "name": "stdout",
     "output_type": "stream",
     "text": [
      "[69477 38204 74894 ... 26098  3620 37781]\n"
     ]
    }
   ],
   "source": [
    "indices = np.arange(encoder_input.shape[0])\n",
    "np.random.shuffle(indices)\n",
    "print(indices)"
   ]
  },
  {
   "cell_type": "code",
   "execution_count": 23,
   "metadata": {},
   "outputs": [],
   "source": [
    "encoder_input = encoder_input[indices]\n",
    "decoder_input = decoder_input[indices]\n",
    "decoder_target = decoder_target[indices]"
   ]
  },
  {
   "cell_type": "code",
   "execution_count": 24,
   "metadata": {},
   "outputs": [
    {
     "name": "stdout",
     "output_type": "stream",
     "text": [
      "테스트 데이터의 수 : 17168\n"
     ]
    }
   ],
   "source": [
    "n_of_val = int(len(encoder_input)*0.2)\n",
    "print('테스트 데이터의 수 :',n_of_val)"
   ]
  },
  {
   "cell_type": "code",
   "execution_count": 25,
   "metadata": {},
   "outputs": [
    {
     "name": "stdout",
     "output_type": "stream",
     "text": [
      "훈련 데이터의 개수 : 68675\n",
      "훈련 레이블의 개수 : 68675\n",
      "테스트 데이터의 개수 : 17168\n",
      "테스트 레이블의 개수 : 17168\n"
     ]
    }
   ],
   "source": [
    "encoder_input_train = encoder_input[:-n_of_val]\n",
    "decoder_input_train = decoder_input[:-n_of_val]\n",
    "decoder_target_train = decoder_target[:-n_of_val]\n",
    "\n",
    "encoder_input_test = encoder_input[-n_of_val:]\n",
    "decoder_input_test = decoder_input[-n_of_val:]\n",
    "decoder_target_test = decoder_target[-n_of_val:]\n",
    "\n",
    "print('훈련 데이터의 개수 :', len(encoder_input_train))\n",
    "print('훈련 레이블의 개수 :',len(decoder_input_train))\n",
    "print('테스트 데이터의 개수 :',len(encoder_input_test))\n",
    "print('테스트 레이블의 개수 :',len(decoder_input_test))"
   ]
  },
  {
   "cell_type": "code",
   "execution_count": 26,
   "metadata": {},
   "outputs": [],
   "source": [
    "src_tokenizer = Tokenizer() # 토크나이저 정의\n",
    "src_tokenizer.fit_on_texts(encoder_input_train) # 입력된 데이터로부터 단어 집합 생성"
   ]
  },
  {
   "cell_type": "code",
   "execution_count": 27,
   "metadata": {},
   "outputs": [
    {
     "name": "stdout",
     "output_type": "stream",
     "text": [
      "단어 집합(vocabulary)의 크기 : 64724\n",
      "등장 빈도가 6번 이하인 희귀 단어의 수: 44112\n",
      "단어 집합에서 희귀 단어를 제외시킬 경우의 단어 집합의 크기 20612\n",
      "단어 집합에서 희귀 단어의 비율: 68.15400778691057\n",
      "전체 등장 빈도에서 희귀 단어 등장 빈도 비율: 3.7870315845203852\n"
     ]
    }
   ],
   "source": [
    "threshold = 7\n",
    "total_cnt = len(src_tokenizer.word_index) # 단어의 수\n",
    "rare_cnt = 0 # 등장 빈도수가 threshold보다 작은 단어의 개수를 카운트\n",
    "total_freq = 0 # 훈련 데이터의 전체 단어 빈도수 총 합\n",
    "rare_freq = 0 # 등장 빈도수가 threshold보다 작은 단어의 등장 빈도수의 총 합\n",
    "\n",
    "# 단어와 빈도수의 쌍(pair)을 key와 value로 받는다.\n",
    "for key, value in src_tokenizer.word_counts.items():\n",
    "    total_freq = total_freq + value\n",
    "\n",
    "    # 단어의 등장 빈도수가 threshold보다 작으면\n",
    "    if(value < threshold):\n",
    "        rare_cnt = rare_cnt + 1\n",
    "        rare_freq = rare_freq + value\n",
    "\n",
    "print('단어 집합(vocabulary)의 크기 :',total_cnt)\n",
    "print('등장 빈도가 %s번 이하인 희귀 단어의 수: %s'%(threshold - 1, rare_cnt))\n",
    "print('단어 집합에서 희귀 단어를 제외시킬 경우의 단어 집합의 크기 %s'%(total_cnt - rare_cnt))\n",
    "print(\"단어 집합에서 희귀 단어의 비율:\", (rare_cnt / total_cnt)*100)\n",
    "print(\"전체 등장 빈도에서 희귀 단어 등장 빈도 비율:\", (rare_freq / total_freq)*100)"
   ]
  },
  {
   "cell_type": "code",
   "execution_count": 28,
   "metadata": {},
   "outputs": [],
   "source": [
    "src_vocab = 8000\n",
    "src_tokenizer = Tokenizer(num_words = src_vocab) # 단어 집합의 크기를 8,000으로 제한\n",
    "src_tokenizer.fit_on_texts(encoder_input_train) # 단어 집합 재생성."
   ]
  },
  {
   "cell_type": "code",
   "execution_count": 29,
   "metadata": {},
   "outputs": [
    {
     "name": "stdout",
     "output_type": "stream",
     "text": [
      "[[1112, 148, 1, 24, 36, 291, 796, 866, 541, 500, 1929, 4094, 753, 191, 9, 541, 625, 4284, 173, 4073, 1112, 4, 866, 3041, 1048, 2188, 1885, 939, 6, 3840, 407], [2764, 49, 15, 4169, 3230, 105, 1795, 675, 309, 825, 39, 735, 170, 21, 8, 39, 101, 1, 81, 5712, 5187, 1539, 2764, 277, 183, 175, 39, 3928, 1001, 830, 479, 277], [2, 14, 142, 365, 484, 616, 505, 480, 4251, 1832, 2489, 142, 3250, 949, 108, 71, 603, 7, 204, 713, 2859, 1367, 867, 2489, 1463, 4793]]\n"
     ]
    }
   ],
   "source": [
    "# 텍스트 시퀀스를 정수 시퀀스로 변환\n",
    "encoder_input_train = src_tokenizer.texts_to_sequences(encoder_input_train) \n",
    "encoder_input_test = src_tokenizer.texts_to_sequences(encoder_input_test)\n",
    "\n",
    "#잘 진행되었는지 샘플 출력\n",
    "print(encoder_input_train[:3])"
   ]
  },
  {
   "cell_type": "code",
   "execution_count": 30,
   "metadata": {},
   "outputs": [],
   "source": [
    "tar_tokenizer = Tokenizer()\n",
    "tar_tokenizer.fit_on_texts(decoder_input_train)"
   ]
  },
  {
   "cell_type": "code",
   "execution_count": 31,
   "metadata": {},
   "outputs": [
    {
     "name": "stdout",
     "output_type": "stream",
     "text": [
      "단어 집합(vocabulary)의 크기 : 28479\n",
      "등장 빈도가 5번 이하인 희귀 단어의 수: 18759\n",
      "단어 집합에서 희귀 단어를 제외시킬 경우의 단어 집합의 크기 9720\n",
      "단어 집합에서 희귀 단어의 비율: 65.86958811756031\n",
      "전체 등장 빈도에서 희귀 단어 등장 빈도 비율: 5.172307156798865\n"
     ]
    }
   ],
   "source": [
    "threshold = 6\n",
    "total_cnt = len(tar_tokenizer.word_index) # 단어의 수\n",
    "rare_cnt = 0 # 등장 빈도수가 threshold보다 작은 단어의 개수를 카운트\n",
    "total_freq = 0 # 훈련 데이터의 전체 단어 빈도수 총 합\n",
    "rare_freq = 0 # 등장 빈도수가 threshold보다 작은 단어의 등장 빈도수의 총 합\n",
    "\n",
    "# 단어와 빈도수의 쌍(pair)을 key와 value로 받는다.\n",
    "for key, value in tar_tokenizer.word_counts.items():\n",
    "    total_freq = total_freq + value\n",
    "\n",
    "    # 단어의 등장 빈도수가 threshold보다 작으면\n",
    "    if(value < threshold):\n",
    "        rare_cnt = rare_cnt + 1\n",
    "        rare_freq = rare_freq + value\n",
    "\n",
    "print('단어 집합(vocabulary)의 크기 :',total_cnt)\n",
    "print('등장 빈도가 %s번 이하인 희귀 단어의 수: %s'%(threshold - 1, rare_cnt))\n",
    "print('단어 집합에서 희귀 단어를 제외시킬 경우의 단어 집합의 크기 %s'%(total_cnt - rare_cnt))\n",
    "print(\"단어 집합에서 희귀 단어의 비율:\", (rare_cnt / total_cnt)*100)\n",
    "print(\"전체 등장 빈도에서 희귀 단어 등장 빈도 비율:\", (rare_freq / total_freq)*100)"
   ]
  },
  {
   "cell_type": "code",
   "execution_count": 32,
   "metadata": {},
   "outputs": [
    {
     "name": "stdout",
     "output_type": "stream",
     "text": [
      "input\n",
      "input  [[1, 236, 100, 3, 393, 7, 845, 8, 838, 711, 481], [1, 80, 195, 1293, 4, 789, 1259, 34, 119], [1, 354, 35, 11, 237, 81], [1, 465, 6, 1482, 11, 30, 4, 58], [1, 66, 149, 1306, 6, 30, 957, 1741]]\n",
      "target\n",
      "decoder  [[236, 100, 3, 393, 7, 845, 8, 838, 711, 481, 2], [80, 195, 1293, 4, 789, 1259, 34, 119, 2], [354, 35, 11, 237, 81, 2], [465, 6, 1482, 11, 30, 4, 58, 2], [66, 149, 1306, 6, 30, 957, 1741, 2]]\n"
     ]
    }
   ],
   "source": [
    "tar_vocab = 2000\n",
    "tar_tokenizer = Tokenizer(num_words = tar_vocab) \n",
    "tar_tokenizer.fit_on_texts(decoder_input_train)\n",
    "tar_tokenizer.fit_on_texts(decoder_target_train)\n",
    "\n",
    "# 텍스트 시퀀스를 정수 시퀀스로 변환\n",
    "decoder_input_train = tar_tokenizer.texts_to_sequences(decoder_input_train) \n",
    "decoder_target_train = tar_tokenizer.texts_to_sequences(decoder_target_train)\n",
    "decoder_input_test = tar_tokenizer.texts_to_sequences(decoder_input_test)\n",
    "decoder_target_test = tar_tokenizer.texts_to_sequences(decoder_target_test)\n",
    "\n",
    "#잘 변환되었는지 확인\n",
    "print('input')\n",
    "print('input ',decoder_input_train[:5])\n",
    "print('target')\n",
    "print('decoder ',decoder_target_train[:5])"
   ]
  },
  {
   "cell_type": "code",
   "execution_count": 33,
   "metadata": {},
   "outputs": [
    {
     "name": "stdout",
     "output_type": "stream",
     "text": [
      "삭제할 훈련 데이터의 개수 : 10\n",
      "삭제할 테스트 데이터의 개수 : 5\n",
      "훈련 데이터의 개수 : 68665\n",
      "훈련 레이블의 개수 : 68665\n",
      "테스트 데이터의 개수 : 17163\n",
      "테스트 레이블의 개수 : 17163\n"
     ]
    },
    {
     "name": "stderr",
     "output_type": "stream",
     "text": [
      "/home/aiffel/anaconda3/envs/aiffel/lib/python3.7/site-packages/numpy/core/_asarray.py:83: VisibleDeprecationWarning: Creating an ndarray from ragged nested sequences (which is a list-or-tuple of lists-or-tuples-or ndarrays with different lengths or shapes) is deprecated. If you meant to do this, you must specify 'dtype=object' when creating the ndarray\n",
      "  return array(a, dtype, copy=False, order=order)\n"
     ]
    }
   ],
   "source": [
    "drop_train = [index for index, sentence in enumerate(decoder_input_train) if len(sentence) == 1]\n",
    "drop_test = [index for index, sentence in enumerate(decoder_input_test) if len(sentence) == 1]\n",
    "\n",
    "print('삭제할 훈련 데이터의 개수 :',len(drop_train))\n",
    "print('삭제할 테스트 데이터의 개수 :',len(drop_test))\n",
    "\n",
    "encoder_input_train = np.delete(encoder_input_train, drop_train, axis=0)\n",
    "decoder_input_train = np.delete(decoder_input_train, drop_train, axis=0)\n",
    "decoder_target_train = np.delete(decoder_target_train, drop_train, axis=0)\n",
    "\n",
    "encoder_input_test = np.delete(encoder_input_test, drop_test, axis=0)\n",
    "decoder_input_test = np.delete(decoder_input_test, drop_test, axis=0)\n",
    "decoder_target_test = np.delete(decoder_target_test, drop_test, axis=0)\n",
    "\n",
    "print('훈련 데이터의 개수 :', len(encoder_input_train))\n",
    "print('훈련 레이블의 개수 :',len(decoder_input_train))\n",
    "print('테스트 데이터의 개수 :',len(encoder_input_test))\n",
    "print('테스트 레이블의 개수 :',len(decoder_input_test))"
   ]
  },
  {
   "cell_type": "code",
   "execution_count": 35,
   "metadata": {},
   "outputs": [],
   "source": [
    "encoder_input_train = pad_sequences(encoder_input_train, maxlen = text_max_len, padding='post')\n",
    "encoder_input_test = pad_sequences(encoder_input_test, maxlen = text_max_len, padding='post')\n",
    "decoder_input_train = pad_sequences(decoder_input_train, maxlen = headlines_max_len, padding='post')\n",
    "decoder_target_train = pad_sequences(decoder_target_train, maxlen = headlines_max_len, padding='post')\n",
    "decoder_input_test = pad_sequences(decoder_input_test, maxlen = headlines_max_len, padding='post')\n",
    "decoder_target_test = pad_sequences(decoder_target_test, maxlen = headlines_max_len, padding='post')"
   ]
  },
  {
   "cell_type": "markdown",
   "metadata": {},
   "source": [
    "## Step 3. 어텐션 메커니즘 사용하기 (추상적 요약)"
   ]
  },
  {
   "cell_type": "code",
   "execution_count": 36,
   "metadata": {},
   "outputs": [
    {
     "name": "stdout",
     "output_type": "stream",
     "text": [
      "WARNING:tensorflow:Layer lstm will not use cuDNN kernel since it doesn't meet the cuDNN kernel criteria. It will use generic GPU kernel as fallback when running on GPU\n",
      "WARNING:tensorflow:Layer lstm_1 will not use cuDNN kernel since it doesn't meet the cuDNN kernel criteria. It will use generic GPU kernel as fallback when running on GPU\n",
      "WARNING:tensorflow:Layer lstm_2 will not use cuDNN kernel since it doesn't meet the cuDNN kernel criteria. It will use generic GPU kernel as fallback when running on GPU\n"
     ]
    }
   ],
   "source": [
    "from tensorflow.keras.layers import Input, LSTM, Embedding, Dense, Concatenate\n",
    "from tensorflow.keras.models import Model\n",
    "from tensorflow.keras.callbacks import EarlyStopping, ModelCheckpoint\n",
    "\n",
    "\n",
    "# 인코더 설계 시작\n",
    "embedding_dim = 128\n",
    "hidden_size = 256\n",
    "\n",
    "# 인코더\n",
    "encoder_inputs = Input(shape=(text_max_len,))\n",
    "\n",
    "# 인코더의 임베딩 층\n",
    "enc_emb = Embedding(src_vocab, embedding_dim)(encoder_inputs)\n",
    "\n",
    "# 인코더의 LSTM 1\n",
    "encoder_lstm1 = LSTM(hidden_size, return_sequences=True, return_state=True ,dropout = 0.4, recurrent_dropout = 0.4)\n",
    "encoder_output1, state_h1, state_c1 = encoder_lstm1(enc_emb)\n",
    "\n",
    "# 인코더의 LSTM 2\n",
    "encoder_lstm2 = LSTM(hidden_size, return_sequences=True, return_state=True, dropout=0.4, recurrent_dropout=0.4)\n",
    "encoder_output2, state_h2, state_c2 = encoder_lstm2(encoder_output1)\n",
    "\n",
    "# 인코더의 LSTM 3\n",
    "encoder_lstm3 = LSTM(hidden_size, return_state=True, return_sequences=True, dropout=0.4, recurrent_dropout=0.4)\n",
    "encoder_outputs, state_h, state_c= encoder_lstm3(encoder_output2)"
   ]
  },
  {
   "cell_type": "code",
   "execution_count": 37,
   "metadata": {},
   "outputs": [
    {
     "name": "stdout",
     "output_type": "stream",
     "text": [
      "WARNING:tensorflow:Layer lstm_3 will not use cuDNN kernel since it doesn't meet the cuDNN kernel criteria. It will use generic GPU kernel as fallback when running on GPU\n"
     ]
    }
   ],
   "source": [
    "# 디코더 설계\n",
    "\n",
    "decoder_inputs = Input(shape=(None,))\n",
    "\n",
    "# 디코더의 임베딩 층\n",
    "dec_emb_layer = Embedding(tar_vocab, embedding_dim)\n",
    "dec_emb = dec_emb_layer(decoder_inputs)\n",
    "\n",
    "# 디코더의 LSTM\n",
    "decoder_lstm = LSTM(hidden_size, return_sequences = True, return_state = True, dropout = 0.4, recurrent_dropout=0.2)\n",
    "decoder_outputs, _, _ = decoder_lstm(dec_emb, initial_state = [state_h, state_c])"
   ]
  },
  {
   "cell_type": "code",
   "execution_count": 38,
   "metadata": {
    "scrolled": true
   },
   "outputs": [
    {
     "name": "stdout",
     "output_type": "stream",
     "text": [
      "Model: \"model\"\n",
      "__________________________________________________________________________________________________\n",
      "Layer (type)                    Output Shape         Param #     Connected to                     \n",
      "==================================================================================================\n",
      "input_1 (InputLayer)            [(None, 40)]         0                                            \n",
      "__________________________________________________________________________________________________\n",
      "embedding (Embedding)           (None, 40, 128)      1024000     input_1[0][0]                    \n",
      "__________________________________________________________________________________________________\n",
      "lstm (LSTM)                     [(None, 40, 256), (N 394240      embedding[0][0]                  \n",
      "__________________________________________________________________________________________________\n",
      "input_2 (InputLayer)            [(None, None)]       0                                            \n",
      "__________________________________________________________________________________________________\n",
      "lstm_1 (LSTM)                   [(None, 40, 256), (N 525312      lstm[0][0]                       \n",
      "__________________________________________________________________________________________________\n",
      "embedding_1 (Embedding)         (None, None, 128)    256000      input_2[0][0]                    \n",
      "__________________________________________________________________________________________________\n",
      "lstm_2 (LSTM)                   [(None, 40, 256), (N 525312      lstm_1[0][0]                     \n",
      "__________________________________________________________________________________________________\n",
      "lstm_3 (LSTM)                   [(None, None, 256),  394240      embedding_1[0][0]                \n",
      "                                                                 lstm_2[0][1]                     \n",
      "                                                                 lstm_2[0][2]                     \n",
      "__________________________________________________________________________________________________\n",
      "dense (Dense)                   (None, None, 2000)   514000      lstm_3[0][0]                     \n",
      "==================================================================================================\n",
      "Total params: 3,633,104\n",
      "Trainable params: 3,633,104\n",
      "Non-trainable params: 0\n",
      "__________________________________________________________________________________________________\n"
     ]
    }
   ],
   "source": [
    "# 디코더의 출력층\n",
    "decoder_softmax_layer = Dense(tar_vocab, activation = 'softmax')\n",
    "decoder_softmax_outputs = decoder_softmax_layer(decoder_outputs) \n",
    "\n",
    "# 모델 정의\n",
    "model = Model([encoder_inputs, decoder_inputs], decoder_softmax_outputs)\n",
    "model.summary()"
   ]
  },
  {
   "cell_type": "code",
   "execution_count": 39,
   "metadata": {},
   "outputs": [],
   "source": [
    "from attention import AttentionLayer"
   ]
  },
  {
   "cell_type": "code",
   "execution_count": 40,
   "metadata": {},
   "outputs": [
    {
     "name": "stdout",
     "output_type": "stream",
     "text": [
      "Model: \"model_1\"\n",
      "__________________________________________________________________________________________________\n",
      "Layer (type)                    Output Shape         Param #     Connected to                     \n",
      "==================================================================================================\n",
      "input_1 (InputLayer)            [(None, 40)]         0                                            \n",
      "__________________________________________________________________________________________________\n",
      "embedding (Embedding)           (None, 40, 128)      1024000     input_1[0][0]                    \n",
      "__________________________________________________________________________________________________\n",
      "lstm (LSTM)                     [(None, 40, 256), (N 394240      embedding[0][0]                  \n",
      "__________________________________________________________________________________________________\n",
      "input_2 (InputLayer)            [(None, None)]       0                                            \n",
      "__________________________________________________________________________________________________\n",
      "lstm_1 (LSTM)                   [(None, 40, 256), (N 525312      lstm[0][0]                       \n",
      "__________________________________________________________________________________________________\n",
      "embedding_1 (Embedding)         (None, None, 128)    256000      input_2[0][0]                    \n",
      "__________________________________________________________________________________________________\n",
      "lstm_2 (LSTM)                   [(None, 40, 256), (N 525312      lstm_1[0][0]                     \n",
      "__________________________________________________________________________________________________\n",
      "lstm_3 (LSTM)                   [(None, None, 256),  394240      embedding_1[0][0]                \n",
      "                                                                 lstm_2[0][1]                     \n",
      "                                                                 lstm_2[0][2]                     \n",
      "__________________________________________________________________________________________________\n",
      "attention_layer (AttentionLayer ((None, None, 256),  131328      lstm_2[0][0]                     \n",
      "                                                                 lstm_3[0][0]                     \n",
      "__________________________________________________________________________________________________\n",
      "concat_layer (Concatenate)      (None, None, 512)    0           lstm_3[0][0]                     \n",
      "                                                                 attention_layer[0][0]            \n",
      "__________________________________________________________________________________________________\n",
      "dense_1 (Dense)                 (None, None, 2000)   1026000     concat_layer[0][0]               \n",
      "==================================================================================================\n",
      "Total params: 4,276,432\n",
      "Trainable params: 4,276,432\n",
      "Non-trainable params: 0\n",
      "__________________________________________________________________________________________________\n"
     ]
    }
   ],
   "source": [
    "# 어텐션 층(어텐션 함수)\n",
    "attn_layer = AttentionLayer(name='attention_layer')\n",
    "# 인코더와 디코더의 모든 time step의 hidden state를 어텐션 층에 전달하고 결과를 리턴\n",
    "attn_out, attn_states = attn_layer([encoder_outputs, decoder_outputs])\n",
    "\n",
    "# 어텐션의 결과와 디코더의 hidden state들을 연결\n",
    "decoder_concat_input = Concatenate(axis = -1, name='concat_layer')([decoder_outputs, attn_out])\n",
    "\n",
    "# 디코더의 출력층\n",
    "decoder_softmax_layer = Dense(tar_vocab, activation='softmax')\n",
    "decoder_softmax_outputs = decoder_softmax_layer(decoder_concat_input)\n",
    "\n",
    "# 모델 정의\n",
    "model = Model([encoder_inputs, decoder_inputs], decoder_softmax_outputs)\n",
    "model.summary()"
   ]
  },
  {
   "cell_type": "code",
   "execution_count": 41,
   "metadata": {
    "scrolled": true
   },
   "outputs": [
    {
     "name": "stdout",
     "output_type": "stream",
     "text": [
      "Epoch 1/50\n",
      "269/269 [==============================] - 68s 252ms/step - loss: 4.1629 - val_loss: 3.8690\n",
      "Epoch 2/50\n",
      "269/269 [==============================] - 67s 248ms/step - loss: 3.6801 - val_loss: 3.5455\n",
      "Epoch 3/50\n",
      "269/269 [==============================] - 66s 245ms/step - loss: 3.4213 - val_loss: 3.3292\n",
      "Epoch 4/50\n",
      "269/269 [==============================] - 65s 242ms/step - loss: 3.2133 - val_loss: 3.1877\n",
      "Epoch 5/50\n",
      "269/269 [==============================] - 67s 248ms/step - loss: 3.0522 - val_loss: 3.0597\n",
      "Epoch 6/50\n",
      "269/269 [==============================] - 66s 246ms/step - loss: 2.9263 - val_loss: 2.9976\n",
      "Epoch 7/50\n",
      "269/269 [==============================] - 66s 244ms/step - loss: 2.8246 - val_loss: 2.9042\n",
      "Epoch 8/50\n",
      "269/269 [==============================] - 65s 243ms/step - loss: 2.7393 - val_loss: 2.8552\n",
      "Epoch 9/50\n",
      "269/269 [==============================] - 65s 243ms/step - loss: 2.6632 - val_loss: 2.8142\n",
      "Epoch 10/50\n",
      "269/269 [==============================] - 67s 249ms/step - loss: 2.5969 - val_loss: 2.7775\n",
      "Epoch 11/50\n",
      "269/269 [==============================] - 68s 251ms/step - loss: 2.5388 - val_loss: 2.7569\n",
      "Epoch 12/50\n",
      "269/269 [==============================] - 68s 253ms/step - loss: 2.4838 - val_loss: 2.7222\n",
      "Epoch 13/50\n",
      "269/269 [==============================] - 67s 248ms/step - loss: 2.4347 - val_loss: 2.6973\n",
      "Epoch 14/50\n",
      "269/269 [==============================] - 69s 257ms/step - loss: 2.3899 - val_loss: 2.6822\n",
      "Epoch 15/50\n",
      "269/269 [==============================] - 65s 242ms/step - loss: 2.3474 - val_loss: 2.6702\n",
      "Epoch 16/50\n",
      "269/269 [==============================] - 67s 250ms/step - loss: 2.3072 - val_loss: 2.6618\n",
      "Epoch 17/50\n",
      "269/269 [==============================] - 66s 245ms/step - loss: 2.2714 - val_loss: 2.6507\n",
      "Epoch 18/50\n",
      "269/269 [==============================] - 66s 247ms/step - loss: 2.2379 - val_loss: 2.6403\n",
      "Epoch 19/50\n",
      "269/269 [==============================] - 66s 247ms/step - loss: 2.2055 - val_loss: 2.6375\n",
      "Epoch 20/50\n",
      "269/269 [==============================] - 65s 242ms/step - loss: 2.1756 - val_loss: 2.6267\n",
      "Epoch 21/50\n",
      "269/269 [==============================] - 66s 246ms/step - loss: 2.1458 - val_loss: 2.6332\n",
      "Epoch 22/50\n",
      "269/269 [==============================] - 67s 248ms/step - loss: 2.1193 - val_loss: 2.6191\n",
      "Epoch 23/50\n",
      "269/269 [==============================] - 65s 240ms/step - loss: 2.0936 - val_loss: 2.6188\n",
      "Epoch 24/50\n",
      "269/269 [==============================] - 65s 240ms/step - loss: 2.0691 - val_loss: 2.6174\n",
      "Epoch 25/50\n",
      "269/269 [==============================] - 66s 246ms/step - loss: 2.0462 - val_loss: 2.6159\n",
      "Epoch 26/50\n",
      "269/269 [==============================] - 65s 242ms/step - loss: 2.0249 - val_loss: 2.6161\n",
      "Epoch 27/50\n",
      "269/269 [==============================] - 67s 250ms/step - loss: 2.0044 - val_loss: 2.6122\n",
      "Epoch 28/50\n",
      "269/269 [==============================] - 67s 247ms/step - loss: 1.9833 - val_loss: 2.6145\n",
      "Epoch 29/50\n",
      "269/269 [==============================] - 66s 245ms/step - loss: 1.9645 - val_loss: 2.6148\n",
      "Epoch 00029: early stopping\n"
     ]
    }
   ],
   "source": [
    "model.compile(optimizer='rmsprop', loss='sparse_categorical_crossentropy')\n",
    "es = EarlyStopping(monitor='val_loss', mode='min', verbose=1, patience = 2)\n",
    "history = model.fit(x = [encoder_input_train, decoder_input_train], y = decoder_target_train, \\\n",
    "          validation_data = ([encoder_input_test, decoder_input_test], decoder_target_test),\n",
    "          batch_size = 256, callbacks=[es], epochs = 50)"
   ]
  },
  {
   "cell_type": "code",
   "execution_count": 42,
   "metadata": {
    "scrolled": true
   },
   "outputs": [
    {
     "data": {
      "image/png": "[encoded data removed]",
      "text/plain": [
       "<Figure size 432x288 with 1 Axes>"
      ]
     },
     "metadata": {
      "needs_background": "light"
     },
     "output_type": "display_data"
    }
   ],
   "source": [
    "plt.plot(history.history['loss'], label='train')\n",
    "plt.plot(history.history['val_loss'], label='test')\n",
    "plt.legend()\n",
    "plt.show()"
   ]
  },
  {
   "cell_type": "markdown",
   "metadata": {},
   "source": [
    "## Step 4. 실제 결과와 요약문 비교하기 (추상적 요약)"
   ]
  },
  {
   "cell_type": "code",
   "execution_count": 43,
   "metadata": {},
   "outputs": [],
   "source": [
    "src_index_to_word = src_tokenizer.index_word # 원문 단어 집합에서 정수 -> 단어를 얻음\n",
    "tar_word_to_index = tar_tokenizer.word_index # 요약 단어 집합에서 단어 -> 정수를 얻음\n",
    "tar_index_to_word = tar_tokenizer.index_word # 요약 단어 집합에서 정수 -> 단어를 얻음"
   ]
  },
  {
   "cell_type": "code",
   "execution_count": 44,
   "metadata": {},
   "outputs": [],
   "source": [
    "# 인코더 설계\n",
    "encoder_model = Model(inputs=encoder_inputs, outputs=[encoder_outputs, state_h, state_c])\n",
    "\n",
    "# 이전 시점의 상태들을 저장하는 텐서\n",
    "decoder_state_input_h = Input(shape=(hidden_size,))\n",
    "decoder_state_input_c = Input(shape=(hidden_size,))\n",
    "\n",
    "dec_emb2 = dec_emb_layer(decoder_inputs)\n",
    "# 문장의 다음 단어를 예측하기 위해서 초기 상태(initial_state)를 이전 시점의 상태로 사용. 이는 뒤의 함수 decode_sequence()에 구현\n",
    "# 훈련 과정에서와 달리 LSTM의 리턴하는 은닉 상태와 셀 상태인 state_h와 state_c를 버리지 않음.\n",
    "decoder_outputs2, state_h2, state_c2 = decoder_lstm(dec_emb2, initial_state=[decoder_state_input_h, decoder_state_input_c])"
   ]
  },
  {
   "cell_type": "code",
   "execution_count": 45,
   "metadata": {},
   "outputs": [],
   "source": [
    "# 어텐션 함수\n",
    "decoder_hidden_state_input = Input(shape=(text_max_len, hidden_size))\n",
    "attn_out_inf, attn_states_inf = attn_layer([decoder_hidden_state_input, decoder_outputs2])\n",
    "decoder_inf_concat = Concatenate(axis=-1, name='concat')([decoder_outputs2, attn_out_inf])\n",
    "\n",
    "# 디코더의 출력층\n",
    "decoder_outputs2 = decoder_softmax_layer(decoder_inf_concat) \n",
    "\n",
    "# 최종 디코더 모델\n",
    "decoder_model = Model(\n",
    "    [decoder_inputs] + [decoder_hidden_state_input,decoder_state_input_h, decoder_state_input_c],\n",
    "    [decoder_outputs2] + [state_h2, state_c2])"
   ]
  },
  {
   "cell_type": "code",
   "execution_count": 49,
   "metadata": {},
   "outputs": [],
   "source": [
    "def decode_sequence(input_seq):\n",
    "    # 입력으로부터 인코더의 상태를 얻음\n",
    "    e_out, e_h, e_c = encoder_model.predict(input_seq)\n",
    "\n",
    "     # <SOS>에 해당하는 토큰 생성\n",
    "    target_seq = np.zeros((1,1))\n",
    "    target_seq[0, 0] = tar_word_to_index['sostoken']\n",
    "\n",
    "    stop_condition = False\n",
    "    decoded_sentence = ''\n",
    "    while not stop_condition: # stop_condition이 True가 될 때까지 루프 반복\n",
    "\n",
    "        output_tokens, h, c = decoder_model.predict([target_seq] + [e_out, e_h, e_c])\n",
    "        sampled_token_index = np.argmax(output_tokens[0, -1, :])\n",
    "        sampled_token = tar_index_to_word[sampled_token_index]\n",
    "\n",
    "        if(sampled_token!='eostoken'):\n",
    "            decoded_sentence += ' '+sampled_token\n",
    "\n",
    "        #  <eos>에 도달하거나 최대 길이를 넘으면 중단.\n",
    "        if (sampled_token == 'eostoken'  or len(decoded_sentence.split()) >= (headlines_max_len-1)):\n",
    "            stop_condition = True\n",
    "\n",
    "        # 길이가 1인 타겟 시퀀스를 업데이트\n",
    "        target_seq = np.zeros((1,1))\n",
    "        target_seq[0, 0] = sampled_token_index\n",
    "\n",
    "        # 상태를 업데이트 합니다.\n",
    "        e_h, e_c = h, c\n",
    "\n",
    "    return decoded_sentence"
   ]
  },
  {
   "cell_type": "code",
   "execution_count": 50,
   "metadata": {},
   "outputs": [],
   "source": [
    "# 원문의 정수 시퀀스를 텍스트 시퀀스로 변환\n",
    "def seq2text(input_seq):\n",
    "    temp=''\n",
    "    for i in input_seq:\n",
    "        if(i!=0):\n",
    "            temp = temp + src_index_to_word[i]+' '\n",
    "    return temp\n",
    "\n",
    "# 요약문의 정수 시퀀스를 텍스트 시퀀스로 변환\n",
    "def seq2summary(input_seq):\n",
    "    temp=''\n",
    "    for i in input_seq:\n",
    "        if((i!=0 and i!=tar_word_to_index['sostoken']) and i!=tar_word_to_index['eostoken']):\n",
    "            temp = temp + tar_index_to_word[i] + ' '\n",
    "    return temp"
   ]
  },
  {
   "cell_type": "code",
   "execution_count": 51,
   "metadata": {},
   "outputs": [
    {
     "name": "stdout",
     "output_type": "stream",
     "text": [
      "원문 : google monday announced users pay bills payments interface based payment app without transaction charges feature includes bills electricity gas water well mobile bills also send bill allow users check whether paid bill \n",
      "실제 요약 : google now allows users to pay for free \n",
      "예측 요약 :  google to pay mn to\n",
      "\n",
      "\n",
      "원문 : five people including senior bank officials convicted awarded jail terms securities scam convicted made fraudulent transactions private firm andhra bank subsidiary needed funds convicted without ensuring transactions made securities \n",
      "실제 요약 : senior get up to yrs jail in scam \n",
      "예측 요약 :  bank sentenced to in bank case\n",
      "\n",
      "\n",
      "원문 : former england captain cook said side suspected australia engaged ball tampering perth test recent ashes series cook added australia managed get ball rain english could however cook added speed could also factor \n",
      "실제 요약 : england suspected ball by australia in cook \n",
      "예측 요약 :  ball of smith was steve smith\n",
      "\n",
      "\n",
      "원문 : indian wrestler phogat become first indian athlete receive nomination world sports awards held february year old gold medals gold coast commonwealth games asian games nominated world comeback year award \n",
      "실제 요약 : st indian to be for awards \n",
      "예측 요약 :  india st indian to win gold at asiad\n",
      "\n",
      "\n",
      "원문 : world expensive footballer neymar said five time ballon winner cristiano ronaldo joined juventus million change italian football football legend italian football watched child neymar added ronaldo scored goals matches nine year spell real madrid \n",
      "실제 요약 : ronaldo is will change italian football \n",
      "예측 요약 :  ronaldo to be used for his first time\n",
      "\n",
      "\n",
      "원문 : chinese government banned singer justin bieber performing country engaged series bad social life previous performance china bieber perform asia later year scheduled countries like indonesia japan singapore part purpose world tour \n",
      "실제 요약 : china bans from over bad \n",
      "예측 요약 :  china bans on\n",
      "\n",
      "\n",
      "원문 : pitch used india south africa test stadium rated poor icc stadium received three points five points five year period suspended international cricket year \n",
      "실제 요약 : pitch for third india south africa test poor by icc \n",
      "예측 요약 :  pitch to reach test cricket in test cricket match\n",
      "\n",
      "\n",
      "원문 : shah rukh khan earlier revealed son khan wants become director said writing directing learning stuff four years shah rukh added daughter khan wants act also attend four year course theatre think study actor said \n",
      "실제 요약 : is for years srk \n",
      "예측 요약 :  son is son son srk\n",
      "\n",
      "\n",
      "원문 : class student allegedly tied electric pole left sun around three hours attending school telangana child father punished attend school week child parents let case registered police officials said \n",
      "실제 요약 : father ties minor son to for school in \n",
      "예측 요약 :  class boy jumps to death from school in\n",
      "\n",
      "\n",
      "원문 : reporter handed six pack beer coverage hurricane harvey friday video tweeted fox news seen mid coverage woman comes frame says brought guys beer even gave hug tweeted broadcast \n",
      "실제 요약 : gives beer to journo mid \n",
      "예측 요약 :  italian man trolled for calling fish\n",
      "\n",
      "\n",
      "원문 : cbi denied confirming rape charge bjp mla kuldeep unnao rape case calling reports legislator accused raping victim home last year brother also accused beating victim father judicial custody died hours later hospital \n",
      "실제 요약 : cbi denies report it rape charge against mla \n",
      "예측 요약 :  rape victim accused of rape victim father\n",
      "\n",
      "\n",
      "원문 : union railway minister piyush goyal said plans railways either ever goyal clarification came response concerns raised employee unions national railways inviting private participation areas station development rail infrastructure \n",
      "실제 요약 : no plans to railways now or ever govt \n",
      "예측 요약 :  railways to get for\n",
      "\n",
      "\n",
      "원문 : lost believed uk election pm theresa may british william hill took said around million majority backing may notably may lost parliamentary majority calling early election strengthen \n",
      "실제 요약 : lost lakh after on uk pm may \n",
      "예측 요약 :  uk president may have been british president\n",
      "\n",
      "\n",
      "원문 : centre launched clean drive water bodies special focus yamuna delhi done ahead world environment day june hosted india year union environment ministry allocated lakh beach water body \n",
      "실제 요약 : centre launches clean up drive for water bodies \n",
      "예측 요약 :  govt to roads in bengaluru\n",
      "\n",
      "\n",
      "원문 : us president donald trump helped parents evade taxes fraud received least million today dollars father real estate according report trump reportedly strategy parents real estate holdings reduce tax bill properties transferred siblings \n",
      "실제 요약 : trump helped his parents through fraud report \n",
      "예측 요약 :  trump family to pay cr for family report\n",
      "\n",
      "\n",
      "원문 : russian lawmakers bill bar children using social media networks according reports per draft social network platforms register new users provide passport data platforms violating rule could fined \n",
      "실제 요약 : russia children under from social \n",
      "예측 요약 :  russian russian startup to help online content\n",
      "\n",
      "\n",
      "원문 : bsp chief mayawati announced party would form alliance congress upcoming assembly elections rajasthan madhya pradesh getting defeat bjp ground reality people congress party mistakes corruption added \n",
      "실제 요약 : congress no alliance with them in mp raj mayawati \n",
      "예측 요약 :  mayawati to contest polls from\n",
      "\n",
      "\n",
      "원문 : indian railways decided remove devices coaches express express official said railways took decision screens found damaged broken headphones stolen official added meanwhile railways planning provide free wi fi trains \n",
      "실제 요약 : to be removed from as people them \n",
      "예측 요약 :  railways to train after\n",
      "\n",
      "\n",
      "원문 : rejecting sri sri ravi shankar offer resolve babri masjid dispute board india muslim personal law board wednesday said spiritual leader legal standing issue comes sri sri said talk stakeholders involved issue met cm yogi adityanath \n",
      "실제 요약 : sri sri cannot the dispute board \n",
      "예측 요약 :  sri sri seeks board for\n",
      "\n",
      "\n",
      "원문 : yamuna expressway industrial development authority reportedly initiated action funds worth crore one directed sell units project temporary completion certificate cancelled comes sent notices crore meant completing housing projects \n",
      "실제 요약 : two noida face action for crore \n",
      "예측 요약 :  seeks crore for\n",
      "\n",
      "\n",
      "원문 : rbi asked cooperative use word bank names violates banking regulation act central bank said neither issued licence authorised rbi undertake banking business advised public exercise dealing cooperative \n",
      "실제 요약 : rbi asks not to use bank in names \n",
      "예측 요약 :  rbi must bank of bank\n",
      "\n",
      "\n",
      "원문 : born october indian american physicist singh father fibre taught school light travel straight lines successfully demonstrated light transmission glass research college london published article using term fibre first time \n",
      "실제 요약 : india born the term \n",
      "예측 요약 :  india born to get school for\n",
      "\n",
      "\n",
      "원문 : mars appear july july make closest approach earth july nasa said distance million km closest since mars closest nearly years million km repeated year \n",
      "실제 요약 : mars to be to earth in years on july nasa \n",
      "예측 요약 :  mars to be nasa\n",
      "\n",
      "\n",
      "원문 : government monday appointed revenue secretary new finance secretary gujarat ias officer involved gst rules also part gst council appointment replaced ashok achieved october \n",
      "실제 요약 : revenue secy appointed new finance secretary \n",
      "예측 요약 :  govt appoints new gst to gst\n",
      "\n",
      "\n",
      "원문 : two border security force motorcycle trick riding team entered book records riding fitted continuously hours minutes seconds record inspector kumar singh head constable kumar standing feet inch tall \n",
      "실제 요약 : bsf sets world record by bike for hrs \n",
      "예측 요약 :  bsf officers to celebrate day\n",
      "\n",
      "\n",
      "원문 : four men saturday allegedly tortured raped male dog mumbai dog went missing day spotted bleeding animal welfare non government organisation stated dog taken doctor getting \n",
      "실제 요약 : male dog raped by four men in mumbai \n",
      "예측 요약 :  rape survivor dog body found in dog toilet\n",
      "\n",
      "\n",
      "원문 : leading indian football team intercontinental cup victory brace final captain sunil chhetri took twitter thank fans backing team feeling thank india win fans filled stands home believed us wrote chhetri scored goals tournament \n",
      "실제 요약 : this win is for fans who the sunil \n",
      "예측 요약 :  sa captain tweets out of team india team\n",
      "\n",
      "\n",
      "원문 : russian president vladimir putin revealed ordered shoot passenger plane reported carrying bomb targeting winter olympics ordered officials follow plan recommended situations called plane shot however threat found false alarm \n",
      "실제 요약 : putin had ordered to shoot down passenger plane in \n",
      "예측 요약 :  russian prez putin crash in crash\n",
      "\n",
      "\n",
      "원문 : auditor general india criticised food regulator issuing licences food business operators without complete documents questioning regulator quality testing said state labs added test checked food qualified food \n",
      "실제 요약 : food over poor \n"
     ]
    },
    {
     "name": "stdout",
     "output_type": "stream",
     "text": [
      "예측 요약 :  food food to food\n",
      "\n",
      "\n",
      "원문 : passenger filed police complaint indigo alleging airline indian currency refused accept payment food indian rupees bengaluru dubai flight indigo however said flight sales menu international flights airline accept indian currency policy line foreign exchange management act \n",
      "실제 요약 : indigo passenger denied food for paying in indian currency \n",
      "예측 요약 :  indigo fines airlines for flight\n",
      "\n",
      "\n",
      "원문 : video shared park shows letting body us attempt survive winter letting stick water state called wherein cold animals slow survive without food last four five months \n",
      "실제 요약 : us park shares pictures of with water \n",
      "예측 요약 :  video us stage from\n",
      "\n",
      "\n",
      "원문 : players crashed photographer celebrating team th minute winner england fifa world cup semi final wednesday players apologised photographer took turns kissing helping photographer kept taking pictures despite ground players \n",
      "실제 요약 : players crash into him during \n",
      "예측 요약 :  players crashes out of brazil wc winning team\n",
      "\n",
      "\n",
      "원문 : british airways announced economy seats new fleet airbus airline added flights feature seats pre comfortable less four hours notably stopped serving alcohol flight meals short haul flights \n",
      "실제 요약 : british airways new planes will not let flyers seats \n",
      "예측 요약 :  british airways to get seats seats in march\n",
      "\n",
      "\n",
      "원문 : india largest airline indigo revised number faced last year times jump reported december airline claimed aviation regulator dgca asked reporting indigo faced massive engine related new airbus neo planes last year \n",
      "실제 요약 : indigo number of from to \n",
      "예측 요약 :  indigo to get its highest ever\n",
      "\n",
      "\n",
      "원문 : british defence secretary williamson wednesday said citizens joined islamic state militant group iraq syria killed adding uk everything destroy eliminate threat williamson said quite simply view dead terrorist cannot cause harm britain \n",
      "실제 요약 : isis should be killed uk defence secretary \n",
      "예측 요약 :  uk parliament to isis\n",
      "\n",
      "\n",
      "원문 : india chief asaduddin owaisi brother owaisi declared winner seat telangana assembly elections held constituency since defeated bin congress aimim seven seats telangana assembly elections \n",
      "실제 요약 : wins seat in telangana \n",
      "예측 요약 :  son of son wins seat in\n",
      "\n",
      "\n",
      "원문 : idea cellular called general meeting june decide changing name vodafone idea post merger vodafone india merger expected completed june create india biggest telecom company kumar birla led firm also consider raising funds non exceeding crore \n",
      "실제 요약 : idea proposes to become idea post merger \n",
      "예측 요약 :  idea idea merger to idea new idea\n",
      "\n",
      "\n",
      "원문 : employed buses run bangalore metropolitan transport corporation would equipped body cameras managing director state transport minister announced friday move aims resolve disputes passengers found travelling without tickets \n",
      "실제 요약 : bus in bengaluru to get body \n",
      "예측 요약 :  noida to get new vehicles\n",
      "\n",
      "\n",
      "원문 : us based research team developed called anti theft features built case made seven additional blocking protection hackers also built allow users charge phones laptops \n",
      "실제 요약 : anti with built in \n",
      "예측 요약 :  firm which can land\n",
      "\n",
      "\n",
      "원문 : senior leader former jammu kashmir minister resigned democratic party added forward formal resignation party sunday reason decision resign said followers future course action \n",
      "실제 요약 : former minister resigns from \n",
      "예측 요약 :  singh quits as chief\n",
      "\n",
      "\n",
      "원문 : actress richa chadha praising actor khanna said brilliant intelligent khanna work films like gandhi father film dil hai added richa seen together upcoming drama section \n",
      "실제 요약 : is and \n",
      "예측 요약 :  am not to work with actor\n",
      "\n",
      "\n",
      "원문 : according government rules yet notified doctors allowed sell medicines premises practising according government officials objective rule selling medicines following complaints commercial interests behaviour \n",
      "실제 요약 : government to bar doctors from selling \n",
      "예측 요약 :  govt proposes to for lakh\n",
      "\n",
      "\n",
      "원문 : facebook post supreme court judgement regarding administration delhi finance minister arun jaitley said centre opinion delhi government opinion court gives due importance opinion elected state government centre larger interest national capital added \n",
      "실제 요약 : centre delhi govt jaitley in fb post \n",
      "예측 요약 :  centre can delhi finance secretary\n",
      "\n",
      "\n",
      "원문 : cpi general secretary yechury tuesday alleged corruption black money terrorism post demonetisation six months still data much money old currency notes returned system said government let big fish bank loan defaulters india economy added \n",
      "실제 요약 : corruption terrorism post note ban \n",
      "예측 요약 :  black money to money in note ban\n",
      "\n",
      "\n",
      "원문 : video shows actress kangana ranaut taking ganga river performing ganga actress unveiled poster upcoming film manikarnika queen jhansi varanasi kangana seen portraying role rani biopic \n",
      "실제 요약 : video shows kangana taking in river \n",
      "예측 요약 :  kangana to manikarnika in\n",
      "\n",
      "\n",
      "원문 : former indian cricketer sachin tendulkar overtook mohammad become odi cricket highest run fewer odis latter sachin playing rd odi new zealand october smashed runs odi runs come odis sachin record highest odi run still \n",
      "실제 요약 : sachin record run in odis \n",
      "예측 요약 :  sachin tendulkar record of odi cricket\n",
      "\n",
      "\n",
      "원문 : visit singapore congress president rahul gandhi thursday said brought love even people adding makes different pm narendra modi accusing bjp society gandhi said extremely form politics started grow india \n",
      "실제 요약 : pm modi love even those who me rahul \n",
      "예측 요약 :  am not pm modi on rahul gandhi\n",
      "\n",
      "\n",
      "원문 : employee coffee day outlet jaipur priyanka filed fir customer named verma slapped accused verma harassment calling earlier widely shared video showed slapping verma taking video found outlet \n",
      "실제 요약 : employee files fir against she \n",
      "예측 요약 :  man who tried to enter harassment\n",
      "\n",
      "\n",
      "원문 : delhi civic bodies reportedly plan make acts public places allowing households criminal offences appropriate jail terms imprisonment one month six months depending violation comes municipal corporation officials said existing penalties weak \n",
      "실제 요약 : delhi civic bodies to jail people for \n",
      "예측 요약 :  delhi civic body to get\n",
      "\n",
      "\n",
      "원문 : china planning build ocean observatory maldives military purposes according reports located observatory also give china access important shipping route indian ocean china maldives finalised official agreement called protocol establishment joint ocean observation station last year \n",
      "실제 요약 : china may build military in reports \n",
      "예측 요약 :  china plans to build military reports\n",
      "\n",
      "\n"
     ]
    }
   ],
   "source": [
    "for i in range(50, 100):\n",
    "    print(\"원문 :\", seq2text(encoder_input_test[i]))\n",
    "    print(\"실제 요약 :\", seq2summary(decoder_input_test[i]))\n",
    "    print(\"예측 요약 :\", decode_sequence(encoder_input_test[i].reshape(1, text_max_len)))\n",
    "    print(\"\\n\")"
   ]
  },
  {
   "cell_type": "markdown",
   "metadata": {},
   "source": [
    "## Step 5. Summa을 이용해서 추출적 요약해보기"
   ]
  },
  {
   "cell_type": "code",
   "execution_count": 52,
   "metadata": {},
   "outputs": [],
   "source": [
    "import requests\n",
    "from summa.summarizer import summarize"
   ]
  },
  {
   "cell_type": "code",
   "execution_count": 65,
   "metadata": {},
   "outputs": [
    {
     "name": "stdout",
     "output_type": "stream",
     "text": [
      "원문 : google monday announced users pay bills payments interface based payment app without transaction charges feature includes bills electricity gas water well mobile bills also send bill allow users check whether paid bill \n",
      "실제 요약 : google now allows users to pay for free \n",
      "예측 요약 : \n",
      "\n",
      "\n",
      "원문 : five people including senior bank officials convicted awarded jail terms securities scam convicted made fraudulent transactions private firm andhra bank subsidiary needed funds convicted without ensuring transactions made securities \n",
      "실제 요약 : senior get up to yrs jail in scam \n",
      "예측 요약 : \n",
      "\n",
      "\n",
      "원문 : former england captain cook said side suspected australia engaged ball tampering perth test recent ashes series cook added australia managed get ball rain english could however cook added speed could also factor \n",
      "실제 요약 : england suspected ball by australia in cook \n",
      "예측 요약 : \n",
      "\n",
      "\n",
      "원문 : indian wrestler phogat become first indian athlete receive nomination world sports awards held february year old gold medals gold coast commonwealth games asian games nominated world comeback year award \n",
      "실제 요약 : st indian to be for awards \n",
      "예측 요약 : \n",
      "\n",
      "\n",
      "원문 : world expensive footballer neymar said five time ballon winner cristiano ronaldo joined juventus million change italian football football legend italian football watched child neymar added ronaldo scored goals matches nine year spell real madrid \n",
      "실제 요약 : ronaldo is will change italian football \n",
      "예측 요약 : \n",
      "\n",
      "\n",
      "원문 : chinese government banned singer justin bieber performing country engaged series bad social life previous performance china bieber perform asia later year scheduled countries like indonesia japan singapore part purpose world tour \n",
      "실제 요약 : china bans from over bad \n",
      "예측 요약 : \n",
      "\n",
      "\n",
      "원문 : pitch used india south africa test stadium rated poor icc stadium received three points five points five year period suspended international cricket year \n",
      "실제 요약 : pitch for third india south africa test poor by icc \n",
      "예측 요약 : \n",
      "\n",
      "\n",
      "원문 : shah rukh khan earlier revealed son khan wants become director said writing directing learning stuff four years shah rukh added daughter khan wants act also attend four year course theatre think study actor said \n",
      "실제 요약 : is for years srk \n",
      "예측 요약 : \n",
      "\n",
      "\n",
      "원문 : class student allegedly tied electric pole left sun around three hours attending school telangana child father punished attend school week child parents let case registered police officials said \n",
      "실제 요약 : father ties minor son to for school in \n",
      "예측 요약 : \n",
      "\n",
      "\n",
      "원문 : reporter handed six pack beer coverage hurricane harvey friday video tweeted fox news seen mid coverage woman comes frame says brought guys beer even gave hug tweeted broadcast \n",
      "실제 요약 : gives beer to journo mid \n",
      "예측 요약 : \n",
      "\n",
      "\n",
      "원문 : cbi denied confirming rape charge bjp mla kuldeep unnao rape case calling reports legislator accused raping victim home last year brother also accused beating victim father judicial custody died hours later hospital \n",
      "실제 요약 : cbi denies report it rape charge against mla \n",
      "예측 요약 : \n",
      "\n",
      "\n",
      "원문 : union railway minister piyush goyal said plans railways either ever goyal clarification came response concerns raised employee unions national railways inviting private participation areas station development rail infrastructure \n",
      "실제 요약 : no plans to railways now or ever govt \n",
      "예측 요약 : \n",
      "\n",
      "\n",
      "원문 : lost believed uk election pm theresa may british william hill took said around million majority backing may notably may lost parliamentary majority calling early election strengthen \n",
      "실제 요약 : lost lakh after on uk pm may \n",
      "예측 요약 : \n",
      "\n",
      "\n",
      "원문 : centre launched clean drive water bodies special focus yamuna delhi done ahead world environment day june hosted india year union environment ministry allocated lakh beach water body \n",
      "실제 요약 : centre launches clean up drive for water bodies \n",
      "예측 요약 : \n",
      "\n",
      "\n",
      "원문 : us president donald trump helped parents evade taxes fraud received least million today dollars father real estate according report trump reportedly strategy parents real estate holdings reduce tax bill properties transferred siblings \n",
      "실제 요약 : trump helped his parents through fraud report \n",
      "예측 요약 : \n",
      "\n",
      "\n",
      "원문 : russian lawmakers bill bar children using social media networks according reports per draft social network platforms register new users provide passport data platforms violating rule could fined \n",
      "실제 요약 : russia children under from social \n",
      "예측 요약 : \n",
      "\n",
      "\n",
      "원문 : bsp chief mayawati announced party would form alliance congress upcoming assembly elections rajasthan madhya pradesh getting defeat bjp ground reality people congress party mistakes corruption added \n",
      "실제 요약 : congress no alliance with them in mp raj mayawati \n",
      "예측 요약 : \n",
      "\n",
      "\n",
      "원문 : indian railways decided remove devices coaches express express official said railways took decision screens found damaged broken headphones stolen official added meanwhile railways planning provide free wi fi trains \n",
      "실제 요약 : to be removed from as people them \n",
      "예측 요약 : \n",
      "\n",
      "\n",
      "원문 : rejecting sri sri ravi shankar offer resolve babri masjid dispute board india muslim personal law board wednesday said spiritual leader legal standing issue comes sri sri said talk stakeholders involved issue met cm yogi adityanath \n",
      "실제 요약 : sri sri cannot the dispute board \n",
      "예측 요약 : \n",
      "\n",
      "\n",
      "원문 : yamuna expressway industrial development authority reportedly initiated action funds worth crore one directed sell units project temporary completion certificate cancelled comes sent notices crore meant completing housing projects \n",
      "실제 요약 : two noida face action for crore \n",
      "예측 요약 : \n",
      "\n",
      "\n",
      "원문 : rbi asked cooperative use word bank names violates banking regulation act central bank said neither issued licence authorised rbi undertake banking business advised public exercise dealing cooperative \n",
      "실제 요약 : rbi asks not to use bank in names \n",
      "예측 요약 : \n",
      "\n",
      "\n",
      "원문 : born october indian american physicist singh father fibre taught school light travel straight lines successfully demonstrated light transmission glass research college london published article using term fibre first time \n",
      "실제 요약 : india born the term \n",
      "예측 요약 : \n",
      "\n",
      "\n",
      "원문 : mars appear july july make closest approach earth july nasa said distance million km closest since mars closest nearly years million km repeated year \n",
      "실제 요약 : mars to be to earth in years on july nasa \n",
      "예측 요약 : \n",
      "\n",
      "\n",
      "원문 : government monday appointed revenue secretary new finance secretary gujarat ias officer involved gst rules also part gst council appointment replaced ashok achieved october \n",
      "실제 요약 : revenue secy appointed new finance secretary \n",
      "예측 요약 : \n",
      "\n",
      "\n",
      "원문 : two border security force motorcycle trick riding team entered book records riding fitted continuously hours minutes seconds record inspector kumar singh head constable kumar standing feet inch tall \n",
      "실제 요약 : bsf sets world record by bike for hrs \n",
      "예측 요약 : \n",
      "\n",
      "\n",
      "원문 : four men saturday allegedly tortured raped male dog mumbai dog went missing day spotted bleeding animal welfare non government organisation stated dog taken doctor getting \n",
      "실제 요약 : male dog raped by four men in mumbai \n",
      "예측 요약 : \n",
      "\n",
      "\n",
      "원문 : leading indian football team intercontinental cup victory brace final captain sunil chhetri took twitter thank fans backing team feeling thank india win fans filled stands home believed us wrote chhetri scored goals tournament \n",
      "실제 요약 : this win is for fans who the sunil \n",
      "예측 요약 : \n",
      "\n",
      "\n",
      "원문 : russian president vladimir putin revealed ordered shoot passenger plane reported carrying bomb targeting winter olympics ordered officials follow plan recommended situations called plane shot however threat found false alarm \n",
      "실제 요약 : putin had ordered to shoot down passenger plane in \n",
      "예측 요약 : \n",
      "\n",
      "\n",
      "원문 : auditor general india criticised food regulator issuing licences food business operators without complete documents questioning regulator quality testing said state labs added test checked food qualified food \n",
      "실제 요약 : food over poor \n",
      "예측 요약 : \n",
      "\n",
      "\n",
      "원문 : passenger filed police complaint indigo alleging airline indian currency refused accept payment food indian rupees bengaluru dubai flight indigo however said flight sales menu international flights airline accept indian currency policy line foreign exchange management act \n",
      "실제 요약 : indigo passenger denied food for paying in indian currency \n",
      "예측 요약 : \n",
      "\n",
      "\n",
      "원문 : video shared park shows letting body us attempt survive winter letting stick water state called wherein cold animals slow survive without food last four five months \n",
      "실제 요약 : us park shares pictures of with water \n",
      "예측 요약 : \n",
      "\n",
      "\n",
      "원문 : players crashed photographer celebrating team th minute winner england fifa world cup semi final wednesday players apologised photographer took turns kissing helping photographer kept taking pictures despite ground players \n",
      "실제 요약 : players crash into him during \n",
      "예측 요약 : \n",
      "\n",
      "\n",
      "원문 : british airways announced economy seats new fleet airbus airline added flights feature seats pre comfortable less four hours notably stopped serving alcohol flight meals short haul flights \n",
      "실제 요약 : british airways new planes will not let flyers seats \n",
      "예측 요약 : \n",
      "\n",
      "\n",
      "원문 : india largest airline indigo revised number faced last year times jump reported december airline claimed aviation regulator dgca asked reporting indigo faced massive engine related new airbus neo planes last year \n",
      "실제 요약 : indigo number of from to \n",
      "예측 요약 : \n",
      "\n",
      "\n",
      "원문 : british defence secretary williamson wednesday said citizens joined islamic state militant group iraq syria killed adding uk everything destroy eliminate threat williamson said quite simply view dead terrorist cannot cause harm britain \n",
      "실제 요약 : isis should be killed uk defence secretary \n",
      "예측 요약 : \n",
      "\n",
      "\n",
      "원문 : india chief asaduddin owaisi brother owaisi declared winner seat telangana assembly elections held constituency since defeated bin congress aimim seven seats telangana assembly elections \n",
      "실제 요약 : wins seat in telangana \n",
      "예측 요약 : \n",
      "\n",
      "\n",
      "원문 : idea cellular called general meeting june decide changing name vodafone idea post merger vodafone india merger expected completed june create india biggest telecom company kumar birla led firm also consider raising funds non exceeding crore \n",
      "실제 요약 : idea proposes to become idea post merger \n",
      "예측 요약 : \n",
      "\n",
      "\n",
      "원문 : employed buses run bangalore metropolitan transport corporation would equipped body cameras managing director state transport minister announced friday move aims resolve disputes passengers found travelling without tickets \n",
      "실제 요약 : bus in bengaluru to get body \n",
      "예측 요약 : \n",
      "\n",
      "\n",
      "원문 : us based research team developed called anti theft features built case made seven additional blocking protection hackers also built allow users charge phones laptops \n",
      "실제 요약 : anti with built in \n",
      "예측 요약 : \n",
      "\n",
      "\n",
      "원문 : senior leader former jammu kashmir minister resigned democratic party added forward formal resignation party sunday reason decision resign said followers future course action \n",
      "실제 요약 : former minister resigns from \n",
      "예측 요약 : \n",
      "\n",
      "\n",
      "원문 : actress richa chadha praising actor khanna said brilliant intelligent khanna work films like gandhi father film dil hai added richa seen together upcoming drama section \n",
      "실제 요약 : is and \n",
      "예측 요약 : \n",
      "\n",
      "\n",
      "원문 : according government rules yet notified doctors allowed sell medicines premises practising according government officials objective rule selling medicines following complaints commercial interests behaviour \n",
      "실제 요약 : government to bar doctors from selling \n",
      "예측 요약 : \n",
      "\n",
      "\n",
      "원문 : facebook post supreme court judgement regarding administration delhi finance minister arun jaitley said centre opinion delhi government opinion court gives due importance opinion elected state government centre larger interest national capital added \n",
      "실제 요약 : centre delhi govt jaitley in fb post \n",
      "예측 요약 : \n",
      "\n",
      "\n",
      "원문 : cpi general secretary yechury tuesday alleged corruption black money terrorism post demonetisation six months still data much money old currency notes returned system said government let big fish bank loan defaulters india economy added \n",
      "실제 요약 : corruption terrorism post note ban \n",
      "예측 요약 : \n",
      "\n",
      "\n",
      "원문 : video shows actress kangana ranaut taking ganga river performing ganga actress unveiled poster upcoming film manikarnika queen jhansi varanasi kangana seen portraying role rani biopic \n",
      "실제 요약 : video shows kangana taking in river \n",
      "예측 요약 : \n",
      "\n",
      "\n",
      "원문 : former indian cricketer sachin tendulkar overtook mohammad become odi cricket highest run fewer odis latter sachin playing rd odi new zealand october smashed runs odi runs come odis sachin record highest odi run still \n",
      "실제 요약 : sachin record run in odis \n",
      "예측 요약 : \n",
      "\n",
      "\n",
      "원문 : visit singapore congress president rahul gandhi thursday said brought love even people adding makes different pm narendra modi accusing bjp society gandhi said extremely form politics started grow india \n",
      "실제 요약 : pm modi love even those who me rahul \n",
      "예측 요약 : \n",
      "\n",
      "\n",
      "원문 : employee coffee day outlet jaipur priyanka filed fir customer named verma slapped accused verma harassment calling earlier widely shared video showed slapping verma taking video found outlet \n",
      "실제 요약 : employee files fir against she \n",
      "예측 요약 : \n",
      "\n",
      "\n",
      "원문 : delhi civic bodies reportedly plan make acts public places allowing households criminal offences appropriate jail terms imprisonment one month six months depending violation comes municipal corporation officials said existing penalties weak \n",
      "실제 요약 : delhi civic bodies to jail people for \n",
      "예측 요약 : \n",
      "\n",
      "\n",
      "원문 : china planning build ocean observatory maldives military purposes according reports located observatory also give china access important shipping route indian ocean china maldives finalised official agreement called protocol establishment joint ocean observation station last year \n",
      "실제 요약 : china may build military in reports \n",
      "예측 요약 : \n",
      "\n",
      "\n"
     ]
    }
   ],
   "source": [
    "for i in range(50, 100):\n",
    "    print(\"원문 :\", seq2text(encoder_input_test[i]))\n",
    "    print(\"실제 요약 :\", seq2summary(decoder_input_test[i]))\n",
    "    print(\"예측 요약 :\", summarize(seq2text(encoder_input_test[i]),words = 10))\n",
    "    print(\"\\n\")"
   ]
  },
  {
   "cell_type": "markdown",
   "metadata": {},
   "source": [
    "summarizer를 사용하는 경우에는 요약이 되지않는 문제가 발생하였습니다."
   ]
  }
 ],
 "metadata": {
  "kernelspec": {
   "display_name": "aiffel",
   "language": "python",
   "name": "aiffel"
  },
  "language_info": {
   "codemirror_mode": {
    "name": "ipython",
    "version": 3
   },
   "file_extension": ".py",
   "mimetype": "text/x-python",
   "name": "python",
   "nbconvert_exporter": "python",
   "pygments_lexer": "ipython3",
   "version": "3.7.7"
  }
 },
 "nbformat": 4,
 "nbformat_minor": 4
}
